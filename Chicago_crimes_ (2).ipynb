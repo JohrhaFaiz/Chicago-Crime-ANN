{
 "cells": [
  {
   "cell_type": "markdown",
   "metadata": {
    "id": "W3gAvh1Saf7d"
   },
   "source": [
    "# Setup"
   ]
  },
  {
   "cell_type": "code",
   "execution_count": null,
   "metadata": {
    "colab": {
     "base_uri": "https://localhost:8080/"
    },
    "id": "t4c0oNL5bjTi",
    "outputId": "b4be86af-1380-4019-c317-d813f4221ca5"
   },
   "outputs": [
    {
     "name": "stdout",
     "output_type": "stream",
     "text": [
      "Thu Mar 25 16:04:50 2021       \n",
      "+-----------------------------------------------------------------------------+\n",
      "| NVIDIA-SMI 460.56       Driver Version: 460.32.03    CUDA Version: 11.2     |\n",
      "|-------------------------------+----------------------+----------------------+\n",
      "| GPU  Name        Persistence-M| Bus-Id        Disp.A | Volatile Uncorr. ECC |\n",
      "| Fan  Temp  Perf  Pwr:Usage/Cap|         Memory-Usage | GPU-Util  Compute M. |\n",
      "|                               |                      |               MIG M. |\n",
      "|===============================+======================+======================|\n",
      "|   0  Tesla P100-PCIE...  Off  | 00000000:00:04.0 Off |                    0 |\n",
      "| N/A   34C    P0    26W / 250W |      0MiB / 16280MiB |      0%      Default |\n",
      "|                               |                      |                  N/A |\n",
      "+-------------------------------+----------------------+----------------------+\n",
      "                                                                               \n",
      "+-----------------------------------------------------------------------------+\n",
      "| Processes:                                                                  |\n",
      "|  GPU   GI   CI        PID   Type   Process name                  GPU Memory |\n",
      "|        ID   ID                                                   Usage      |\n",
      "|=============================================================================|\n",
      "|  No running processes found                                                 |\n",
      "+-----------------------------------------------------------------------------+\n"
     ]
    }
   ],
   "source": [
    "!nvidia-smi"
   ]
  },
  {
   "cell_type": "code",
   "execution_count": null,
   "metadata": {
    "colab": {
     "base_uri": "https://localhost:8080/"
    },
    "id": "wqs4sJGIiyq_",
    "outputId": "88ffeea9-1890-471c-eab2-0cc9026c3c33"
   },
   "outputs": [
    {
     "name": "stdout",
     "output_type": "stream",
     "text": [
      "\u001b[?25l\r",
      "\u001b[K     |█▊                              | 10kB 25.8MB/s eta 0:00:01\r",
      "\u001b[K     |███▍                            | 20kB 17.1MB/s eta 0:00:01\r",
      "\u001b[K     |█████                           | 30kB 14.4MB/s eta 0:00:01\r",
      "\u001b[K     |██████▉                         | 40kB 13.4MB/s eta 0:00:01\r",
      "\u001b[K     |████████▌                       | 51kB 8.7MB/s eta 0:00:01\r",
      "\u001b[K     |██████████▏                     | 61kB 8.1MB/s eta 0:00:01\r",
      "\u001b[K     |███████████▉                    | 71kB 9.2MB/s eta 0:00:01\r",
      "\u001b[K     |█████████████▋                  | 81kB 10.1MB/s eta 0:00:01\r",
      "\u001b[K     |███████████████▎                | 92kB 9.7MB/s eta 0:00:01\r",
      "\u001b[K     |█████████████████               | 102kB 8.3MB/s eta 0:00:01\r",
      "\u001b[K     |██████████████████▋             | 112kB 8.3MB/s eta 0:00:01\r",
      "\u001b[K     |████████████████████▍           | 122kB 8.3MB/s eta 0:00:01\r",
      "\u001b[K     |██████████████████████          | 133kB 8.3MB/s eta 0:00:01\r",
      "\u001b[K     |███████████████████████▊        | 143kB 8.3MB/s eta 0:00:01\r",
      "\u001b[K     |█████████████████████████▍      | 153kB 8.3MB/s eta 0:00:01\r",
      "\u001b[K     |███████████████████████████▏    | 163kB 8.3MB/s eta 0:00:01\r",
      "\u001b[K     |████████████████████████████▉   | 174kB 8.3MB/s eta 0:00:01\r",
      "\u001b[K     |██████████████████████████████▌ | 184kB 8.3MB/s eta 0:00:01\r",
      "\u001b[K     |████████████████████████████████| 194kB 8.3MB/s \n",
      "\u001b[K     |████████████████████████████████| 184kB 27.5MB/s \n",
      "\u001b[K     |████████████████████████████████| 776.8MB 21kB/s \n",
      "\u001b[K     |████████████████████████████████| 61kB 8.3MB/s \n",
      "\u001b[K     |████████████████████████████████| 12.8MB 244kB/s \n",
      "\u001b[31mERROR: torchtext 0.9.0 has requirement torch==1.8.0, but you'll have torch 1.7.1 which is incompatible.\u001b[0m\n",
      "\u001b[?25h"
     ]
    }
   ],
   "source": [
    "!pip install --upgrade fastai torchmetrics -qqq"
   ]
  },
  {
   "cell_type": "markdown",
   "metadata": {
    "id": "NTeq7ICvtRMx"
   },
   "source": [
    "Get the data"
   ]
  },
  {
   "cell_type": "code",
   "execution_count": null,
   "metadata": {
    "colab": {
     "base_uri": "https://localhost:8080/"
    },
    "id": "egWXwsNZaaur",
    "outputId": "8d25437f-cd5d-48ed-de58-519cdeb3c376"
   },
   "outputs": [
    {
     "name": "stdout",
     "output_type": "stream",
     "text": [
      "--2021-03-25 16:08:30--  https://data.cityofchicago.org/api/views/ijzp-q8t2/rows.csv\n",
      "Resolving data.cityofchicago.org (data.cityofchicago.org)... 52.206.140.199, 52.206.68.26, 52.206.140.205\n",
      "Connecting to data.cityofchicago.org (data.cityofchicago.org)|52.206.140.199|:443... connected.\n",
      "HTTP request sent, awaiting response... 200 OK\n",
      "Length: unspecified [text/csv]\n",
      "Saving to: ‘rows.csv’\n",
      "\n",
      "rows.csv                [               <=>  ]   1.60G  2.82MB/s    in 9m 3s   \n",
      "\n",
      "2021-03-25 16:17:33 (3.02 MB/s) - ‘rows.csv’ saved [1721603444]\n",
      "\n"
     ]
    }
   ],
   "source": [
    "!wget \"https://data.cityofchicago.org/api/views/ijzp-q8t2/rows.csv\""
   ]
  },
  {
   "cell_type": "code",
   "execution_count": null,
   "metadata": {
    "id": "DcUYfaiAewrx"
   },
   "outputs": [],
   "source": [
    "from collections import Counter, defaultdict\n",
    "from typing import Dict, List\n",
    "\n",
    "import torch\n",
    "from fastai.tabular.all import *\n",
    "from torchmetrics import F1, Accuracy, Precision, Recall\n",
    "from torch.nn.utils.convert_parameters import parameters_to_vector, vector_to_parameters\n",
    "from torch.optim import Adam, Optimizer\n",
    "\n",
    "import pandas as pd\n",
    "from tqdm.notebook import tqdm\n",
    "\n",
    "import gc"
   ]
  },
  {
   "cell_type": "markdown",
   "metadata": {
    "id": "kTbML2bMt0xp"
   },
   "source": [
    "# Data preprocessing"
   ]
  },
  {
   "cell_type": "markdown",
   "metadata": {
    "id": "iRNSsoSXtjHJ"
   },
   "source": [
    "Read the data and drop the unnecessary features (columns)"
   ]
  },
  {
   "cell_type": "code",
   "execution_count": null,
   "metadata": {
    "colab": {
     "base_uri": "https://localhost:8080/",
     "height": 402
    },
    "id": "Bpuw-d1VayXc",
    "outputId": "ef6eefbd-fd5f-46e3-e892-c2059216c745"
   },
   "outputs": [
    {
     "data": {
      "text/html": [
       "<div>\n",
       "<style scoped>\n",
       "    .dataframe tbody tr th:only-of-type {\n",
       "        vertical-align: middle;\n",
       "    }\n",
       "\n",
       "    .dataframe tbody tr th {\n",
       "        vertical-align: top;\n",
       "    }\n",
       "\n",
       "    .dataframe thead th {\n",
       "        text-align: right;\n",
       "    }\n",
       "</style>\n",
       "<table border=\"1\" class=\"dataframe\">\n",
       "  <thead>\n",
       "    <tr style=\"text-align: right;\">\n",
       "      <th></th>\n",
       "      <th>Block</th>\n",
       "      <th>Primary Type</th>\n",
       "      <th>Location Description</th>\n",
       "      <th>Beat</th>\n",
       "      <th>District</th>\n",
       "      <th>Ward</th>\n",
       "      <th>Community Area</th>\n",
       "      <th>Year</th>\n",
       "    </tr>\n",
       "  </thead>\n",
       "  <tbody>\n",
       "    <tr>\n",
       "      <th>0</th>\n",
       "      <td>043XX S WOOD ST</td>\n",
       "      <td>BATTERY</td>\n",
       "      <td>RESIDENCE</td>\n",
       "      <td>924</td>\n",
       "      <td>9.0</td>\n",
       "      <td>12.0</td>\n",
       "      <td>61.0</td>\n",
       "      <td>2015</td>\n",
       "    </tr>\n",
       "    <tr>\n",
       "      <th>1</th>\n",
       "      <td>008XX N CENTRAL AVE</td>\n",
       "      <td>THEFT</td>\n",
       "      <td>CTA BUS</td>\n",
       "      <td>1511</td>\n",
       "      <td>15.0</td>\n",
       "      <td>29.0</td>\n",
       "      <td>25.0</td>\n",
       "      <td>2015</td>\n",
       "    </tr>\n",
       "    <tr>\n",
       "      <th>2</th>\n",
       "      <td>082XX S INGLESIDE AVE</td>\n",
       "      <td>THEFT</td>\n",
       "      <td>RESIDENCE</td>\n",
       "      <td>631</td>\n",
       "      <td>6.0</td>\n",
       "      <td>8.0</td>\n",
       "      <td>44.0</td>\n",
       "      <td>2018</td>\n",
       "    </tr>\n",
       "    <tr>\n",
       "      <th>3</th>\n",
       "      <td>035XX W BARRY AVE</td>\n",
       "      <td>NARCOTICS</td>\n",
       "      <td>SIDEWALK</td>\n",
       "      <td>1412</td>\n",
       "      <td>14.0</td>\n",
       "      <td>35.0</td>\n",
       "      <td>21.0</td>\n",
       "      <td>2015</td>\n",
       "    </tr>\n",
       "    <tr>\n",
       "      <th>4</th>\n",
       "      <td>0000X N LARAMIE AVE</td>\n",
       "      <td>ASSAULT</td>\n",
       "      <td>APARTMENT</td>\n",
       "      <td>1522</td>\n",
       "      <td>15.0</td>\n",
       "      <td>28.0</td>\n",
       "      <td>25.0</td>\n",
       "      <td>2015</td>\n",
       "    </tr>\n",
       "    <tr>\n",
       "      <th>...</th>\n",
       "      <td>...</td>\n",
       "      <td>...</td>\n",
       "      <td>...</td>\n",
       "      <td>...</td>\n",
       "      <td>...</td>\n",
       "      <td>...</td>\n",
       "      <td>...</td>\n",
       "      <td>...</td>\n",
       "    </tr>\n",
       "    <tr>\n",
       "      <th>7296597</th>\n",
       "      <td>057XX S PRINCETON AVE</td>\n",
       "      <td>DECEPTIVE PRACTICE</td>\n",
       "      <td>RESIDENCE</td>\n",
       "      <td>711</td>\n",
       "      <td>7.0</td>\n",
       "      <td>20.0</td>\n",
       "      <td>68.0</td>\n",
       "      <td>2020</td>\n",
       "    </tr>\n",
       "    <tr>\n",
       "      <th>7296598</th>\n",
       "      <td>080XX S INDIANA AVE</td>\n",
       "      <td>THEFT</td>\n",
       "      <td>RESIDENCE</td>\n",
       "      <td>623</td>\n",
       "      <td>6.0</td>\n",
       "      <td>6.0</td>\n",
       "      <td>44.0</td>\n",
       "      <td>2020</td>\n",
       "    </tr>\n",
       "    <tr>\n",
       "      <th>7296599</th>\n",
       "      <td>079XX S ELLIS AVE</td>\n",
       "      <td>OTHER OFFENSE</td>\n",
       "      <td>APARTMENT</td>\n",
       "      <td>624</td>\n",
       "      <td>6.0</td>\n",
       "      <td>8.0</td>\n",
       "      <td>44.0</td>\n",
       "      <td>2021</td>\n",
       "    </tr>\n",
       "    <tr>\n",
       "      <th>7296600</th>\n",
       "      <td>010XX W TAYLOR ST</td>\n",
       "      <td>NARCOTICS</td>\n",
       "      <td>STREET</td>\n",
       "      <td>1232</td>\n",
       "      <td>12.0</td>\n",
       "      <td>11.0</td>\n",
       "      <td>28.0</td>\n",
       "      <td>2021</td>\n",
       "    </tr>\n",
       "    <tr>\n",
       "      <th>7296601</th>\n",
       "      <td>030XX N NARRAGANSETT AVE</td>\n",
       "      <td>DECEPTIVE PRACTICE</td>\n",
       "      <td>RESIDENCE</td>\n",
       "      <td>2511</td>\n",
       "      <td>25.0</td>\n",
       "      <td>36.0</td>\n",
       "      <td>19.0</td>\n",
       "      <td>2021</td>\n",
       "    </tr>\n",
       "  </tbody>\n",
       "</table>\n",
       "<p>7296602 rows × 8 columns</p>\n",
       "</div>"
      ],
      "text/plain": [
       "                            Block        Primary Type  ... Community Area  Year\n",
       "0                 043XX S WOOD ST             BATTERY  ...           61.0  2015\n",
       "1             008XX N CENTRAL AVE               THEFT  ...           25.0  2015\n",
       "2           082XX S INGLESIDE AVE               THEFT  ...           44.0  2018\n",
       "3               035XX W BARRY AVE           NARCOTICS  ...           21.0  2015\n",
       "4             0000X N LARAMIE AVE             ASSAULT  ...           25.0  2015\n",
       "...                           ...                 ...  ...            ...   ...\n",
       "7296597     057XX S PRINCETON AVE  DECEPTIVE PRACTICE  ...           68.0  2020\n",
       "7296598       080XX S INDIANA AVE               THEFT  ...           44.0  2020\n",
       "7296599         079XX S ELLIS AVE       OTHER OFFENSE  ...           44.0  2021\n",
       "7296600         010XX W TAYLOR ST           NARCOTICS  ...           28.0  2021\n",
       "7296601  030XX N NARRAGANSETT AVE  DECEPTIVE PRACTICE  ...           19.0  2021\n",
       "\n",
       "[7296602 rows x 8 columns]"
      ]
     },
     "execution_count": 5,
     "metadata": {
      "tags": []
     },
     "output_type": "execute_result"
    }
   ],
   "source": [
    "data = pd.read_csv(\"./rows.csv\")\n",
    "data.drop(\n",
    "    [\n",
    "        \"ID\",\n",
    "        \"Case Number\",\n",
    "        \"IUCR\",\n",
    "        \"Description\",\n",
    "        \"Arrest\",\n",
    "        \"FBI Code\",\n",
    "        \"Latitude\",\n",
    "        \"Longitude\",\n",
    "        \"Location\",\n",
    "        \"Updated On\",\n",
    "        \"Date\",\n",
    "        \"X Coordinate\",\n",
    "        \"Y Coordinate\",\n",
    "        \"Domestic\",\n",
    "    ],\n",
    "    axis=1,\n",
    "    inplace=True,\n",
    ")\n",
    "\n",
    "data"
   ]
  },
  {
   "cell_type": "markdown",
   "metadata": {
    "id": "rOSZV-iPB48T"
   },
   "source": [
    "For reproducibility purposes, we will only consider cases that happened in 2020 or earlier"
   ]
  },
  {
   "cell_type": "code",
   "execution_count": null,
   "metadata": {
    "id": "YY1AQyuuE0_2"
   },
   "outputs": [],
   "source": [
    "data.drop(data[data[\"Year\"] > 2020].index, inplace=True)\n",
    "data.reset_index(drop=True, inplace=True)"
   ]
  },
  {
   "cell_type": "code",
   "execution_count": null,
   "metadata": {
    "colab": {
     "base_uri": "https://localhost:8080/"
    },
    "id": "KxKk5RrqLiQ-",
    "outputId": "2e320b89-5fbe-4d9a-f343-d465b0551604"
   },
   "outputs": [
    {
     "data": {
      "text/plain": [
       "7260345"
      ]
     },
     "execution_count": 7,
     "metadata": {
      "tags": []
     },
     "output_type": "execute_result"
    }
   ],
   "source": [
    "len(data)"
   ]
  },
  {
   "cell_type": "markdown",
   "metadata": {
    "id": "pHzXqUJRvX6f"
   },
   "source": [
    "## Missing values"
   ]
  },
  {
   "cell_type": "markdown",
   "metadata": {
    "id": "RMLh1jv1veIX"
   },
   "source": [
    "Percentage of missing values in each column"
   ]
  },
  {
   "cell_type": "code",
   "execution_count": null,
   "metadata": {
    "colab": {
     "base_uri": "https://localhost:8080/"
    },
    "id": "xwneD4_JCw4u",
    "outputId": "03c15bfd-1f5f-498a-c35e-1d73b376c2a0"
   },
   "outputs": [
    {
     "data": {
      "text/plain": [
       "Block                   0.000000\n",
       "Primary Type            0.000000\n",
       "Location Description    0.109155\n",
       "Beat                    0.000000\n",
       "District                0.000647\n",
       "Ward                    8.468372\n",
       "Community Area          8.449791\n",
       "Year                    0.000000\n",
       "dtype: float64"
      ]
     },
     "execution_count": 9,
     "metadata": {
      "tags": []
     },
     "output_type": "execute_result"
    }
   ],
   "source": [
    "data.isnull().sum() / len(data) * 100"
   ]
  },
  {
   "cell_type": "code",
   "execution_count": null,
   "metadata": {
    "id": "RaPG_FQdfT7A"
   },
   "outputs": [],
   "source": [
    "# Location Description already has a value called `OTHER` so we'll use it\n",
    "\n",
    "data[\"Location Description\"].fillna(\"OTHER\", inplace=True)"
   ]
  },
  {
   "cell_type": "code",
   "execution_count": null,
   "metadata": {
    "id": "PTT7h1GkfdFQ"
   },
   "outputs": [],
   "source": [
    "# Fill missing values with the most common value\n",
    "\n",
    "most_common = data[\"District\"].mode().values[0]             # most common value\n",
    "data[\"District\"].fillna(value=most_common, inplace=True)    \n",
    "\n",
    "data[\"District\"] = data[\"District\"].astype(int)             # District should be an integer"
   ]
  },
  {
   "cell_type": "markdown",
   "metadata": {
    "id": "AgmMwSPUwN7P"
   },
   "source": [
    "The columns **Ward** and **Community Area** have about **600K** lines with missing values, so we cant' just replace them with the most common value.\n",
    "\n",
    "Instead, we'll make use of the observation that most the features in our dataset are spatial features, furthermore they are heirarchical features.\n",
    "\n",
    "For example, **Block** is the *smallest* spatial feature.\n",
    "\n",
    "**Beat**: Three to five beats make up a police sector, and three sectors make up a police **District**.\n",
    "\n",
    "**Block**s can also be organized into **Ward**s and **Community Area**s.\n",
    "\n",
    "So, if a block is seen once in the dataset with a specific ward or community area, then it makes sense that the block and its corresponding ward (or community area) will always come together.\n",
    "\n",
    "The same applies for Beat and District."
   ]
  },
  {
   "cell_type": "markdown",
   "metadata": {
    "id": "qF1u1An-yYbd"
   },
   "source": [
    "This function implements of the above observation"
   ]
  },
  {
   "cell_type": "code",
   "execution_count": null,
   "metadata": {
    "id": "Ht6PA7HQfiHo"
   },
   "outputs": [],
   "source": [
    "def impute(df, known_columns: List[str], unknown_col: str) -> Dict:\n",
    "    \"\"\"Fills missing values in `unknown_col` by using information from `known_columns`\n",
    "\n",
    "    Args:\n",
    "        df (DataFrame): the data\n",
    "        known_columns (List[str]): columns that don't have any missing values\n",
    "        unknown_col (str): name of the column that has missing values\n",
    "\n",
    "    Returns:\n",
    "        Dict: a dictionary that contains found missing values, keys are rows indices and values are the found values\n",
    "    \"\"\"\n",
    "    found = dict()\n",
    "\n",
    "    for known_col in known_columns:\n",
    "        known2unknown = defaultdict(Counter)\n",
    "\n",
    "        for known_el, unknown_el in zip(df[known_col], df[unknown_col]):\n",
    "            if pd.notnull(unknown_el): # if it's not a missing value\n",
    "                known2unknown[known_el].update([unknown_el])\n",
    "\n",
    "        for idx, (known_el, unknown_el) in enumerate(zip(df[known_col], df[unknown_col])):\n",
    "            if pd.isnull(unknown_el) and known_el in known2unknown:\n",
    "                found[idx] = known2unknown[known_el].most_common(n=1)[0][0] # take the most common value associated with `known_el`\n",
    "\n",
    "    return found"
   ]
  },
  {
   "cell_type": "code",
   "execution_count": null,
   "metadata": {
    "id": "KyqVVgAtg1R4"
   },
   "outputs": [],
   "source": [
    "# impute the missing values in Ward based on the values in Block, Beat and District\n",
    "\n",
    "imputed_ward = impute(data, [\"Block\", \"Beat\", \"District\"], \"Ward\")"
   ]
  },
  {
   "cell_type": "code",
   "execution_count": null,
   "metadata": {
    "id": "xkUVwribrh1z"
   },
   "outputs": [],
   "source": [
    "data.loc[imputed_ward.keys(), \"Ward\"] = list(imputed_ward.values())"
   ]
  },
  {
   "cell_type": "code",
   "execution_count": null,
   "metadata": {
    "colab": {
     "base_uri": "https://localhost:8080/"
    },
    "id": "XYzNVAv5hhqN",
    "outputId": "9017d35a-1b3c-4353-9e06-2c2d5bd35922"
   },
   "outputs": [
    {
     "data": {
      "text/plain": [
       "0"
      ]
     },
     "execution_count": 15,
     "metadata": {
      "tags": []
     },
     "output_type": "execute_result"
    }
   ],
   "source": [
    "# check the number of new missing values\n",
    "data[\"Ward\"].isnull().sum()"
   ]
  },
  {
   "cell_type": "markdown",
   "metadata": {
    "id": "p7nT8zq8y0ik"
   },
   "source": [
    "Repeat the same process for **Community Area**"
   ]
  },
  {
   "cell_type": "code",
   "execution_count": null,
   "metadata": {
    "id": "YtIhwWovhrFe"
   },
   "outputs": [],
   "source": [
    "imputed_comm_area = impute(data, [\"Block\", \"Beat\", \"District\"], \"Community Area\")"
   ]
  },
  {
   "cell_type": "code",
   "execution_count": null,
   "metadata": {
    "id": "9pfVuNXisQ5w"
   },
   "outputs": [],
   "source": [
    "data.loc[imputed_comm_area.keys(), \"Community Area\"] = list(imputed_comm_area.values())"
   ]
  },
  {
   "cell_type": "code",
   "execution_count": null,
   "metadata": {
    "colab": {
     "base_uri": "https://localhost:8080/"
    },
    "id": "pe_yaqZdhyLy",
    "outputId": "36d5ebf5-3438-4c8b-948a-97f93c1eb690"
   },
   "outputs": [
    {
     "data": {
      "text/plain": [
       "0"
      ]
     },
     "execution_count": 19,
     "metadata": {
      "tags": []
     },
     "output_type": "execute_result"
    }
   ],
   "source": [
    "data[\"Community Area\"].isnull().sum()"
   ]
  },
  {
   "cell_type": "markdown",
   "metadata": {
    "id": "a3D9jWjAy7u2"
   },
   "source": [
    "No more missing values are left in the dataset"
   ]
  },
  {
   "cell_type": "code",
   "execution_count": null,
   "metadata": {
    "colab": {
     "base_uri": "https://localhost:8080/"
    },
    "id": "jD1B38I-h0d1",
    "outputId": "365d5096-d476-41bc-ca66-8febc5127eab"
   },
   "outputs": [
    {
     "data": {
      "text/plain": [
       "Block                   0.0\n",
       "Primary Type            0.0\n",
       "Location Description    0.0\n",
       "Beat                    0.0\n",
       "District                0.0\n",
       "Ward                    0.0\n",
       "Community Area          0.0\n",
       "Year                    0.0\n",
       "dtype: float64"
      ]
     },
     "execution_count": 20,
     "metadata": {
      "tags": []
     },
     "output_type": "execute_result"
    }
   ],
   "source": [
    "data.isnull().sum() / len(data) * 100"
   ]
  },
  {
   "cell_type": "code",
   "execution_count": null,
   "metadata": {
    "id": "1CbPlUh6h7uM"
   },
   "outputs": [],
   "source": [
    "# these should be integers\n",
    "data[\"Ward\"] = data[\"Ward\"].astype(int)\n",
    "data[\"Community Area\"] = data[\"Community Area\"].astype(int)"
   ]
  },
  {
   "cell_type": "markdown",
   "metadata": {
    "id": "gB584d71tzdo"
   },
   "source": [
    "## Feature Engineering"
   ]
  },
  {
   "cell_type": "markdown",
   "metadata": {
    "id": "eclMIbKkuFXn"
   },
   "source": [
    "In this section, we will reduce the number of types and group them into smaller number of categories"
   ]
  },
  {
   "cell_type": "markdown",
   "metadata": {
    "id": "QmMChZbIupRi"
   },
   "source": [
    "Here we check how many type we have"
   ]
  },
  {
   "cell_type": "code",
   "execution_count": null,
   "metadata": {
    "colab": {
     "base_uri": "https://localhost:8080/"
    },
    "id": "6xMCiyrZuqY4",
    "outputId": "cb19678f-b611-4924-face-9abb61013a5f"
   },
   "outputs": [
    {
     "data": {
      "text/plain": [
       "THEFT                                1531023\n",
       "BATTERY                              1329392\n",
       "CRIMINAL DAMAGE                       826525\n",
       "NARCOTICS                             735909\n",
       "ASSAULT                               459926\n",
       "OTHER OFFENSE                         450336\n",
       "BURGLARY                              407958\n",
       "MOTOR VEHICLE THEFT                   334507\n",
       "DECEPTIVE PRACTICE                    305004\n",
       "ROBBERY                               272795\n",
       "CRIMINAL TRESPASS                     205226\n",
       "WEAPONS VIOLATION                      86148\n",
       "PROSTITUTION                           69371\n",
       "PUBLIC PEACE VIOLATION                 50770\n",
       "OFFENSE INVOLVING CHILDREN             50529\n",
       "CRIM SEXUAL ASSAULT                    27944\n",
       "SEX OFFENSE                            27760\n",
       "INTERFERENCE WITH PUBLIC OFFICER       17499\n",
       "GAMBLING                               14594\n",
       "LIQUOR LAW VIOLATION                   14459\n",
       "ARSON                                  12165\n",
       "HOMICIDE                               10835\n",
       "KIDNAPPING                              6979\n",
       "INTIMIDATION                            4285\n",
       "STALKING                                3834\n",
       "CRIMINAL SEXUAL ASSAULT                 2567\n",
       "OBSCENITY                                701\n",
       "CONCEALED CARRY LICENSE VIOLATION        668\n",
       "PUBLIC INDECENCY                         184\n",
       "NON-CRIMINAL                             172\n",
       "OTHER NARCOTIC VIOLATION                 138\n",
       "HUMAN TRAFFICKING                         70\n",
       "NON - CRIMINAL                            38\n",
       "RITUALISM                                 24\n",
       "NON-CRIMINAL (SUBJECT SPECIFIED)           9\n",
       "DOMESTIC VIOLENCE                          1\n",
       "Name: Primary Type, dtype: int64"
      ]
     },
     "execution_count": 22,
     "metadata": {
      "tags": []
     },
     "output_type": "execute_result"
    }
   ],
   "source": [
    "data['Primary Type'].value_counts()"
   ]
  },
  {
   "cell_type": "markdown",
   "metadata": {
    "id": "Pe9ekI7tvP94"
   },
   "source": [
    "Here we create a dictionary to categorize the crime types into smaller categories as all of the types in the dictionary's values will be replaced by the corresponding key value."
   ]
  },
  {
   "cell_type": "code",
   "execution_count": null,
   "metadata": {
    "id": "pL6dp9yGeucq"
   },
   "outputs": [],
   "source": [
    "categories = {\n",
    "    \"forbidden practices\": [\"narcotics\", \"prostitution\", \"gambling\", \"obscenity\", \"narcotic violation\"],\n",
    "    \"theft\": [\"burglary\", \"deceptive practice\", \"motor vehicle theft\", \"robbery\"],\n",
    "    \"assault\": [\n",
    "        \"crime sexual assault\",\n",
    "        \"offense involving children\",\n",
    "        \"sex offense\",\n",
    "        \"homicide\",\n",
    "        \"human trafficking\",\n",
    "        \"criminal sexual assault\",\n",
    "        \"assault\",\n",
    "    ],\n",
    "    \"public peace violation\": [\n",
    "        \"weapons violation\",\n",
    "        \"criminal defacement\",\n",
    "        \"criminal trespass\",\n",
    "        \"arson\",\n",
    "        \"kidnapping\",\n",
    "        \"stalking\",\n",
    "        \"intimidation\",\n",
    "        \"public indecency\",\n",
    "    ],\n",
    "}\n",
    "\n",
    "for category in categories:\n",
    "    data[\"Primary Type\"].replace([x.upper() for x in categories[category]], category.upper(), inplace=True)"
   ]
  },
  {
   "cell_type": "markdown",
   "metadata": {
    "id": "2vsvq6xtvUax"
   },
   "source": [
    "Now we check the new types in the dataset"
   ]
  },
  {
   "cell_type": "code",
   "execution_count": null,
   "metadata": {
    "colab": {
     "base_uri": "https://localhost:8080/"
    },
    "id": "Uk60S_oVvVOY",
    "outputId": "fc8429fa-316d-4f10-c10b-417d5474ef09"
   },
   "outputs": [
    {
     "data": {
      "text/plain": [
       "THEFT                                2851287\n",
       "BATTERY                              1329392\n",
       "CRIMINAL DAMAGE                       826525\n",
       "FORBIDDEN PRACTICES                   820575\n",
       "ASSAULT                               551687\n",
       "OTHER OFFENSE                         450336\n",
       "PUBLIC PEACE VIOLATION                369591\n",
       "CRIM SEXUAL ASSAULT                    27944\n",
       "INTERFERENCE WITH PUBLIC OFFICER       17499\n",
       "LIQUOR LAW VIOLATION                   14459\n",
       "CONCEALED CARRY LICENSE VIOLATION        668\n",
       "NON-CRIMINAL                             172\n",
       "OTHER NARCOTIC VIOLATION                 138\n",
       "NON - CRIMINAL                            38\n",
       "RITUALISM                                 24\n",
       "NON-CRIMINAL (SUBJECT SPECIFIED)           9\n",
       "DOMESTIC VIOLENCE                          1\n",
       "Name: Primary Type, dtype: int64"
      ]
     },
     "execution_count": 24,
     "metadata": {
      "tags": []
     },
     "output_type": "execute_result"
    }
   ],
   "source": [
    "data['Primary Type'].value_counts()"
   ]
  },
  {
   "cell_type": "markdown",
   "metadata": {
    "id": "YoC73ee40nDS"
   },
   "source": [
    "## Final dataset"
   ]
  },
  {
   "cell_type": "code",
   "execution_count": null,
   "metadata": {
    "colab": {
     "base_uri": "https://localhost:8080/",
     "height": 402
    },
    "id": "mLitttQ_iDjN",
    "outputId": "10843b87-02aa-43e1-e21b-5793fc2f7326"
   },
   "outputs": [
    {
     "data": {
      "text/html": [
       "<div>\n",
       "<style scoped>\n",
       "    .dataframe tbody tr th:only-of-type {\n",
       "        vertical-align: middle;\n",
       "    }\n",
       "\n",
       "    .dataframe tbody tr th {\n",
       "        vertical-align: top;\n",
       "    }\n",
       "\n",
       "    .dataframe thead th {\n",
       "        text-align: right;\n",
       "    }\n",
       "</style>\n",
       "<table border=\"1\" class=\"dataframe\">\n",
       "  <thead>\n",
       "    <tr style=\"text-align: right;\">\n",
       "      <th></th>\n",
       "      <th>Block</th>\n",
       "      <th>Primary Type</th>\n",
       "      <th>Location Description</th>\n",
       "      <th>Beat</th>\n",
       "      <th>District</th>\n",
       "      <th>Ward</th>\n",
       "      <th>Community Area</th>\n",
       "      <th>Year</th>\n",
       "    </tr>\n",
       "  </thead>\n",
       "  <tbody>\n",
       "    <tr>\n",
       "      <th>0</th>\n",
       "      <td>043XX S WOOD ST</td>\n",
       "      <td>BATTERY</td>\n",
       "      <td>RESIDENCE</td>\n",
       "      <td>924</td>\n",
       "      <td>9</td>\n",
       "      <td>12</td>\n",
       "      <td>61</td>\n",
       "      <td>2015</td>\n",
       "    </tr>\n",
       "    <tr>\n",
       "      <th>1</th>\n",
       "      <td>008XX N CENTRAL AVE</td>\n",
       "      <td>THEFT</td>\n",
       "      <td>CTA BUS</td>\n",
       "      <td>1511</td>\n",
       "      <td>15</td>\n",
       "      <td>29</td>\n",
       "      <td>25</td>\n",
       "      <td>2015</td>\n",
       "    </tr>\n",
       "    <tr>\n",
       "      <th>2</th>\n",
       "      <td>082XX S INGLESIDE AVE</td>\n",
       "      <td>THEFT</td>\n",
       "      <td>RESIDENCE</td>\n",
       "      <td>631</td>\n",
       "      <td>6</td>\n",
       "      <td>8</td>\n",
       "      <td>44</td>\n",
       "      <td>2018</td>\n",
       "    </tr>\n",
       "    <tr>\n",
       "      <th>3</th>\n",
       "      <td>035XX W BARRY AVE</td>\n",
       "      <td>FORBIDDEN PRACTICES</td>\n",
       "      <td>SIDEWALK</td>\n",
       "      <td>1412</td>\n",
       "      <td>14</td>\n",
       "      <td>35</td>\n",
       "      <td>21</td>\n",
       "      <td>2015</td>\n",
       "    </tr>\n",
       "    <tr>\n",
       "      <th>4</th>\n",
       "      <td>0000X N LARAMIE AVE</td>\n",
       "      <td>ASSAULT</td>\n",
       "      <td>APARTMENT</td>\n",
       "      <td>1522</td>\n",
       "      <td>15</td>\n",
       "      <td>28</td>\n",
       "      <td>25</td>\n",
       "      <td>2015</td>\n",
       "    </tr>\n",
       "    <tr>\n",
       "      <th>...</th>\n",
       "      <td>...</td>\n",
       "      <td>...</td>\n",
       "      <td>...</td>\n",
       "      <td>...</td>\n",
       "      <td>...</td>\n",
       "      <td>...</td>\n",
       "      <td>...</td>\n",
       "      <td>...</td>\n",
       "    </tr>\n",
       "    <tr>\n",
       "      <th>7260340</th>\n",
       "      <td>046XX W BELMONT AVE</td>\n",
       "      <td>THEFT</td>\n",
       "      <td>STREET</td>\n",
       "      <td>2521</td>\n",
       "      <td>25</td>\n",
       "      <td>31</td>\n",
       "      <td>19</td>\n",
       "      <td>2020</td>\n",
       "    </tr>\n",
       "    <tr>\n",
       "      <th>7260341</th>\n",
       "      <td>022XX W WARREN BLVD</td>\n",
       "      <td>ASSAULT</td>\n",
       "      <td>APARTMENT</td>\n",
       "      <td>1223</td>\n",
       "      <td>12</td>\n",
       "      <td>27</td>\n",
       "      <td>28</td>\n",
       "      <td>2020</td>\n",
       "    </tr>\n",
       "    <tr>\n",
       "      <th>7260342</th>\n",
       "      <td>062XX S ALBANY AVE</td>\n",
       "      <td>ASSAULT</td>\n",
       "      <td>RESIDENCE</td>\n",
       "      <td>823</td>\n",
       "      <td>8</td>\n",
       "      <td>16</td>\n",
       "      <td>66</td>\n",
       "      <td>2020</td>\n",
       "    </tr>\n",
       "    <tr>\n",
       "      <th>7260343</th>\n",
       "      <td>057XX S PRINCETON AVE</td>\n",
       "      <td>THEFT</td>\n",
       "      <td>RESIDENCE</td>\n",
       "      <td>711</td>\n",
       "      <td>7</td>\n",
       "      <td>20</td>\n",
       "      <td>68</td>\n",
       "      <td>2020</td>\n",
       "    </tr>\n",
       "    <tr>\n",
       "      <th>7260344</th>\n",
       "      <td>080XX S INDIANA AVE</td>\n",
       "      <td>THEFT</td>\n",
       "      <td>RESIDENCE</td>\n",
       "      <td>623</td>\n",
       "      <td>6</td>\n",
       "      <td>6</td>\n",
       "      <td>44</td>\n",
       "      <td>2020</td>\n",
       "    </tr>\n",
       "  </tbody>\n",
       "</table>\n",
       "<p>7260345 rows × 8 columns</p>\n",
       "</div>"
      ],
      "text/plain": [
       "                         Block         Primary Type  ... Community Area  Year\n",
       "0              043XX S WOOD ST              BATTERY  ...             61  2015\n",
       "1          008XX N CENTRAL AVE                THEFT  ...             25  2015\n",
       "2        082XX S INGLESIDE AVE                THEFT  ...             44  2018\n",
       "3            035XX W BARRY AVE  FORBIDDEN PRACTICES  ...             21  2015\n",
       "4          0000X N LARAMIE AVE              ASSAULT  ...             25  2015\n",
       "...                        ...                  ...  ...            ...   ...\n",
       "7260340    046XX W BELMONT AVE                THEFT  ...             19  2020\n",
       "7260341    022XX W WARREN BLVD              ASSAULT  ...             28  2020\n",
       "7260342     062XX S ALBANY AVE              ASSAULT  ...             66  2020\n",
       "7260343  057XX S PRINCETON AVE                THEFT  ...             68  2020\n",
       "7260344    080XX S INDIANA AVE                THEFT  ...             44  2020\n",
       "\n",
       "[7260345 rows x 8 columns]"
      ]
     },
     "execution_count": 25,
     "metadata": {
      "tags": []
     },
     "output_type": "execute_result"
    }
   ],
   "source": [
    "data"
   ]
  },
  {
   "cell_type": "code",
   "execution_count": null,
   "metadata": {
    "id": "wfXRnzYeiFa1"
   },
   "outputs": [],
   "source": [
    "data.to_feather(\"processed.feather\")"
   ]
  },
  {
   "cell_type": "markdown",
   "metadata": {
    "id": "dBcjJ9Jjp42d"
   },
   "source": [
    "# Modeling"
   ]
  },
  {
   "cell_type": "code",
   "execution_count": null,
   "metadata": {
    "id": "pZ9f17gEiG4V"
   },
   "outputs": [],
   "source": [
    "def set_seed(seed=0):\n",
    "    torch.manual_seed(seed)\n",
    "    torch.cuda.manual_seed_all(seed)\n",
    "\n",
    "set_seed()"
   ]
  },
  {
   "cell_type": "markdown",
   "metadata": {
    "id": "7wgjx2HE1f9p"
   },
   "source": [
    "## Create train/validation datasets and dataloaders"
   ]
  },
  {
   "cell_type": "code",
   "execution_count": null,
   "metadata": {
    "id": "vE41vCo-jC8M"
   },
   "outputs": [],
   "source": [
    "splits = RandomSplitter(valid_pct=0.05, seed=0)(range_of(data))\n",
    "\n",
    "prepared_df = TabularPandas(\n",
    "    data,\n",
    "    cat_names=['Block', 'Location Description', 'Beat', 'District', 'Ward', 'Community Area', 'Year'], # categorical variables\n",
    "    y_names=\"Primary Type\",\n",
    "    procs=[Categorify], # converts categorical variables to integers under the hood\n",
    "    splits=splits,\n",
    ")\n",
    "\n",
    "dataloaders = prepared_df.dataloaders(bs=64) # batch size = 64"
   ]
  },
  {
   "cell_type": "code",
   "execution_count": null,
   "metadata": {
    "colab": {
     "base_uri": "https://localhost:8080/",
     "height": 343
    },
    "id": "HOXLY-N1jYaM",
    "outputId": "9e65a0f2-c689-45b4-80b2-71d1440431e5"
   },
   "outputs": [
    {
     "data": {
      "text/html": [
       "<table border=\"1\" class=\"dataframe\">\n",
       "  <thead>\n",
       "    <tr style=\"text-align: right;\">\n",
       "      <th></th>\n",
       "      <th>Block</th>\n",
       "      <th>Location Description</th>\n",
       "      <th>Beat</th>\n",
       "      <th>District</th>\n",
       "      <th>Ward</th>\n",
       "      <th>Community Area</th>\n",
       "      <th>Year</th>\n",
       "      <th>Primary Type</th>\n",
       "    </tr>\n",
       "  </thead>\n",
       "  <tbody>\n",
       "    <tr>\n",
       "      <th>0</th>\n",
       "      <td>023XX W BELDEN AVE</td>\n",
       "      <td>RESIDENCE</td>\n",
       "      <td>1432</td>\n",
       "      <td>14</td>\n",
       "      <td>32</td>\n",
       "      <td>22</td>\n",
       "      <td>2019</td>\n",
       "      <td>THEFT</td>\n",
       "    </tr>\n",
       "    <tr>\n",
       "      <th>1</th>\n",
       "      <td>026XX S INDIANA AVE</td>\n",
       "      <td>APARTMENT</td>\n",
       "      <td>2112</td>\n",
       "      <td>1</td>\n",
       "      <td>2</td>\n",
       "      <td>35</td>\n",
       "      <td>2004</td>\n",
       "      <td>BATTERY</td>\n",
       "    </tr>\n",
       "    <tr>\n",
       "      <th>2</th>\n",
       "      <td>067XX W BELMONT AV</td>\n",
       "      <td>AIRPORT/AIRCRAFT</td>\n",
       "      <td>1632</td>\n",
       "      <td>16</td>\n",
       "      <td>41</td>\n",
       "      <td>15</td>\n",
       "      <td>2001</td>\n",
       "      <td>THEFT</td>\n",
       "    </tr>\n",
       "    <tr>\n",
       "      <th>3</th>\n",
       "      <td>078XX S CORNELL AVE</td>\n",
       "      <td>RESIDENCE</td>\n",
       "      <td>411</td>\n",
       "      <td>4</td>\n",
       "      <td>8</td>\n",
       "      <td>43</td>\n",
       "      <td>2020</td>\n",
       "      <td>THEFT</td>\n",
       "    </tr>\n",
       "    <tr>\n",
       "      <th>4</th>\n",
       "      <td>022XX S ARCHER AVE</td>\n",
       "      <td>GROCERY FOOD STORE</td>\n",
       "      <td>923</td>\n",
       "      <td>9</td>\n",
       "      <td>25</td>\n",
       "      <td>34</td>\n",
       "      <td>2007</td>\n",
       "      <td>BATTERY</td>\n",
       "    </tr>\n",
       "    <tr>\n",
       "      <th>5</th>\n",
       "      <td>046XX S HALSTED ST</td>\n",
       "      <td>GROCERY FOOD STORE</td>\n",
       "      <td>921</td>\n",
       "      <td>9</td>\n",
       "      <td>11</td>\n",
       "      <td>61</td>\n",
       "      <td>2005</td>\n",
       "      <td>THEFT</td>\n",
       "    </tr>\n",
       "    <tr>\n",
       "      <th>6</th>\n",
       "      <td>004XX E 63RD ST</td>\n",
       "      <td>GROCERY FOOD STORE</td>\n",
       "      <td>313</td>\n",
       "      <td>3</td>\n",
       "      <td>20</td>\n",
       "      <td>42</td>\n",
       "      <td>2003</td>\n",
       "      <td>LIQUOR LAW VIOLATION</td>\n",
       "    </tr>\n",
       "    <tr>\n",
       "      <th>7</th>\n",
       "      <td>021XX W POTOMAC AVE</td>\n",
       "      <td>SIDEWALK</td>\n",
       "      <td>1424</td>\n",
       "      <td>14</td>\n",
       "      <td>32</td>\n",
       "      <td>24</td>\n",
       "      <td>2008</td>\n",
       "      <td>ASSAULT</td>\n",
       "    </tr>\n",
       "    <tr>\n",
       "      <th>8</th>\n",
       "      <td>013XX W TAYLOR ST</td>\n",
       "      <td>APARTMENT</td>\n",
       "      <td>1231</td>\n",
       "      <td>12</td>\n",
       "      <td>28</td>\n",
       "      <td>28</td>\n",
       "      <td>2020</td>\n",
       "      <td>THEFT</td>\n",
       "    </tr>\n",
       "    <tr>\n",
       "      <th>9</th>\n",
       "      <td>019XX N KOSTNER AVE</td>\n",
       "      <td>APARTMENT</td>\n",
       "      <td>2533</td>\n",
       "      <td>25</td>\n",
       "      <td>31</td>\n",
       "      <td>20</td>\n",
       "      <td>2002</td>\n",
       "      <td>BATTERY</td>\n",
       "    </tr>\n",
       "  </tbody>\n",
       "</table>"
      ],
      "text/plain": [
       "<IPython.core.display.HTML object>"
      ]
     },
     "metadata": {
      "tags": []
     },
     "output_type": "display_data"
    }
   ],
   "source": [
    "dataloaders.show_batch()"
   ]
  },
  {
   "cell_type": "markdown",
   "metadata": {
    "id": "ofKopYu21pWh"
   },
   "source": [
    "## Create model architecture"
   ]
  },
  {
   "cell_type": "markdown",
   "metadata": {
    "id": "siShvIUAnP7x"
   },
   "source": [
    "This will calculate the appropriate embedding dimension for each column based on the number of unique values in it and a tested rule of thumb:\n",
    "\n",
    "```python\n",
    "embedding_dim = min(600, round(1.6 * num_unique_values ** 0.56))\n",
    "```"
   ]
  },
  {
   "cell_type": "code",
   "execution_count": null,
   "metadata": {
    "colab": {
     "base_uri": "https://localhost:8080/"
    },
    "id": "Wb3iJP30js1z",
    "outputId": "dda6d3a2-5a0c-4624-ef99-611ce0bc1fff"
   },
   "outputs": [
    {
     "data": {
      "text/plain": [
       "[(61385, 128), (215, 32), (305, 39), (25, 10), (51, 14), (79, 18), (21, 9)]"
      ]
     },
     "execution_count": 31,
     "metadata": {
      "tags": []
     },
     "output_type": "execute_result"
    }
   ],
   "source": [
    "embeddings_sizes = get_emb_sz(dataloaders.train_ds, {\"Block\": 128}) # give the `Block` column a default dimension of 128 (instead of 600)\n",
    "embeddings_sizes"
   ]
  },
  {
   "cell_type": "code",
   "execution_count": null,
   "metadata": {
    "colab": {
     "base_uri": "https://localhost:8080/"
    },
    "id": "dbBU6gOylZZa",
    "outputId": "32944efc-6118-4c31-f16e-83cd218fbcc0"
   },
   "outputs": [
    {
     "data": {
      "text/plain": [
       "17"
      ]
     },
     "execution_count": 29,
     "metadata": {
      "tags": []
     },
     "output_type": "execute_result"
    }
   ],
   "source": [
    "# Number of output classes (should be 17)\n",
    "num_classes = dataloaders.c\n",
    "num_classes"
   ]
  },
  {
   "cell_type": "markdown",
   "metadata": {
    "id": "GNNQdf3414qQ"
   },
   "source": [
    "Use `fastai`'s `TabularModel` to create an entity embeddings model"
   ]
  },
  {
   "cell_type": "code",
   "execution_count": null,
   "metadata": {
    "id": "X5dG8Go7pTp_"
   },
   "outputs": [],
   "source": [
    "def create_model():\n",
    "    model = TabularModel(\n",
    "        emb_szs=embeddings_sizes,       # sizes of the embeddings matrices\n",
    "        out_sz=num_classes,             # Number of output classes\n",
    "        layers=[128, 64],               # linear (dense) layers sizes\n",
    "        embed_p=0.1,                    # dropout probability\n",
    "        n_cont=0,                       # number of continuous variables (0)\n",
    "        bn_cont=False,                  # we don't use a BatchNorm layer on the continuous variables since we don't have any\n",
    "    ).cuda()\n",
    "\n",
    "    return model"
   ]
  },
  {
   "cell_type": "markdown",
   "metadata": {
    "id": "gN4Pd4lZTqBG"
   },
   "source": [
    "The model's architecture"
   ]
  },
  {
   "cell_type": "code",
   "execution_count": null,
   "metadata": {
    "colab": {
     "base_uri": "https://localhost:8080/"
    },
    "id": "A6kcWp09TltL",
    "outputId": "b9ac1443-2a19-487d-f71d-12599b9ab0ac"
   },
   "outputs": [
    {
     "data": {
      "text/plain": [
       "TabularModel(\n",
       "  (embeds): ModuleList(\n",
       "    (0): Embedding(61385, 128)\n",
       "    (1): Embedding(215, 32)\n",
       "    (2): Embedding(305, 39)\n",
       "    (3): Embedding(25, 10)\n",
       "    (4): Embedding(51, 14)\n",
       "    (5): Embedding(79, 18)\n",
       "    (6): Embedding(21, 9)\n",
       "  )\n",
       "  (emb_drop): Dropout(p=0.1, inplace=False)\n",
       "  (layers): Sequential(\n",
       "    (0): LinBnDrop(\n",
       "      (0): BatchNorm1d(250, eps=1e-05, momentum=0.1, affine=True, track_running_stats=True)\n",
       "      (1): Linear(in_features=250, out_features=128, bias=False)\n",
       "      (2): ReLU(inplace=True)\n",
       "    )\n",
       "    (1): LinBnDrop(\n",
       "      (0): BatchNorm1d(128, eps=1e-05, momentum=0.1, affine=True, track_running_stats=True)\n",
       "      (1): Linear(in_features=128, out_features=64, bias=False)\n",
       "      (2): ReLU(inplace=True)\n",
       "    )\n",
       "    (2): LinBnDrop(\n",
       "      (0): Linear(in_features=64, out_features=17, bias=True)\n",
       "    )\n",
       "  )\n",
       ")"
      ]
     },
     "execution_count": 33,
     "metadata": {
      "tags": []
     },
     "output_type": "execute_result"
    }
   ],
   "source": [
    "create_model()"
   ]
  },
  {
   "cell_type": "markdown",
   "metadata": {
    "id": "rCJwsVSQWpzf"
   },
   "source": [
    "## Evaluation metrics"
   ]
  },
  {
   "cell_type": "code",
   "execution_count": null,
   "metadata": {
    "id": "93x1-OUAUdVU"
   },
   "outputs": [],
   "source": [
    "# metrics\n",
    "accuracy = Accuracy().cuda()\n",
    "\n",
    "precision_macro = Precision(num_classes=num_classes, average=\"macro\").cuda()\n",
    "recall_macro = Recall(num_classes=num_classes, average=\"macro\").cuda()\n",
    "f1_macro = F1(num_classes=num_classes, average=\"macro\").cuda()"
   ]
  },
  {
   "cell_type": "code",
   "execution_count": null,
   "metadata": {
    "id": "glZ_yKETc4OO"
   },
   "outputs": [],
   "source": [
    "loss_fn = nn.CrossEntropyLoss().cuda()"
   ]
  },
  {
   "cell_type": "code",
   "execution_count": null,
   "metadata": {
    "id": "OpSDKVxjUVSO"
   },
   "outputs": [],
   "source": [
    "@torch.no_grad()\n",
    "def evaluate(model):\n",
    "    model.eval()\n",
    "    eval_loss = 0.0\n",
    "    for x, _, y in tqdm(dataloaders.valid):\n",
    "        x, y = x.cuda(), y.cuda()\n",
    "\n",
    "        logits = model(x)\n",
    "        y_pred = logits.argmax(dim=1).view(-1, 1)\n",
    "        \n",
    "        eval_loss += loss_fn(logits, y.view(-1).long()).item()\n",
    "\n",
    "        # add current predictions to the metrics' stack\n",
    "        accuracy.update(y_pred, y)        \n",
    "        precision_macro.update(y_pred, y)\n",
    "        recall_macro.update(y_pred, y)\n",
    "        f1_macro.update(y_pred, y)\n",
    "\n",
    "    eval_loss /= len(dataloaders.valid)\n",
    "\n",
    "    print(f\"loss = {eval_loss}\")\n",
    "    print(f\"accuracy = {accuracy.compute() * 100}\")\n",
    "    print(f\"precision_macro = {precision_macro.compute() * 100}\")\n",
    "    print(f\"recall_macro = {recall_macro.compute() * 100}\")\n",
    "    print(f\"f1_macro = {f1_macro.compute() * 100}\")"
   ]
  },
  {
   "cell_type": "markdown",
   "metadata": {
    "id": "LlHeaJHwWvYZ"
   },
   "source": [
    "# Optimization Algorithms"
   ]
  },
  {
   "cell_type": "markdown",
   "metadata": {
    "id": "DCBiH5Tmp_OU"
   },
   "source": [
    "## Quickprop"
   ]
  },
  {
   "cell_type": "code",
   "execution_count": null,
   "metadata": {
    "id": "KiPAEK1EqMY2"
   },
   "outputs": [],
   "source": [
    "class Quickprop(Optimizer):\n",
    "    \"\"\"Implements the Quickprop optimization algorithm as described in\n",
    "    `An Empirical Study of Learning Speed in Back-Propagation Networks` (Fahlman, 1988) (Section 3.4)\n",
    "\n",
    "    Args:\n",
    "        params (iterable): iterable of parameters to optimize or dicts defining\n",
    "            parameter groups\n",
    "        lr (float, optional): learning rate (default: 1)\n",
    "        sgd_lr (float, optional): learning rate of stochastic gradient descent (check comments for more details). Defaults to 1e-3.\n",
    "        mu (float, optional): Maximum growth factor. Defaults to 1.75.\n",
    "    \"\"\"\n",
    "    def __init__(self, params, lr=1.0, sgd_lr=1e-3, mu=1.75):\n",
    "        defaults = dict(lr=lr)\n",
    "        super().__init__(params, defaults)\n",
    "        self.sgd_lr = sgd_lr\n",
    "        self.mu = mu  # maximum growth factor\n",
    "        self.state[\"step\"] = 0\n",
    "\n",
    "    @torch.no_grad()\n",
    "    def first_step(self, closure):\n",
    "        with torch.enable_grad():\n",
    "            loss = closure()\n",
    "\n",
    "        for group in self.param_groups:\n",
    "            for p in group[\"params\"]:\n",
    "                if p.grad is None:\n",
    "                    continue\n",
    "                delta = -p.grad * self.sgd_lr\n",
    "                p.add_(delta)\n",
    "                self.state[p].update({\"prev_grad\": p.grad.clone(), \"prev_delta\": delta.clone()})\n",
    "\n",
    "        return loss\n",
    "\n",
    "    @torch.no_grad()\n",
    "    def step(self, closure):\n",
    "        # first step: bootstrap the prev_ values using an sgd step\n",
    "        if self.state[\"step\"] == 0:\n",
    "            return self.first_step(closure)\n",
    "\n",
    "        with torch.enable_grad():\n",
    "            loss = closure()\n",
    "\n",
    "        for group in self.param_groups:\n",
    "            lr = group[\"lr\"]\n",
    "            for p in group[\"params\"]:\n",
    "                if p.grad is None:\n",
    "                    continue\n",
    "                param_state = self.state[p]\n",
    "\n",
    "                prev_grad = param_state[\"prev_grad\"]\n",
    "                curr_grad = p.grad\n",
    "\n",
    "                prev_delta = param_state[\"prev_delta\"]\n",
    "\n",
    "                # if the previous grad is close to the current one, use sgd update rule instead (as suggested in the paper by Fahlman)\n",
    "                selector = ((prev_grad - curr_grad).abs() < 1e-8).float()\n",
    "                quickprop_factor = selector * (prev_delta / (prev_grad - curr_grad))\n",
    "                sgd_factor = (1 - selector) * (-self.sgd_lr)\n",
    "\n",
    "                \"\"\"No weight step is allowed to be greater in magnitude than µ times the previous step for that weight\"\"\"\n",
    "                quickprop_factor = quickprop_factor.clamp(-self.mu, self.mu)\n",
    "\n",
    "                curr_delta = curr_grad * (quickprop_factor + sgd_factor)\n",
    "\n",
    "                p.add_(curr_delta, alpha=lr)\n",
    "\n",
    "                param_state.update({\"prev_grad\": curr_grad.clone(), \"prev_delta\": curr_delta.clone()})\n",
    "\n",
    "        self.state[\"step\"] += 1\n",
    "        return loss"
   ]
  },
  {
   "cell_type": "code",
   "execution_count": null,
   "metadata": {
    "id": "VApYw49Dj537"
   },
   "outputs": [],
   "source": [
    "model = create_model()\n",
    "optimizer = Quickprop(model.parameters(), lr=1, sgd_lr=1e-2)"
   ]
  },
  {
   "cell_type": "markdown",
   "metadata": {
    "id": "Djw8ojSY2I4h"
   },
   "source": [
    "Train the model using the `Quickprop` optimizer"
   ]
  },
  {
   "cell_type": "code",
   "execution_count": null,
   "metadata": {
    "colab": {
     "base_uri": "https://localhost:8080/",
     "height": 165,
     "referenced_widgets": [
      "1406704492db4391a32ce5dad7161005",
      "5895ed05cebb442a94fcb600f691e8e3",
      "d475b67b30b54caf98ca0efe7d1b89fa",
      "cfbc238f7d9941efb9661b8e92654fdb",
      "2c73e2ea129446838f9e880670c55855",
      "03737b2b33e44890bc38ea111216b70f",
      "d4563057c35f4b4081ae18edf60aa1bb",
      "cbd3daab10bb4b4db84c713f52146b1f",
      "fa6b9ede8d814223843b77cedc73801d",
      "6ded414a3bff4c46b1cbbab67755e564",
      "a9a8dd87a10342889522f1449861a9d0",
      "9ac1670346c3475a800e4fd3b1164061",
      "f0ce47dbd64149ed952eab921fa2a5b5",
      "3cae15ec540e4d8ea0ee61a80727d312",
      "b1ad197c6db24fe68225e69e48464e22",
      "ceae93a816bd4c5f90bdda68896c397a"
     ]
    },
    "id": "UAFbAVMQrEzE",
    "outputId": "31e5c5e1-ac2d-4ed0-e2bc-72124f51a7e7"
   },
   "outputs": [
    {
     "data": {
      "application/vnd.jupyter.widget-view+json": {
       "model_id": "1406704492db4391a32ce5dad7161005",
       "version_major": 2,
       "version_minor": 0
      },
      "text/plain": [
       "HBox(children=(FloatProgress(value=0.0, max=1.0), HTML(value='')))"
      ]
     },
     "metadata": {
      "tags": []
     },
     "output_type": "display_data"
    },
    {
     "data": {
      "application/vnd.jupyter.widget-view+json": {
       "model_id": "fa6b9ede8d814223843b77cedc73801d",
       "version_major": 2,
       "version_minor": 0
      },
      "text/plain": [
       "HBox(children=(FloatProgress(value=0.0, max=107770.0), HTML(value='')))"
      ]
     },
     "metadata": {
      "tags": []
     },
     "output_type": "display_data"
    },
    {
     "name": "stdout",
     "output_type": "stream",
     "text": [
      "\n",
      "epoch 1 loss = 1.5016131415596763\n",
      "\n",
      "CPU times: user 11min 37s, sys: 53 s, total: 12min 30s\n",
      "Wall time: 12min 48s\n"
     ]
    }
   ],
   "source": [
    "%%time\n",
    "\n",
    "num_epochs = 1 # one epoch is enough here\n",
    "\n",
    "model.train()\n",
    "\n",
    "for epoch in tqdm(range(num_epochs)):\n",
    "    train_loss = 0.0\n",
    "    for x, _, y in tqdm(dataloaders.train):\n",
    "\n",
    "        def closure():\n",
    "            if torch.is_grad_enabled():\n",
    "                optimizer.zero_grad()\n",
    "            logits = model(x.cuda())\n",
    "            loss = loss_fn(logits, y.view(-1).long().cuda())\n",
    "            if loss.requires_grad:\n",
    "                loss.backward()\n",
    "            return loss\n",
    "\n",
    "        loss = optimizer.step(closure)\n",
    "        train_loss += loss.item()\n",
    "    \n",
    "    train_loss /= len(dataloaders.train)\n",
    "    print(f\"epoch {epoch + 1} loss = {train_loss}\")"
   ]
  },
  {
   "cell_type": "code",
   "execution_count": null,
   "metadata": {
    "colab": {
     "base_uri": "https://localhost:8080/",
     "height": 150,
     "referenced_widgets": [
      "a2f532dc3e4440a7aa91cf9a2f944fe0",
      "3e105934d86d4030aaba0168ad6bff43",
      "23eb629abc204d61957e85dc3087ffd5",
      "5c262f0924ae4a22a1c891376891ae25",
      "74a933c82c274a8894dc7ac35038a827",
      "291506152ea14f1e8637bb7b9c70443c",
      "fbfabcbff04a461f8e58416dcf6f0e63",
      "68c072e7034349ff82c3d178b5524bce"
     ]
    },
    "id": "HbMbtkQirrYa",
    "outputId": "4083409f-e886-4c05-f2ac-b319b0da071e"
   },
   "outputs": [
    {
     "data": {
      "application/vnd.jupyter.widget-view+json": {
       "model_id": "a2f532dc3e4440a7aa91cf9a2f944fe0",
       "version_major": 2,
       "version_minor": 0
      },
      "text/plain": [
       "HBox(children=(FloatProgress(value=0.0, max=5673.0), HTML(value='')))"
      ]
     },
     "metadata": {
      "tags": []
     },
     "output_type": "display_data"
    },
    {
     "name": "stdout",
     "output_type": "stream",
     "text": [
      "\n",
      "loss = 1.4739087980175574\n",
      "accuracy = 46.50483703613281\n",
      "precision_macro = 21.49054718017578\n",
      "recall_macro = 11.223831176757812\n",
      "f1_macro = 10.38428020477295\n"
     ]
    }
   ],
   "source": [
    "evaluate(model)"
   ]
  },
  {
   "cell_type": "code",
   "execution_count": null,
   "metadata": {
    "id": "ktEiWet_cEow"
   },
   "outputs": [],
   "source": [
    "torch.save(model.state_dict(), \"quickprop_model_state_dict.pt\")"
   ]
  },
  {
   "cell_type": "markdown",
   "metadata": {
    "id": "xxc4wxug5VRY"
   },
   "source": [
    "## Generalized Gauss-Newton"
   ]
  },
  {
   "cell_type": "code",
   "execution_count": null,
   "metadata": {
    "id": "lQv5yEim3wFX"
   },
   "outputs": [],
   "source": [
    "class HessianFree(Optimizer):\n",
    "    \"\"\"\n",
    "    Implements the Hessian-free algorithm presented in `Training Deep and\n",
    "    Recurrent Networks with Hessian-Free Optimization`_ using the Generalized Gauss-Newton algorithm.\n",
    "\n",
    "    Arguments:\n",
    "        params (iterable): iterable of parameters to optimize or dicts defining\n",
    "            parameter groups\n",
    "        lr (float, optional): learning rate (default: 1)\n",
    "        delta_decay (float, optional): Decay of the previous result of\n",
    "            computing delta with conjugate gradient method for the\n",
    "            initialization of the next conjugate gradient iteration\n",
    "        damping (float, optional): Initial value of the Tikhonov damping\n",
    "            coefficient. (default: 0.5)\n",
    "        max_iter (int, optional): Maximum number of Conjugate-Gradient\n",
    "            iterations (default: 50)\n",
    "\n",
    "    .. _Training Deep and Recurrent Networks with Hessian-Free Optimization:\n",
    "        https://doi.org/10.1007/978-3-642-35289-8_27\n",
    "    \"\"\"\n",
    "\n",
    "    def __init__(self, params, lr=1, damping=0.5, delta_decay=0.95, cg_max_iter=100):\n",
    "\n",
    "        if not (0.0 < lr <= 1):\n",
    "            raise ValueError(\"Invalid lr: {}\".format(lr))\n",
    "\n",
    "        if not (0.0 < damping <= 1):\n",
    "            raise ValueError(\"Invalid damping: {}\".format(damping))\n",
    "\n",
    "        if not cg_max_iter > 0:\n",
    "            raise ValueError(\"Invalid cg_max_iter: {}\".format(cg_max_iter))\n",
    "\n",
    "        defaults = dict(\n",
    "            alpha=lr,\n",
    "            damping=damping,\n",
    "            delta_decay=delta_decay,\n",
    "            cg_max_iter=cg_max_iter,\n",
    "        )\n",
    "        super(HessianFree, self).__init__(params, defaults)\n",
    "\n",
    "        if len(self.param_groups) != 1:\n",
    "            raise ValueError(\"HessianFree doesn't support per-parameter options (parameter groups)\")\n",
    "\n",
    "        self._params = self.param_groups[0][\"params\"]\n",
    "\n",
    "    def _gather_flat_grad(self):\n",
    "        views = list()\n",
    "        for p in self._params:\n",
    "            if p.grad is None:\n",
    "                view = p.data.new(p.data.numel()).zero_()\n",
    "            elif p.grad.data.is_sparse:\n",
    "                view = p.grad.data.to_dense().view(-1)\n",
    "            else:\n",
    "                view = p.grad.contiguous().view(-1)\n",
    "            views.append(view)\n",
    "        return torch.cat(views, 0)\n",
    "\n",
    "    def step(self, closure, b=None):\n",
    "        \"\"\"\n",
    "        Performs a single optimization step.\n",
    "\n",
    "        Arguments:\n",
    "            closure (callable): A closure that re-evaluates the model\n",
    "                and returns a tuple of the loss and the output.\n",
    "            b (callable, optional): A closure that calculates the vector b in\n",
    "                the minimization problem x^T . A . x + x^T b.\n",
    "        \"\"\"\n",
    "        assert len(self.param_groups) == 1\n",
    "\n",
    "        group = self.param_groups[0]\n",
    "        alpha = group[\"alpha\"]\n",
    "        delta_decay = group[\"delta_decay\"]\n",
    "        cg_max_iter = group[\"cg_max_iter\"]\n",
    "        damping = group[\"damping\"]\n",
    "\n",
    "        state = self.state[self._params[0]]\n",
    "        state.setdefault(\"func_evals\", 0)\n",
    "        state.setdefault(\"n_iter\", 0)\n",
    "\n",
    "        loss_before, output = closure()\n",
    "        current_evals = 1\n",
    "        state[\"func_evals\"] += 1\n",
    "\n",
    "        # Gather current parameters and respective gradients\n",
    "        flat_params = parameters_to_vector(self._params)\n",
    "        flat_grad = self._gather_flat_grad()\n",
    "\n",
    "        # Define linear operator\n",
    "        # Generalized Gauss-Newton vector product\n",
    "        def A(x):\n",
    "            return self._Gv(loss_before, output, x, damping)\n",
    "\n",
    "        M = None\n",
    "\n",
    "        b = flat_grad.detach() if b is None else b().detach().flatten()\n",
    "\n",
    "        # Initializing Conjugate-Gradient (Section 20.10)\n",
    "        if state.get(\"init_delta\") is not None:\n",
    "            init_delta = delta_decay * state.get(\"init_delta\")\n",
    "        else:\n",
    "            init_delta = torch.zeros_like(flat_params)\n",
    "\n",
    "        eps = torch.finfo(b.dtype).eps\n",
    "\n",
    "        # Conjugate-Gradient\n",
    "        deltas, Ms = self._CG(\n",
    "            A=A, b=b.neg(), x0=init_delta, M=M, max_iter=cg_max_iter, tol=1e1 * eps, eps=eps, martens=True\n",
    "        )\n",
    "\n",
    "        # Update parameters\n",
    "        delta = state[\"init_delta\"] = deltas[-1]\n",
    "        M = Ms[-1]\n",
    "\n",
    "        vector_to_parameters(flat_params + delta, self._params)\n",
    "        loss_now = closure()[0]\n",
    "        current_evals += 1\n",
    "        state[\"func_evals\"] += 1\n",
    "\n",
    "        # Conjugate-Gradient backtracking (Section 20.8.7)\n",
    "        for (d, m) in zip(reversed(deltas[:-1][::2]), reversed(Ms[:-1][::2])):\n",
    "            vector_to_parameters(flat_params + d, self._params)\n",
    "            loss_prev = closure()[0]\n",
    "            if float(loss_prev) > float(loss_now):\n",
    "                break\n",
    "            delta = d\n",
    "            M = m\n",
    "            loss_now = loss_prev\n",
    "\n",
    "        # The Levenberg-Marquardt Heuristic (Section 20.8.5)\n",
    "        reduction_ratio = (float(loss_now) - float(loss_before)) / M if M != 0 else 1\n",
    "\n",
    "        if reduction_ratio < 0.25:\n",
    "            group[\"damping\"] *= 3 / 2\n",
    "        elif reduction_ratio > 0.75:\n",
    "            group[\"damping\"] *= 2 / 3\n",
    "        if reduction_ratio < 0:\n",
    "            group[\"init_delta\"] = 0\n",
    "\n",
    "        # Line Searching (Section 20.8.8)\n",
    "        beta = 0.8\n",
    "        c = 1e-2\n",
    "        min_improv = min(c * torch.dot(b, delta), 0)\n",
    "\n",
    "        for _ in range(60):\n",
    "            if float(loss_now) <= float(loss_before) + alpha * min_improv:\n",
    "                break\n",
    "\n",
    "            alpha *= beta\n",
    "            vector_to_parameters(flat_params + alpha * delta, self._params)\n",
    "            loss_now = closure()[0]\n",
    "        else:  # No good update found\n",
    "            alpha = 0.0\n",
    "            loss_now = loss_before\n",
    "\n",
    "        # Update the parameters (this time fo real)\n",
    "        vector_to_parameters(flat_params + alpha * delta, self._params)\n",
    "\n",
    "        return loss_now\n",
    "\n",
    "    def _CG(self, A, b, x0, M=None, max_iter=50, tol=1.2e-6, eps=1.2e-7, martens=False):\n",
    "        \"\"\"\n",
    "        Minimizes the linear system x^T.A.x - x^T b using the conjugate\n",
    "            gradient method\n",
    "\n",
    "        Arguments:\n",
    "            A (callable): An abstract linear operator implementing the\n",
    "                product A.x. A must represent a hermitian, positive definite\n",
    "                matrix.\n",
    "            b (torch.Tensor): The vector b.\n",
    "            x0 (torch.Tensor): An initial guess for x.\n",
    "            M (callable, optional): An abstract linear operator implementing\n",
    "            the product of the preconditioner (for A) matrix with a vector.\n",
    "            tol (float, optional): Tolerance for convergence.\n",
    "            martens (bool, optional): Flag for Martens' convergence criterion.\n",
    "        \"\"\"\n",
    "\n",
    "        x = [x0]\n",
    "        r = A(x[0]) - b\n",
    "\n",
    "        if M is not None:\n",
    "            y = M(r)\n",
    "            p = -y\n",
    "        else:\n",
    "            p = -r\n",
    "\n",
    "        res_i_norm = r @ r\n",
    "\n",
    "        if martens:\n",
    "            m = [0.5 * (r - b) @ x0]\n",
    "\n",
    "        for i in range(max_iter):\n",
    "            Ap = A(p)\n",
    "\n",
    "            alpha = res_i_norm / ((p @ Ap) + eps)\n",
    "\n",
    "            x.append(x[i] + alpha * p)\n",
    "            r = r + alpha * Ap\n",
    "\n",
    "            if M is not None:\n",
    "                y = M(r)\n",
    "                res_ip1_norm = y @ r\n",
    "            else:\n",
    "                res_ip1_norm = r @ r\n",
    "\n",
    "            beta = res_ip1_norm / (res_i_norm + eps)\n",
    "            res_i_norm = res_ip1_norm\n",
    "\n",
    "            # Martens' Relative Progress stopping condition (Section 20.4)\n",
    "            if martens:\n",
    "                m.append(0.5 * A(x[i + 1]) @ x[i + 1] - b @ x[i + 1])\n",
    "\n",
    "                k = max(10, int(i / 10))\n",
    "                if i > k:\n",
    "                    stop = (m[i] - m[i - k]) / (m[i] + eps)\n",
    "                    if stop < 1e-4:\n",
    "                        break\n",
    "\n",
    "            if res_i_norm < tol or torch.isnan(res_i_norm):\n",
    "                break\n",
    "\n",
    "            if M is not None:\n",
    "                p = -y + beta * p\n",
    "            else:\n",
    "                p = -r + beta * p\n",
    "\n",
    "        return (x, m) if martens else (x, None)\n",
    "\n",
    "    def _Gv(self, loss, output, vec, damping):\n",
    "        \"\"\"\n",
    "        Computes the generalized Gauss-Newton vector product.\n",
    "        \"\"\"\n",
    "        Jv = self._Rop(output, self._params, vec)\n",
    "\n",
    "        gradient = torch.autograd.grad(loss, output, create_graph=True)\n",
    "        HJv = self._Rop(gradient, output, Jv)\n",
    "\n",
    "        JHJv = torch.autograd.grad(output, self._params, grad_outputs=HJv.reshape_as(output), retain_graph=True)\n",
    "\n",
    "        # Tikhonov damping (Section 20.8.1)\n",
    "        return parameters_to_vector(JHJv).detach() + damping * vec\n",
    "\n",
    "    @staticmethod\n",
    "    def _Rop(y, x, v, create_graph=False):\n",
    "        \"\"\"\n",
    "        Computes the product (dy_i/dx_j) v_j: R-operator\n",
    "        \"\"\"\n",
    "        if isinstance(y, tuple):\n",
    "            ws = [torch.zeros_like(y_i, requires_grad=True) for y_i in y]\n",
    "        else:\n",
    "            ws = torch.zeros_like(y, requires_grad=True)\n",
    "\n",
    "        jacobian = torch.autograd.grad(y, x, grad_outputs=ws, create_graph=True)\n",
    "\n",
    "        Jv = torch.autograd.grad(parameters_to_vector(jacobian), ws, grad_outputs=v, create_graph=create_graph)\n",
    "\n",
    "        return parameters_to_vector(Jv)"
   ]
  },
  {
   "cell_type": "code",
   "execution_count": null,
   "metadata": {
    "id": "pm_a-FyY53yW"
   },
   "outputs": [],
   "source": [
    "del model, optimizer\n",
    "torch.cuda.empty_cache()\n",
    "gc.collect();"
   ]
  },
  {
   "cell_type": "code",
   "execution_count": null,
   "metadata": {
    "id": "_I9yrIaI5ro9"
   },
   "outputs": [],
   "source": [
    "model = create_model()\n",
    "optimizer = HessianFree(model.parameters(), lr=5e-3, cg_max_iter=3)"
   ]
  },
  {
   "cell_type": "code",
   "execution_count": null,
   "metadata": {
    "colab": {
     "base_uri": "https://localhost:8080/",
     "height": 165,
     "referenced_widgets": [
      "6638ab1c4d3041dd9a41f1eb70506a19",
      "f415f347ae934a62a37673eaefc5ecba",
      "70019f0e84e24cfd94a39b4c6ef20a23",
      "7d653b2c87494678b472229b6fddf390",
      "85ddd6e772484e5ebaa42040fccbcd7d",
      "cb8a26a86aa54d64904270cc954ef96c",
      "7d1ebc37d8ba45029d0869c842658142",
      "5151a91777804234a1ec9bd0fcd2f5e9",
      "a15d07a363504863bb3655cf58b588a1",
      "50de6a91ec5b4fb69aa244b46947dfaf",
      "944b688a257f4100bf709eecd9471410",
      "9b2fc0e7bb1745b390ad20e7e9e844df",
      "5425032888564e158472b83f3205b666",
      "ed261abdcaf44948b1ac101e64b825f4",
      "26e34d4a0d18456ead101454a22b8f59",
      "170a2adfb89f48c094b1099147507a3b"
     ]
    },
    "id": "4EV-RhG65sJl",
    "outputId": "07de7d6a-6094-4503-b0f2-4ebaa819819b"
   },
   "outputs": [
    {
     "data": {
      "application/vnd.jupyter.widget-view+json": {
       "model_id": "6638ab1c4d3041dd9a41f1eb70506a19",
       "version_major": 2,
       "version_minor": 0
      },
      "text/plain": [
       "HBox(children=(FloatProgress(value=0.0, max=1.0), HTML(value='')))"
      ]
     },
     "metadata": {
      "tags": []
     },
     "output_type": "display_data"
    },
    {
     "data": {
      "application/vnd.jupyter.widget-view+json": {
       "model_id": "a15d07a363504863bb3655cf58b588a1",
       "version_major": 2,
       "version_minor": 0
      },
      "text/plain": [
       "HBox(children=(FloatProgress(value=0.0, max=107770.0), HTML(value='')))"
      ]
     },
     "metadata": {
      "tags": []
     },
     "output_type": "display_data"
    },
    {
     "name": "stdout",
     "output_type": "stream",
     "text": [
      "\n",
      "epoch 1 loss = 0.9849135279130038\n",
      "\n",
      "CPU times: user 1h 31min 33s, sys: 8min 19s, total: 1h 39min 53s\n",
      "Wall time: 1h 42min 17s\n"
     ]
    }
   ],
   "source": [
    "%%time\n",
    "\n",
    "num_epochs = 1\n",
    "\n",
    "model.train()\n",
    "\n",
    "for epoch in tqdm(range(num_epochs)):\n",
    "    train_loss = 0.0\n",
    "    for x, _, y in tqdm(dataloaders.train):\n",
    "\n",
    "        def closure():\n",
    "            if torch.is_grad_enabled():\n",
    "                optimizer.zero_grad()\n",
    "            logits = model(x.cuda())\n",
    "            loss = loss_fn(logits, y.view(-1).long().cuda())\n",
    "            if loss.requires_grad:\n",
    "                loss.backward(create_graph=True) # set create_graph to True to enable calculating second order derivatives\n",
    "            return loss, logits\n",
    "\n",
    "        loss = optimizer.step(closure)\n",
    "        train_loss += loss.item()\n",
    "\n",
    "    train_loss /= len(dataloaders.train)\n",
    "    print(f\"epoch {epoch + 1} loss = {train_loss}\")"
   ]
  },
  {
   "cell_type": "code",
   "execution_count": null,
   "metadata": {
    "colab": {
     "base_uri": "https://localhost:8080/",
     "height": 150,
     "referenced_widgets": [
      "ded4eeebcea0416b9a14d08a8017c0e4",
      "16ba3c1364bd4d928914fbd91cde1dea",
      "1b321bec59bb4d43b740875f44929437",
      "52a4f15d0bb34854b32bdbf6f26ddcc8",
      "0487c5eb9c7943c69d119c83e3cdf1ce",
      "57743b726ae744a1a38a120da59dccd1",
      "b1eb45b68b224aecbbf7ca36d339d7bc",
      "775af97414984ac9aa990192673a21cc"
     ]
    },
    "id": "dqu5pPER64Qc",
    "outputId": "e77d9878-ed45-491e-afa0-3ae06f89d6f4"
   },
   "outputs": [
    {
     "data": {
      "application/vnd.jupyter.widget-view+json": {
       "model_id": "ded4eeebcea0416b9a14d08a8017c0e4",
       "version_major": 2,
       "version_minor": 0
      },
      "text/plain": [
       "HBox(children=(FloatProgress(value=0.0, max=5673.0), HTML(value='')))"
      ]
     },
     "metadata": {
      "tags": []
     },
     "output_type": "display_data"
    },
    {
     "name": "stdout",
     "output_type": "stream",
     "text": [
      "\n",
      "loss = 1.4738860429331422\n",
      "accuracy = 46.4676513671875\n",
      "precision_macro = 21.232929229736328\n",
      "recall_macro = 11.131002426147461\n",
      "f1_macro = 10.319028854370117\n"
     ]
    }
   ],
   "source": [
    "evaluate(model)"
   ]
  },
  {
   "cell_type": "code",
   "execution_count": null,
   "metadata": {
    "id": "sdmlLakjcXyy"
   },
   "outputs": [],
   "source": [
    "torch.save(model.state_dict(), \"gauss-newton_model_state_dict.pt\")"
   ]
  },
  {
   "cell_type": "markdown",
   "metadata": {
    "id": "m6Fw0wG7UnTv"
   },
   "source": [
    "## Delta-Bar-Delta"
   ]
  },
  {
   "cell_type": "code",
   "execution_count": null,
   "metadata": {
    "id": "gYlDgJ_Wk31M"
   },
   "outputs": [],
   "source": [
    "class DeltaBarDelta(Optimizer):\n",
    "    def __init__(self, params, lr_0=1e-4, k=1e-4, phi=0.1, theta=0.9):\n",
    "        \"\"\"Delta-Bar-Delta optimizer.\n",
    "\n",
    "        Args:\n",
    "            params: model parameters\n",
    "            lr_0: initial learning rate. Defaults to 1e-4.\n",
    "            k: value to add to learning rate. Defaults to 1e-4.\n",
    "            phi: proportion to subtract from learning rate. Defaults to 0.1.\n",
    "            theta: base of the exponential moving avergae of the gradient. Defaults to 0.9.\n",
    "        \"\"\"\n",
    "        defaults = dict(lr_0=lr_0, k=k, phi=phi, theta=theta)\n",
    "        super(DeltaBarDelta, self).__init__(params, defaults)\n",
    "        self.k = k\n",
    "        self.phi = phi\n",
    "        self.theta = theta\n",
    "\n",
    "    @torch.no_grad()\n",
    "    def step(self, closure=None):\n",
    "        loss = None\n",
    "\n",
    "        if closure is not None:\n",
    "            with torch.enable_grad():\n",
    "                loss = closure()\n",
    "\n",
    "        for group in self.param_groups:\n",
    "            for p in group[\"params\"]:\n",
    "                if p.grad is None:\n",
    "                    continue\n",
    "\n",
    "                grad = p.grad\n",
    "\n",
    "                state = self.state[p]\n",
    "                if len(state) == 0:\n",
    "                    state[\"lr\"] = torch.ones_like(p) * group[\"lr_0\"]\n",
    "                    state[\"exp_avg\"] = torch.zeros_like(p)  # exponential moving average of the gradient\n",
    "\n",
    "                lr, exp_avg = state[\"lr\"], state[\"exp_avg\"]\n",
    "                k, phi, theta = group[\"k\"], group[\"phi\"], group[\"theta\"]\n",
    "\n",
    "                # update learning rate\n",
    "                sign = (exp_avg * grad).sign()\n",
    "                delta_lr = torch.empty_like(lr)\n",
    "                delta_lr[sign > 0] = k\n",
    "                delta_lr[sign < 0] = -phi * lr[sign < 0]\n",
    "                delta_lr[sign == 0] = 0\n",
    "                lr += delta_lr\n",
    "\n",
    "                # update the moving average\n",
    "                exp_avg *= theta\n",
    "                exp_avg += grad * (1.0 - theta)\n",
    "\n",
    "                # update the parameter\n",
    "                p -= lr * grad\n",
    "\n",
    "        return loss"
   ]
  },
  {
   "cell_type": "code",
   "execution_count": null,
   "metadata": {
    "id": "LNjZVYw8EcyW"
   },
   "outputs": [],
   "source": [
    "del model, optimizer\n",
    "torch.cuda.empty_cache()\n",
    "gc.collect();"
   ]
  },
  {
   "cell_type": "code",
   "execution_count": null,
   "metadata": {
    "id": "qr37tddkG625"
   },
   "outputs": [],
   "source": [
    "model = create_model()\n",
    "optimizer = DeltaBarDelta(model.parameters())"
   ]
  },
  {
   "cell_type": "code",
   "execution_count": null,
   "metadata": {
    "colab": {
     "base_uri": "https://localhost:8080/",
     "height": 165,
     "referenced_widgets": [
      "6a1cd3cc54dc427582d5c00dc9883439",
      "ffb3916f2c354bc79ee074f7a778e526",
      "78125cf469864e1db00a29b8e8493a62",
      "4ee75996b17b41d39b5f91cc9c921471",
      "1b0dee61d5564d5aa4572cf0e0361cda",
      "a7227740e8ce40789c620e348f787529",
      "cc95df8f551f4cf9a7b1a6e84819c491",
      "b1463f366b7742f196e4549d8f2cd1c4",
      "1eb584921d3848798c40387c27d1672e",
      "f00009cd99214664b0ac0ef076b0ae30",
      "dad0a076311142d29cf8c0e62c86f30f",
      "a76046af739a4d98ade7171f869052a6",
      "4413867d1ea14d939114777de56b2a96",
      "dea1ccc1fadc458cb6b4cfdafbf77006",
      "c144db0fbcb44f389b69ebc89fa0908c",
      "34914a56368d4b7c84783c9d8397674e"
     ]
    },
    "id": "j2fE8__zEmU2",
    "outputId": "ac60cf36-22c6-4c99-fd62-26647fa55209"
   },
   "outputs": [
    {
     "data": {
      "application/vnd.jupyter.widget-view+json": {
       "model_id": "6a1cd3cc54dc427582d5c00dc9883439",
       "version_major": 2,
       "version_minor": 0
      },
      "text/plain": [
       "HBox(children=(FloatProgress(value=0.0, max=1.0), HTML(value='')))"
      ]
     },
     "metadata": {
      "tags": []
     },
     "output_type": "display_data"
    },
    {
     "data": {
      "application/vnd.jupyter.widget-view+json": {
       "model_id": "1eb584921d3848798c40387c27d1672e",
       "version_major": 2,
       "version_minor": 0
      },
      "text/plain": [
       "HBox(children=(FloatProgress(value=0.0, max=107770.0), HTML(value='')))"
      ]
     },
     "metadata": {
      "tags": []
     },
     "output_type": "display_data"
    },
    {
     "name": "stdout",
     "output_type": "stream",
     "text": [
      "\n",
      "epoch 1 loss = 1.5321878575057502\n",
      "\n",
      "CPU times: user 30min 7s, sys: 5min 56s, total: 36min 4s\n",
      "Wall time: 36min 43s\n"
     ]
    }
   ],
   "source": [
    "%%time\n",
    "\n",
    "num_epochs = 1\n",
    "\n",
    "model.train()\n",
    "\n",
    "for epoch in tqdm(range(num_epochs)):\n",
    "    train_loss = 0.0\n",
    "    for x, _, y in tqdm(dataloaders.train):\n",
    "        optimizer.zero_grad()\n",
    "        logits = model(x.cuda())\n",
    "        loss = loss_fn(logits, y.view(-1).long().cuda())\n",
    "        loss.backward()\n",
    "        optimizer.step()\n",
    "\n",
    "        train_loss += loss.item()\n",
    "\n",
    "    train_loss /= len(dataloaders.train)\n",
    "    print(f\"epoch {epoch + 1} loss = {train_loss}\")"
   ]
  },
  {
   "cell_type": "code",
   "execution_count": null,
   "metadata": {
    "colab": {
     "base_uri": "https://localhost:8080/",
     "height": 150,
     "referenced_widgets": [
      "1c0d92e2836f429da989f07d282023a4",
      "4134ed216fe74675a165f3359cc97a4e",
      "a88afc5fd74942439748dfba871cd3bd",
      "3bc68f487d5e4a6fbe74d382c3f6b2e9",
      "33f7dca9f328401a95345ba82f1a2c97",
      "52077250443a4998ae19b9c1df008cf9",
      "84e797a6977c462d84337b52dc50996b",
      "b4e083dc74634c559a0824d28b73d0c4"
     ]
    },
    "id": "UmHAgfGjGE1p",
    "outputId": "2dce6395-f71d-47a1-f354-6577e95fd8b6"
   },
   "outputs": [
    {
     "data": {
      "application/vnd.jupyter.widget-view+json": {
       "model_id": "1c0d92e2836f429da989f07d282023a4",
       "version_major": 2,
       "version_minor": 0
      },
      "text/plain": [
       "HBox(children=(FloatProgress(value=0.0, max=5673.0), HTML(value='')))"
      ]
     },
     "metadata": {
      "tags": []
     },
     "output_type": "display_data"
    },
    {
     "name": "stdout",
     "output_type": "stream",
     "text": [
      "\n",
      "loss = 1.499711928072586\n",
      "accuracy = 46.288936614990234\n",
      "precision_macro = 21.420398712158203\n",
      "recall_macro = 11.014731407165527\n",
      "f1_macro = 10.16046142578125\n"
     ]
    }
   ],
   "source": [
    "evaluate(model)"
   ]
  },
  {
   "cell_type": "code",
   "execution_count": null,
   "metadata": {
    "id": "PPIOiO1Aclt1"
   },
   "outputs": [],
   "source": [
    "torch.save(model.state_dict(), \"delta-bar-delta_model_state_dict.pt\")"
   ]
  },
  {
   "cell_type": "markdown",
   "metadata": {
    "id": "pqt0TE-_corh"
   },
   "source": [
    "## Backpropagation"
   ]
  },
  {
   "cell_type": "code",
   "execution_count": null,
   "metadata": {
    "id": "A3frBP5keNCF"
   },
   "outputs": [],
   "source": [
    "del model, optimizer\n",
    "torch.cuda.empty_cache()\n",
    "gc.collect();"
   ]
  },
  {
   "cell_type": "code",
   "execution_count": null,
   "metadata": {
    "id": "yxijOQY5crhs"
   },
   "outputs": [],
   "source": [
    "model = create_model()\n",
    "optimizer = Adam(model.parameters())"
   ]
  },
  {
   "cell_type": "code",
   "execution_count": null,
   "metadata": {
    "colab": {
     "base_uri": "https://localhost:8080/",
     "height": 165,
     "referenced_widgets": [
      "84453b2e704a41ec937d08d903118d37",
      "95f3666e6f61439084efd504e636822b",
      "affae8c75b4a4e559c32d97f284eae26",
      "af265a865a4144b29a93e38bf0d6c780",
      "f66a473b5b444978ac6a57b991d49e62",
      "f7be6e8aa1fa44d787849ccd64f033de",
      "1217c8ff05144f028f7c156aba42ae1b",
      "346c0c794a0e421487bc6bc10c2cc5c4",
      "92db89f6f3234cbab070263c0a2f3d18",
      "8794d4043b4c4053b7a4e547001bf1bc",
      "ad10e9afd947443d848dd233eebd4109",
      "ad4ccf89f76842a2b844c83e81b8dab7",
      "514ddbb30f09422a835bcc0e63e7a6f6",
      "7d03cc01568448aa93254d17ccb68d06",
      "9c00dbb558ae4717a338eb7cfa285169",
      "637bc5b349dd4f06a6a92d6035714c41"
     ]
    },
    "id": "kXWCKGPSOubH",
    "outputId": "95eec49a-2054-4211-a121-45b524d0905c"
   },
   "outputs": [
    {
     "data": {
      "application/vnd.jupyter.widget-view+json": {
       "model_id": "84453b2e704a41ec937d08d903118d37",
       "version_major": 2,
       "version_minor": 0
      },
      "text/plain": [
       "HBox(children=(FloatProgress(value=0.0, max=1.0), HTML(value='')))"
      ]
     },
     "metadata": {
      "tags": []
     },
     "output_type": "display_data"
    },
    {
     "data": {
      "application/vnd.jupyter.widget-view+json": {
       "model_id": "92db89f6f3234cbab070263c0a2f3d18",
       "version_major": 2,
       "version_minor": 0
      },
      "text/plain": [
       "HBox(children=(FloatProgress(value=0.0, max=107770.0), HTML(value='')))"
      ]
     },
     "metadata": {
      "tags": []
     },
     "output_type": "display_data"
    },
    {
     "name": "stdout",
     "output_type": "stream",
     "text": [
      "\n",
      "epoch 1 loss = 1.4882807564572809\n",
      "\n",
      "CPU times: user 13min 2s, sys: 1min 46s, total: 14min 48s\n",
      "Wall time: 15min 11s\n"
     ]
    }
   ],
   "source": [
    "%%time\n",
    "\n",
    "num_epochs = 1\n",
    "\n",
    "model.train()\n",
    "\n",
    "for epoch in tqdm(range(num_epochs)):\n",
    "    train_loss = 0.0\n",
    "    for x, _, y in tqdm(dataloaders.train):\n",
    "        optimizer.zero_grad()\n",
    "        logits = model(x.cuda())\n",
    "        loss = loss_fn(logits, y.view(-1).long().cuda())\n",
    "        loss.backward()\n",
    "        optimizer.step()\n",
    "\n",
    "        train_loss += loss.item()\n",
    "\n",
    "    train_loss /= len(dataloaders.train)\n",
    "    print(f\"epoch {epoch + 1} loss = {train_loss}\")"
   ]
  },
  {
   "cell_type": "code",
   "execution_count": null,
   "metadata": {
    "colab": {
     "base_uri": "https://localhost:8080/",
     "height": 150,
     "referenced_widgets": [
      "9477e42ca5994508848b2aa674591fd6",
      "7f24afab78d842009e5a92651690be74",
      "1efc6f476cd3438d8e13427d35eda5ab",
      "f64a56eb7da4497d8dd2bfeb5374850d",
      "2171baa99e9943c09b3913cb1086c5d5",
      "3acf62266cd343029d1436299ca21dfa",
      "10706562912e41b99feb3a7e597d19a4",
      "ae3a587d1d4e49b19f3ff495839e026a"
     ]
    },
    "id": "oT9Vkpt5P_ix",
    "outputId": "44837d47-2bc4-43a9-ac89-a56663e31a11"
   },
   "outputs": [
    {
     "data": {
      "application/vnd.jupyter.widget-view+json": {
       "model_id": "9477e42ca5994508848b2aa674591fd6",
       "version_major": 2,
       "version_minor": 0
      },
      "text/plain": [
       "HBox(children=(FloatProgress(value=0.0, max=5673.0), HTML(value='')))"
      ]
     },
     "metadata": {
      "tags": []
     },
     "output_type": "display_data"
    },
    {
     "name": "stdout",
     "output_type": "stream",
     "text": [
      "\n",
      "loss = 1.468169894059583\n",
      "accuracy = 46.360050201416016\n",
      "precision_macro = 21.5473690032959\n",
      "recall_macro = 11.082728385925293\n",
      "f1_macro = 10.268255233764648\n"
     ]
    }
   ],
   "source": [
    "evaluate(model)"
   ]
  },
  {
   "cell_type": "code",
   "execution_count": null,
   "metadata": {
    "id": "GYmeFgEMejFa"
   },
   "outputs": [],
   "source": [
    "torch.save(model.state_dict(), \"backprop_model_state_dict.pt\")"
   ]
  },
  {
   "cell_type": "markdown",
   "metadata": {
    "id": "qj_RsHP3Syvc"
   },
   "source": [
    "# Results summary"
   ]
  },
  {
   "cell_type": "code",
   "execution_count": null,
   "metadata": {
    "colab": {
     "base_uri": "https://localhost:8080/",
     "height": 166
    },
    "id": "KZsAddhzejib",
    "outputId": "3f8d5b11-fcba-4ed9-aa1f-ce4f4cae3218"
   },
   "outputs": [
    {
     "data": {
      "text/html": [
       "<div>\n",
       "<style scoped>\n",
       "    .dataframe tbody tr th:only-of-type {\n",
       "        vertical-align: middle;\n",
       "    }\n",
       "\n",
       "    .dataframe tbody tr th {\n",
       "        vertical-align: top;\n",
       "    }\n",
       "\n",
       "    .dataframe thead th {\n",
       "        text-align: right;\n",
       "    }\n",
       "</style>\n",
       "<table border=\"1\" class=\"dataframe\">\n",
       "  <thead>\n",
       "    <tr style=\"text-align: right;\">\n",
       "      <th></th>\n",
       "      <th>Training loss</th>\n",
       "      <th>Validation loss</th>\n",
       "      <th>Accuracy</th>\n",
       "      <th>Precision (macro)</th>\n",
       "      <th>Recall (macro)</th>\n",
       "      <th>F1 (macro)</th>\n",
       "    </tr>\n",
       "  </thead>\n",
       "  <tbody>\n",
       "    <tr>\n",
       "      <th>Quickprop</th>\n",
       "      <td>1.501613</td>\n",
       "      <td>1.473909</td>\n",
       "      <td>46.504837</td>\n",
       "      <td>21.490547</td>\n",
       "      <td>11.223831</td>\n",
       "      <td>10.384280</td>\n",
       "    </tr>\n",
       "    <tr>\n",
       "      <th>Gauss-Newton</th>\n",
       "      <td>0.984914</td>\n",
       "      <td>1.473886</td>\n",
       "      <td>46.467651</td>\n",
       "      <td>21.232929</td>\n",
       "      <td>11.131002</td>\n",
       "      <td>10.319029</td>\n",
       "    </tr>\n",
       "    <tr>\n",
       "      <th>Delta-Bar-Delta</th>\n",
       "      <td>1.532188</td>\n",
       "      <td>1.499712</td>\n",
       "      <td>46.288937</td>\n",
       "      <td>21.420399</td>\n",
       "      <td>11.014731</td>\n",
       "      <td>10.160461</td>\n",
       "    </tr>\n",
       "    <tr>\n",
       "      <th>Backpropagation (Adam)</th>\n",
       "      <td>1.488281</td>\n",
       "      <td>1.468170</td>\n",
       "      <td>46.360050</td>\n",
       "      <td>21.547369</td>\n",
       "      <td>11.082728</td>\n",
       "      <td>10.268255</td>\n",
       "    </tr>\n",
       "  </tbody>\n",
       "</table>\n",
       "</div>"
      ],
      "text/plain": [
       "                        Training loss  ...  F1 (macro)\n",
       "Quickprop                    1.501613  ...   10.384280\n",
       "Gauss-Newton                 0.984914  ...   10.319029\n",
       "Delta-Bar-Delta              1.532188  ...   10.160461\n",
       "Backpropagation (Adam)       1.488281  ...   10.268255\n",
       "\n",
       "[4 rows x 6 columns]"
      ]
     },
     "execution_count": 81,
     "metadata": {
      "tags": []
     },
     "output_type": "execute_result"
    }
   ],
   "source": [
    "results = pd.DataFrame({\n",
    "    \"Training loss\": [1.5016131415596763, 0.9849135279130038, 1.5321878575057502, 1.4882807564572809],\n",
    "    \"Validation loss\": [1.4739087980175574, 1.4738860429331422, 1.499711928072586, 1.468169894059583],\n",
    "    \"Accuracy\": [46.50483703613281, 46.4676513671875, 46.288936614990234, 46.360050201416016],\n",
    "    \"Precision (macro)\": [21.49054718017578, 21.232929229736328, 21.420398712158203, 21.5473690032959],\n",
    "    \"Recall (macro)\": [11.223831176757812, 11.131002426147461, 11.014731407165527, 11.082728385925293],\n",
    "    \"F1 (macro)\": [10.38428020477295, 10.319028854370117, 10.16046142578125, 10.268255233764648],\n",
    "}, index=[\"Quickprop\", \"Gauss-Newton\", \"Delta-Bar-Delta\", \"Backpropagation (Adam)\"])\n",
    "\n",
    "results"
   ]
  },
  {
   "cell_type": "markdown",
   "metadata": {
    "id": "ODZ4sSJtNyUD"
   },
   "source": [
    "Quickprop and Adam seem to be the two best algorithms"
   ]
  },
  {
   "cell_type": "code",
   "execution_count": null,
   "metadata": {
    "colab": {
     "base_uri": "https://localhost:8080/",
     "height": 118
    },
    "id": "J_HV-wteWA2-",
    "outputId": "f775380a-c57a-4175-f4ce-61f5baa8756b"
   },
   "outputs": [
    {
     "data": {
      "text/html": [
       "<style  type=\"text/css\" >\n",
       "#T_57117eb6_8d1a_11eb_81d9_0242ac1c0002row0_col0,#T_57117eb6_8d1a_11eb_81d9_0242ac1c0002row0_col1,#T_57117eb6_8d1a_11eb_81d9_0242ac1c0002row0_col3,#T_57117eb6_8d1a_11eb_81d9_0242ac1c0002row1_col1,#T_57117eb6_8d1a_11eb_81d9_0242ac1c0002row1_col2,#T_57117eb6_8d1a_11eb_81d9_0242ac1c0002row1_col3,#T_57117eb6_8d1a_11eb_81d9_0242ac1c0002row1_col4,#T_57117eb6_8d1a_11eb_81d9_0242ac1c0002row1_col5,#T_57117eb6_8d1a_11eb_81d9_0242ac1c0002row2_col0,#T_57117eb6_8d1a_11eb_81d9_0242ac1c0002row2_col1,#T_57117eb6_8d1a_11eb_81d9_0242ac1c0002row2_col2,#T_57117eb6_8d1a_11eb_81d9_0242ac1c0002row2_col3,#T_57117eb6_8d1a_11eb_81d9_0242ac1c0002row2_col4,#T_57117eb6_8d1a_11eb_81d9_0242ac1c0002row2_col5,#T_57117eb6_8d1a_11eb_81d9_0242ac1c0002row3_col0,#T_57117eb6_8d1a_11eb_81d9_0242ac1c0002row3_col2,#T_57117eb6_8d1a_11eb_81d9_0242ac1c0002row3_col4,#T_57117eb6_8d1a_11eb_81d9_0242ac1c0002row3_col5{\n",
       "            text-align:  center;\n",
       "        }#T_57117eb6_8d1a_11eb_81d9_0242ac1c0002row0_col2,#T_57117eb6_8d1a_11eb_81d9_0242ac1c0002row0_col4,#T_57117eb6_8d1a_11eb_81d9_0242ac1c0002row0_col5,#T_57117eb6_8d1a_11eb_81d9_0242ac1c0002row1_col0,#T_57117eb6_8d1a_11eb_81d9_0242ac1c0002row3_col1,#T_57117eb6_8d1a_11eb_81d9_0242ac1c0002row3_col3{\n",
       "            background-color:  yellow;\n",
       "            text-align:  center;\n",
       "        }</style><table id=\"T_57117eb6_8d1a_11eb_81d9_0242ac1c0002\" ><thead>    <tr>        <th class=\"blank level0\" ></th>        <th class=\"col_heading level0 col0\" >Training loss</th>        <th class=\"col_heading level0 col1\" >Validation loss</th>        <th class=\"col_heading level0 col2\" >Accuracy</th>        <th class=\"col_heading level0 col3\" >Precision (macro)</th>        <th class=\"col_heading level0 col4\" >Recall (macro)</th>        <th class=\"col_heading level0 col5\" >F1 (macro)</th>    </tr></thead><tbody>\n",
       "                <tr>\n",
       "                        <th id=\"T_57117eb6_8d1a_11eb_81d9_0242ac1c0002level0_row0\" class=\"row_heading level0 row0\" >Quickprop</th>\n",
       "                        <td id=\"T_57117eb6_8d1a_11eb_81d9_0242ac1c0002row0_col0\" class=\"data row0 col0\" >1.501613</td>\n",
       "                        <td id=\"T_57117eb6_8d1a_11eb_81d9_0242ac1c0002row0_col1\" class=\"data row0 col1\" >1.473909</td>\n",
       "                        <td id=\"T_57117eb6_8d1a_11eb_81d9_0242ac1c0002row0_col2\" class=\"data row0 col2\" >46.504837</td>\n",
       "                        <td id=\"T_57117eb6_8d1a_11eb_81d9_0242ac1c0002row0_col3\" class=\"data row0 col3\" >21.490547</td>\n",
       "                        <td id=\"T_57117eb6_8d1a_11eb_81d9_0242ac1c0002row0_col4\" class=\"data row0 col4\" >11.223831</td>\n",
       "                        <td id=\"T_57117eb6_8d1a_11eb_81d9_0242ac1c0002row0_col5\" class=\"data row0 col5\" >10.384280</td>\n",
       "            </tr>\n",
       "            <tr>\n",
       "                        <th id=\"T_57117eb6_8d1a_11eb_81d9_0242ac1c0002level0_row1\" class=\"row_heading level0 row1\" >Gauss-Newton</th>\n",
       "                        <td id=\"T_57117eb6_8d1a_11eb_81d9_0242ac1c0002row1_col0\" class=\"data row1 col0\" >0.984914</td>\n",
       "                        <td id=\"T_57117eb6_8d1a_11eb_81d9_0242ac1c0002row1_col1\" class=\"data row1 col1\" >1.473886</td>\n",
       "                        <td id=\"T_57117eb6_8d1a_11eb_81d9_0242ac1c0002row1_col2\" class=\"data row1 col2\" >46.467651</td>\n",
       "                        <td id=\"T_57117eb6_8d1a_11eb_81d9_0242ac1c0002row1_col3\" class=\"data row1 col3\" >21.232929</td>\n",
       "                        <td id=\"T_57117eb6_8d1a_11eb_81d9_0242ac1c0002row1_col4\" class=\"data row1 col4\" >11.131002</td>\n",
       "                        <td id=\"T_57117eb6_8d1a_11eb_81d9_0242ac1c0002row1_col5\" class=\"data row1 col5\" >10.319029</td>\n",
       "            </tr>\n",
       "            <tr>\n",
       "                        <th id=\"T_57117eb6_8d1a_11eb_81d9_0242ac1c0002level0_row2\" class=\"row_heading level0 row2\" >Delta-Bar-Delta</th>\n",
       "                        <td id=\"T_57117eb6_8d1a_11eb_81d9_0242ac1c0002row2_col0\" class=\"data row2 col0\" >1.532188</td>\n",
       "                        <td id=\"T_57117eb6_8d1a_11eb_81d9_0242ac1c0002row2_col1\" class=\"data row2 col1\" >1.499712</td>\n",
       "                        <td id=\"T_57117eb6_8d1a_11eb_81d9_0242ac1c0002row2_col2\" class=\"data row2 col2\" >46.288937</td>\n",
       "                        <td id=\"T_57117eb6_8d1a_11eb_81d9_0242ac1c0002row2_col3\" class=\"data row2 col3\" >21.420399</td>\n",
       "                        <td id=\"T_57117eb6_8d1a_11eb_81d9_0242ac1c0002row2_col4\" class=\"data row2 col4\" >11.014731</td>\n",
       "                        <td id=\"T_57117eb6_8d1a_11eb_81d9_0242ac1c0002row2_col5\" class=\"data row2 col5\" >10.160461</td>\n",
       "            </tr>\n",
       "            <tr>\n",
       "                        <th id=\"T_57117eb6_8d1a_11eb_81d9_0242ac1c0002level0_row3\" class=\"row_heading level0 row3\" >Backpropagation (Adam)</th>\n",
       "                        <td id=\"T_57117eb6_8d1a_11eb_81d9_0242ac1c0002row3_col0\" class=\"data row3 col0\" >1.488281</td>\n",
       "                        <td id=\"T_57117eb6_8d1a_11eb_81d9_0242ac1c0002row3_col1\" class=\"data row3 col1\" >1.468170</td>\n",
       "                        <td id=\"T_57117eb6_8d1a_11eb_81d9_0242ac1c0002row3_col2\" class=\"data row3 col2\" >46.360050</td>\n",
       "                        <td id=\"T_57117eb6_8d1a_11eb_81d9_0242ac1c0002row3_col3\" class=\"data row3 col3\" >21.547369</td>\n",
       "                        <td id=\"T_57117eb6_8d1a_11eb_81d9_0242ac1c0002row3_col4\" class=\"data row3 col4\" >11.082728</td>\n",
       "                        <td id=\"T_57117eb6_8d1a_11eb_81d9_0242ac1c0002row3_col5\" class=\"data row3 col5\" >10.268255</td>\n",
       "            </tr>\n",
       "    </tbody></table>"
      ],
      "text/plain": [
       "<pandas.io.formats.style.Styler at 0x7fa3ad164210>"
      ]
     },
     "execution_count": 116,
     "metadata": {
      "tags": []
     },
     "output_type": "execute_result"
    }
   ],
   "source": [
    "results.style.\\\n",
    "    highlight_max(subset=[\"Accuracy\", \"Precision (macro)\", \"Recall (macro)\", \"F1 (macro)\"]).\\\n",
    "    highlight_min(subset=[\"Training loss\", \"Validation loss\"]).\\\n",
    "    set_properties(**{\"text-align\": \"center\"})"
   ]
  },
  {
   "cell_type": "markdown",
   "metadata": {
    "id": "GfCp_ftmHV_w"
   },
   "source": [
    "# Experimenting with the model hyperparameters"
   ]
  },
  {
   "cell_type": "markdown",
   "metadata": {
    "id": "o2wEwmXFTuC3"
   },
   "source": [
    "## The new model"
   ]
  },
  {
   "cell_type": "code",
   "execution_count": null,
   "metadata": {
    "colab": {
     "base_uri": "https://localhost:8080/"
    },
    "id": "JnJsiTXLICZ2",
    "outputId": "06165268-f82a-4eed-c85e-ccd6e552ad9b"
   },
   "outputs": [
    {
     "data": {
      "text/plain": [
       "[(61385, 600), (215, 32), (305, 39), (25, 10), (51, 14), (79, 18), (21, 9)]"
      ]
     },
     "execution_count": 37,
     "metadata": {
      "tags": []
     },
     "output_type": "execute_result"
    }
   ],
   "source": [
    "embeddings_sizes = get_emb_sz(dataloaders.train_ds) # We will use bigger embeddings this time\n",
    "embeddings_sizes"
   ]
  },
  {
   "cell_type": "code",
   "execution_count": null,
   "metadata": {
    "id": "B9A6N-euHz0a"
   },
   "outputs": [],
   "source": [
    "# And more linear layers with more neurons\n",
    "def create_model(embed_p=0.1):\n",
    "    model = TabularModel(\n",
    "        emb_szs=embeddings_sizes,       # sizes of the embeddings matrices\n",
    "        out_sz=num_classes,             # Number of output classes\n",
    "        layers=[256, 128, 64, 32],      # linear (dense) layers sizes\n",
    "        embed_p=embed_p,                # dropout probability\n",
    "        n_cont=0,                       # number of continuous variables (0)\n",
    "        bn_cont=False,                  # we don't use a BatchNorm layer on the continuous variables since we don't have any\n",
    "    ).cuda()\n",
    "\n",
    "    return model"
   ]
  },
  {
   "cell_type": "markdown",
   "metadata": {
    "id": "ce9WfIt_Nosz"
   },
   "source": [
    "The new model architecture"
   ]
  },
  {
   "cell_type": "code",
   "execution_count": null,
   "metadata": {
    "colab": {
     "base_uri": "https://localhost:8080/"
    },
    "id": "uSpRiaQvNnEl",
    "outputId": "b8e7ca86-889b-4e70-b8c5-8204f53ef601"
   },
   "outputs": [
    {
     "data": {
      "text/plain": [
       "TabularModel(\n",
       "  (embeds): ModuleList(\n",
       "    (0): Embedding(61385, 600)\n",
       "    (1): Embedding(215, 32)\n",
       "    (2): Embedding(305, 39)\n",
       "    (3): Embedding(25, 10)\n",
       "    (4): Embedding(51, 14)\n",
       "    (5): Embedding(79, 18)\n",
       "    (6): Embedding(21, 9)\n",
       "  )\n",
       "  (emb_drop): Dropout(p=0.1, inplace=False)\n",
       "  (layers): Sequential(\n",
       "    (0): LinBnDrop(\n",
       "      (0): BatchNorm1d(722, eps=1e-05, momentum=0.1, affine=True, track_running_stats=True)\n",
       "      (1): Linear(in_features=722, out_features=256, bias=False)\n",
       "      (2): ReLU(inplace=True)\n",
       "    )\n",
       "    (1): LinBnDrop(\n",
       "      (0): BatchNorm1d(256, eps=1e-05, momentum=0.1, affine=True, track_running_stats=True)\n",
       "      (1): Linear(in_features=256, out_features=128, bias=False)\n",
       "      (2): ReLU(inplace=True)\n",
       "    )\n",
       "    (2): LinBnDrop(\n",
       "      (0): BatchNorm1d(128, eps=1e-05, momentum=0.1, affine=True, track_running_stats=True)\n",
       "      (1): Linear(in_features=128, out_features=64, bias=False)\n",
       "      (2): ReLU(inplace=True)\n",
       "    )\n",
       "    (3): LinBnDrop(\n",
       "      (0): BatchNorm1d(64, eps=1e-05, momentum=0.1, affine=True, track_running_stats=True)\n",
       "      (1): Linear(in_features=64, out_features=32, bias=False)\n",
       "      (2): ReLU(inplace=True)\n",
       "    )\n",
       "    (4): LinBnDrop(\n",
       "      (0): Linear(in_features=32, out_features=17, bias=True)\n",
       "    )\n",
       "  )\n",
       ")"
      ]
     },
     "execution_count": 39,
     "metadata": {
      "tags": []
     },
     "output_type": "execute_result"
    }
   ],
   "source": [
    "create_model()"
   ]
  },
  {
   "cell_type": "markdown",
   "metadata": {
    "id": "wBkIMnIXN6sf"
   },
   "source": [
    "The best algorithms were Quickprop and Adam, so we'll use them to train the model here"
   ]
  },
  {
   "cell_type": "markdown",
   "metadata": {
    "id": "j5F01BliN4do"
   },
   "source": [
    "## Using Quickprop"
   ]
  },
  {
   "cell_type": "code",
   "execution_count": null,
   "metadata": {
    "id": "FyikE_gjNn7U"
   },
   "outputs": [],
   "source": [
    "model = create_model()\n",
    "optimizer = Quickprop(model.parameters(), lr=1, sgd_lr=1e-2)"
   ]
  },
  {
   "cell_type": "code",
   "execution_count": null,
   "metadata": {
    "colab": {
     "base_uri": "https://localhost:8080/",
     "height": 165,
     "referenced_widgets": [
      "e89718331d4f438c906fd23a69a72942",
      "ca698662c9094fb5b37c5ec82a07d733",
      "cc95c4d4a2a344aea0d7f50126fd884f",
      "54c52605243b41a6b03567f74323b262",
      "5be54db3347648a5aba9f291f1c60a95",
      "d6216e470ee648e98188291c890d9344",
      "26dcbb8f80864aa59362e076ade60fd6",
      "85661c8af2894be79301194ea6ce4963",
      "6ae42f6d6e334c099a6a9abadeaed8c6",
      "fb12073858474cfea7018a3ae5838873",
      "bcb793b02c1e46d59b9ac12afb3ea667",
      "623361fe709d4c818defbff458cabd03",
      "bfbb1e3874c247e5a5e70e665d5a7492",
      "08075466eae14808aa8720e6012b93ef",
      "bb6fdcb844aa4bb49b5ba62c9d9c1b07",
      "31aa37d35e3641ac932b9db4a5f77b52"
     ]
    },
    "id": "SNn9IfSnOILy",
    "outputId": "12789814-db93-4743-c6c5-e9de8ffc30f5"
   },
   "outputs": [
    {
     "data": {
      "application/vnd.jupyter.widget-view+json": {
       "model_id": "e89718331d4f438c906fd23a69a72942",
       "version_major": 2,
       "version_minor": 0
      },
      "text/plain": [
       "HBox(children=(FloatProgress(value=0.0, max=1.0), HTML(value='')))"
      ]
     },
     "metadata": {
      "tags": []
     },
     "output_type": "display_data"
    },
    {
     "data": {
      "application/vnd.jupyter.widget-view+json": {
       "model_id": "6ae42f6d6e334c099a6a9abadeaed8c6",
       "version_major": 2,
       "version_minor": 0
      },
      "text/plain": [
       "HBox(children=(FloatProgress(value=0.0, max=107770.0), HTML(value='')))"
      ]
     },
     "metadata": {
      "tags": []
     },
     "output_type": "display_data"
    },
    {
     "name": "stdout",
     "output_type": "stream",
     "text": [
      "\n",
      "epoch 1 loss = 1.5076262475752462\n",
      "\n",
      "CPU times: user 15min 6s, sys: 2min 13s, total: 17min 20s\n",
      "Wall time: 17min 44s\n"
     ]
    }
   ],
   "source": [
    "%%time\n",
    "\n",
    "num_epochs = 1\n",
    "\n",
    "model.train()\n",
    "\n",
    "for epoch in tqdm(range(num_epochs)):\n",
    "    train_loss = 0.0\n",
    "    for x, _, y in tqdm(dataloaders.train):\n",
    "\n",
    "        def closure():\n",
    "            if torch.is_grad_enabled():\n",
    "                optimizer.zero_grad()\n",
    "            logits = model(x.cuda())\n",
    "            loss = loss_fn(logits, y.view(-1).long().cuda())\n",
    "            if loss.requires_grad:\n",
    "                loss.backward()\n",
    "            return loss\n",
    "\n",
    "        loss = optimizer.step(closure)\n",
    "        train_loss += loss.item()\n",
    "    \n",
    "    train_loss /= len(dataloaders.train)\n",
    "    print(f\"epoch {epoch + 1} loss = {train_loss}\")"
   ]
  },
  {
   "cell_type": "code",
   "execution_count": null,
   "metadata": {
    "colab": {
     "base_uri": "https://localhost:8080/",
     "height": 150,
     "referenced_widgets": [
      "3ec5956be76a41dc893759ed26d9e99d",
      "586721088e144420a5c0f8623989e3c7",
      "7207a488cdc94405b3e301845bcc4683",
      "641a6d2e4e0b4f74881f4a6a533b2a40",
      "d9be85cd73664519a8db87111b485c16",
      "6b553dcc30dc491a9a471b130cce606a",
      "586c9e58f84d46339b25874eb712937d",
      "f8768db7089047feb5b62e369d21e01e"
     ]
    },
    "id": "nQpRhryWOI8J",
    "outputId": "58a212b1-402e-436d-f2c3-cabd2fc1ef89"
   },
   "outputs": [
    {
     "data": {
      "application/vnd.jupyter.widget-view+json": {
       "model_id": "3ec5956be76a41dc893759ed26d9e99d",
       "version_major": 2,
       "version_minor": 0
      },
      "text/plain": [
       "HBox(children=(FloatProgress(value=0.0, max=5673.0), HTML(value='')))"
      ]
     },
     "metadata": {
      "tags": []
     },
     "output_type": "display_data"
    },
    {
     "name": "stdout",
     "output_type": "stream",
     "text": [
      "\n",
      "loss = 1.476114185087983\n",
      "accuracy = 46.387908935546875\n",
      "precision_macro = 18.239896774291992\n",
      "recall_macro = 11.25308895111084\n",
      "f1_macro = 10.294276237487793\n"
     ]
    }
   ],
   "source": [
    "evaluate(model)"
   ]
  },
  {
   "cell_type": "code",
   "execution_count": null,
   "metadata": {
    "id": "pAaQsiZAOMne"
   },
   "outputs": [],
   "source": [
    "torch.save(model.state_dict(), \"quickprop_model_bigger_state_dict.pt\")"
   ]
  },
  {
   "cell_type": "markdown",
   "metadata": {
    "id": "Vfcy6kwuZ5ij"
   },
   "source": [
    "### With higher embedding dropout probability"
   ]
  },
  {
   "cell_type": "code",
   "execution_count": null,
   "metadata": {
    "id": "LP684BfoZ9p-"
   },
   "outputs": [],
   "source": [
    "model = create_model(embed_p=0.5)\n",
    "optimizer = Quickprop(model.parameters(), lr=1, sgd_lr=1e-2)"
   ]
  },
  {
   "cell_type": "code",
   "execution_count": null,
   "metadata": {
    "colab": {
     "base_uri": "https://localhost:8080/",
     "height": 165,
     "referenced_widgets": [
      "0cc59b117db04af193e99a71a42d490c",
      "f3ba7fef5bce46cea01ed99ed4b6c1bb",
      "78e05dbfd7cf42c9b68a1117736e0ff5",
      "b3e052943d5841598ba62adf43ebf0d3",
      "964b1e16f0ef4df980565245d59b5df0",
      "dc2b6b2e8c9444eab8248267f4e78edc",
      "039c1c4c202a401db283e65f3eaff84f",
      "a664b28d2a8142ec881c9333b21c4e57",
      "b3dcc804910e4a0092b26e110ad856ac",
      "4da23edcb3be4d2db08b50fd4364c462",
      "2dc4d74a353648288757c6664c2fca59",
      "4171b2f0a1954711af6d1ed11c69a8ee",
      "abbd1885e56a4907bfabb9bd3eb16e65",
      "6c31c2cf44b24c52ac1c132be40f0dc8",
      "94ebd1eec288420daf5d46aefee324bc",
      "5e6f3836872f4567a59dfe2496a899e7"
     ]
    },
    "id": "vozoS7ZPaPKN",
    "outputId": "efb8f08f-6d17-43fc-c1fa-8719d912aff6"
   },
   "outputs": [
    {
     "data": {
      "application/vnd.jupyter.widget-view+json": {
       "model_id": "0cc59b117db04af193e99a71a42d490c",
       "version_major": 2,
       "version_minor": 0
      },
      "text/plain": [
       "HBox(children=(FloatProgress(value=0.0, max=1.0), HTML(value='')))"
      ]
     },
     "metadata": {
      "tags": []
     },
     "output_type": "display_data"
    },
    {
     "data": {
      "application/vnd.jupyter.widget-view+json": {
       "model_id": "b3dcc804910e4a0092b26e110ad856ac",
       "version_major": 2,
       "version_minor": 0
      },
      "text/plain": [
       "HBox(children=(FloatProgress(value=0.0, max=107770.0), HTML(value='')))"
      ]
     },
     "metadata": {
      "tags": []
     },
     "output_type": "display_data"
    },
    {
     "name": "stdout",
     "output_type": "stream",
     "text": [
      "\n",
      "epoch 1 loss = 1.5297374556466579\n",
      "\n",
      "CPU times: user 15min 18s, sys: 2min 14s, total: 17min 32s\n",
      "Wall time: 17min 54s\n"
     ]
    }
   ],
   "source": [
    "%%time\n",
    "\n",
    "num_epochs = 1\n",
    "\n",
    "model.train()\n",
    "\n",
    "for epoch in tqdm(range(num_epochs)):\n",
    "    train_loss = 0.0\n",
    "    for x, _, y in tqdm(dataloaders.train):\n",
    "\n",
    "        def closure():\n",
    "            if torch.is_grad_enabled():\n",
    "                optimizer.zero_grad()\n",
    "            logits = model(x.cuda())\n",
    "            loss = loss_fn(logits, y.view(-1).long().cuda())\n",
    "            if loss.requires_grad:\n",
    "                loss.backward()\n",
    "            return loss\n",
    "\n",
    "        loss = optimizer.step(closure)\n",
    "        train_loss += loss.item()\n",
    "    \n",
    "    train_loss /= len(dataloaders.train)\n",
    "    print(f\"epoch {epoch + 1} loss = {train_loss}\")"
   ]
  },
  {
   "cell_type": "code",
   "execution_count": null,
   "metadata": {
    "colab": {
     "base_uri": "https://localhost:8080/",
     "height": 150,
     "referenced_widgets": [
      "e94a863c8d434116b810e91ef25268eb",
      "57f950b97a034a089d98b4317184c4b4",
      "72b64618a10a42a496007ea811208c8c",
      "ef64b741b977458691bb62ebf3756c7a",
      "28c843c2836f42f4bcbe3c1a26360b4e",
      "896a43b5f8564d25accb8cfd1dcc95d6",
      "f0b05c106f21481a814029c307a81f10",
      "2c5c70712bc14c9793d5e04b1367a14c"
     ]
    },
    "id": "3jCkQvx0aSIV",
    "outputId": "c1440523-6ed9-4bbc-95b8-d74ea555f395"
   },
   "outputs": [
    {
     "data": {
      "application/vnd.jupyter.widget-view+json": {
       "model_id": "e94a863c8d434116b810e91ef25268eb",
       "version_major": 2,
       "version_minor": 0
      },
      "text/plain": [
       "HBox(children=(FloatProgress(value=0.0, max=5673.0), HTML(value='')))"
      ]
     },
     "metadata": {
      "tags": []
     },
     "output_type": "display_data"
    },
    {
     "name": "stdout",
     "output_type": "stream",
     "text": [
      "\n",
      "loss = 1.4881417199288982\n",
      "accuracy = 46.29957580566406\n",
      "precision_macro = 19.059648513793945\n",
      "recall_macro = 11.078492164611816\n",
      "f1_macro = 10.097859382629395\n"
     ]
    }
   ],
   "source": [
    "evaluate(model)"
   ]
  },
  {
   "cell_type": "markdown",
   "metadata": {
    "id": "XcXtESghT69x"
   },
   "source": [
    "## Using Adam"
   ]
  },
  {
   "cell_type": "code",
   "execution_count": null,
   "metadata": {
    "id": "--_3b-LzUBgS"
   },
   "outputs": [],
   "source": [
    "del model, optimizer\n",
    "torch.cuda.empty_cache()\n",
    "gc.collect();"
   ]
  },
  {
   "cell_type": "code",
   "execution_count": null,
   "metadata": {
    "id": "Gc1TgnsFOMTJ"
   },
   "outputs": [],
   "source": [
    "model = create_model()\n",
    "optimizer = Adam(model.parameters())"
   ]
  },
  {
   "cell_type": "code",
   "execution_count": null,
   "metadata": {
    "colab": {
     "base_uri": "https://localhost:8080/",
     "height": 165,
     "referenced_widgets": [
      "add24c1dcb4647fcac41f36311f4b602",
      "f891540316084eaf977d6ad78e2ddb46",
      "eb70aaa766a64b2e86607fabb272eaa7",
      "b413f9e770324a0ea7f0d26872c4270f",
      "31ae7cefd44444e7879cde3d56be895a",
      "1ebde9ca54714f6db403759d9397b17b",
      "b59279e1b6364d6b89c3fcba506462ad",
      "1a59f5b520e54ce3bf973db0b3ff9723",
      "a4ee27361f4c4188b1a99fabb7f35047",
      "dd7e5c755aa8431682cc9633b8a888e6",
      "59e9017220b249129f9c16a7bea4a7ce",
      "970de6a5c3b9456c912459aa89e1ce82",
      "078606bd959b4137af6e5829784a70cf",
      "0a1bbb89561140f68c756314bc1085c3",
      "8666a42e7e1d495d9ebf9666a99f7b3d",
      "805c22647dcb459993f918e37fa9f41d"
     ]
    },
    "id": "6SVWOckWUGXm",
    "outputId": "09cd9a91-6871-4888-87fd-634dcb772c02"
   },
   "outputs": [
    {
     "data": {
      "application/vnd.jupyter.widget-view+json": {
       "model_id": "add24c1dcb4647fcac41f36311f4b602",
       "version_major": 2,
       "version_minor": 0
      },
      "text/plain": [
       "HBox(children=(FloatProgress(value=0.0, max=1.0), HTML(value='')))"
      ]
     },
     "metadata": {
      "tags": []
     },
     "output_type": "display_data"
    },
    {
     "data": {
      "application/vnd.jupyter.widget-view+json": {
       "model_id": "a4ee27361f4c4188b1a99fabb7f35047",
       "version_major": 2,
       "version_minor": 0
      },
      "text/plain": [
       "HBox(children=(FloatProgress(value=0.0, max=107770.0), HTML(value='')))"
      ]
     },
     "metadata": {
      "tags": []
     },
     "output_type": "display_data"
    },
    {
     "name": "stdout",
     "output_type": "stream",
     "text": [
      "\n",
      "epoch 1 loss = 1.49372769812435\n",
      "\n",
      "CPU times: user 17min 59s, sys: 4min 7s, total: 22min 7s\n",
      "Wall time: 22min 32s\n"
     ]
    }
   ],
   "source": [
    "%%time\n",
    "\n",
    "num_epochs = 1\n",
    "\n",
    "model.train()\n",
    "\n",
    "for epoch in tqdm(range(num_epochs)):\n",
    "    train_loss = 0.0\n",
    "    for x, _, y in tqdm(dataloaders.train):\n",
    "        optimizer.zero_grad()\n",
    "        logits = model(x.cuda())\n",
    "        loss = loss_fn(logits, y.view(-1).long().cuda())\n",
    "        loss.backward()\n",
    "        optimizer.step()\n",
    "\n",
    "        train_loss += loss.item()\n",
    "\n",
    "    train_loss /= len(dataloaders.train)\n",
    "    print(f\"epoch {epoch + 1} loss = {train_loss}\")"
   ]
  },
  {
   "cell_type": "code",
   "execution_count": null,
   "metadata": {
    "colab": {
     "base_uri": "https://localhost:8080/",
     "height": 150,
     "referenced_widgets": [
      "eef585c97b3b43cb95c40414c63c5a5d",
      "d586fae50b94467ca57462b196c029bd",
      "9030821086084d579f695dcf670b46df",
      "6bc107bbb88040b0ab53ce28c9a0b9de",
      "4a1c16f1575a41a08bda7b1fbd96c87d",
      "fa92366b0aea46ca8b48bb7764f2f21d",
      "f6e0d7b71f9d4b8ea5bcd2bc2946ec25",
      "d92ca27b9178454f8028ed15542da811"
     ]
    },
    "id": "dUlnvFJVUYRh",
    "outputId": "88f23c5a-b78b-4c44-9504-4556e15beca0"
   },
   "outputs": [
    {
     "data": {
      "application/vnd.jupyter.widget-view+json": {
       "model_id": "eef585c97b3b43cb95c40414c63c5a5d",
       "version_major": 2,
       "version_minor": 0
      },
      "text/plain": [
       "HBox(children=(FloatProgress(value=0.0, max=5673.0), HTML(value='')))"
      ]
     },
     "metadata": {
      "tags": []
     },
     "output_type": "display_data"
    },
    {
     "name": "stdout",
     "output_type": "stream",
     "text": [
      "\n",
      "loss = 1.4698040916998298\n",
      "accuracy = 46.475372314453125\n",
      "precision_macro = 18.82851219177246\n",
      "recall_macro = 11.221884727478027\n",
      "f1_macro = 10.278396606445312\n"
     ]
    }
   ],
   "source": [
    "evaluate(model)"
   ]
  },
  {
   "cell_type": "code",
   "execution_count": null,
   "metadata": {
    "id": "U9kE2eDZUGqG"
   },
   "outputs": [],
   "source": [
    "torch.save(model.state_dict(), \"backprop_model_bigger_state_dict.pt\")"
   ]
  }
 ],
 "metadata": {
  "accelerator": "GPU",
  "colab": {
   "collapsed_sections": [],
   "name": "Chicago_crimes .ipynb",
   "provenance": [],
   "toc_visible": true
  },
  "kernelspec": {
   "display_name": "Python 3 (ipykernel)",
   "language": "python",
   "name": "python3"
  },
  "language_info": {
   "codemirror_mode": {
    "name": "ipython",
    "version": 3
   },
   "file_extension": ".py",
   "mimetype": "text/x-python",
   "name": "python",
   "nbconvert_exporter": "python",
   "pygments_lexer": "ipython3",
   "version": "3.11.5"
  },
  "widgets": {
   "application/vnd.jupyter.widget-state+json": {
    "03737b2b33e44890bc38ea111216b70f": {
     "model_module": "@jupyter-widgets/base",
     "model_name": "LayoutModel",
     "state": {
      "_model_module": "@jupyter-widgets/base",
      "_model_module_version": "1.2.0",
      "_model_name": "LayoutModel",
      "_view_count": null,
      "_view_module": "@jupyter-widgets/base",
      "_view_module_version": "1.2.0",
      "_view_name": "LayoutView",
      "align_content": null,
      "align_items": null,
      "align_self": null,
      "border": null,
      "bottom": null,
      "display": null,
      "flex": null,
      "flex_flow": null,
      "grid_area": null,
      "grid_auto_columns": null,
      "grid_auto_flow": null,
      "grid_auto_rows": null,
      "grid_column": null,
      "grid_gap": null,
      "grid_row": null,
      "grid_template_areas": null,
      "grid_template_columns": null,
      "grid_template_rows": null,
      "height": null,
      "justify_content": null,
      "justify_items": null,
      "left": null,
      "margin": null,
      "max_height": null,
      "max_width": null,
      "min_height": null,
      "min_width": null,
      "object_fit": null,
      "object_position": null,
      "order": null,
      "overflow": null,
      "overflow_x": null,
      "overflow_y": null,
      "padding": null,
      "right": null,
      "top": null,
      "visibility": null,
      "width": null
     }
    },
    "039c1c4c202a401db283e65f3eaff84f": {
     "model_module": "@jupyter-widgets/controls",
     "model_name": "DescriptionStyleModel",
     "state": {
      "_model_module": "@jupyter-widgets/controls",
      "_model_module_version": "1.5.0",
      "_model_name": "DescriptionStyleModel",
      "_view_count": null,
      "_view_module": "@jupyter-widgets/base",
      "_view_module_version": "1.2.0",
      "_view_name": "StyleView",
      "description_width": ""
     }
    },
    "0487c5eb9c7943c69d119c83e3cdf1ce": {
     "model_module": "@jupyter-widgets/controls",
     "model_name": "ProgressStyleModel",
     "state": {
      "_model_module": "@jupyter-widgets/controls",
      "_model_module_version": "1.5.0",
      "_model_name": "ProgressStyleModel",
      "_view_count": null,
      "_view_module": "@jupyter-widgets/base",
      "_view_module_version": "1.2.0",
      "_view_name": "StyleView",
      "bar_color": null,
      "description_width": "initial"
     }
    },
    "078606bd959b4137af6e5829784a70cf": {
     "model_module": "@jupyter-widgets/controls",
     "model_name": "ProgressStyleModel",
     "state": {
      "_model_module": "@jupyter-widgets/controls",
      "_model_module_version": "1.5.0",
      "_model_name": "ProgressStyleModel",
      "_view_count": null,
      "_view_module": "@jupyter-widgets/base",
      "_view_module_version": "1.2.0",
      "_view_name": "StyleView",
      "bar_color": null,
      "description_width": "initial"
     }
    },
    "08075466eae14808aa8720e6012b93ef": {
     "model_module": "@jupyter-widgets/base",
     "model_name": "LayoutModel",
     "state": {
      "_model_module": "@jupyter-widgets/base",
      "_model_module_version": "1.2.0",
      "_model_name": "LayoutModel",
      "_view_count": null,
      "_view_module": "@jupyter-widgets/base",
      "_view_module_version": "1.2.0",
      "_view_name": "LayoutView",
      "align_content": null,
      "align_items": null,
      "align_self": null,
      "border": null,
      "bottom": null,
      "display": null,
      "flex": null,
      "flex_flow": null,
      "grid_area": null,
      "grid_auto_columns": null,
      "grid_auto_flow": null,
      "grid_auto_rows": null,
      "grid_column": null,
      "grid_gap": null,
      "grid_row": null,
      "grid_template_areas": null,
      "grid_template_columns": null,
      "grid_template_rows": null,
      "height": null,
      "justify_content": null,
      "justify_items": null,
      "left": null,
      "margin": null,
      "max_height": null,
      "max_width": null,
      "min_height": null,
      "min_width": null,
      "object_fit": null,
      "object_position": null,
      "order": null,
      "overflow": null,
      "overflow_x": null,
      "overflow_y": null,
      "padding": null,
      "right": null,
      "top": null,
      "visibility": null,
      "width": null
     }
    },
    "0a1bbb89561140f68c756314bc1085c3": {
     "model_module": "@jupyter-widgets/base",
     "model_name": "LayoutModel",
     "state": {
      "_model_module": "@jupyter-widgets/base",
      "_model_module_version": "1.2.0",
      "_model_name": "LayoutModel",
      "_view_count": null,
      "_view_module": "@jupyter-widgets/base",
      "_view_module_version": "1.2.0",
      "_view_name": "LayoutView",
      "align_content": null,
      "align_items": null,
      "align_self": null,
      "border": null,
      "bottom": null,
      "display": null,
      "flex": null,
      "flex_flow": null,
      "grid_area": null,
      "grid_auto_columns": null,
      "grid_auto_flow": null,
      "grid_auto_rows": null,
      "grid_column": null,
      "grid_gap": null,
      "grid_row": null,
      "grid_template_areas": null,
      "grid_template_columns": null,
      "grid_template_rows": null,
      "height": null,
      "justify_content": null,
      "justify_items": null,
      "left": null,
      "margin": null,
      "max_height": null,
      "max_width": null,
      "min_height": null,
      "min_width": null,
      "object_fit": null,
      "object_position": null,
      "order": null,
      "overflow": null,
      "overflow_x": null,
      "overflow_y": null,
      "padding": null,
      "right": null,
      "top": null,
      "visibility": null,
      "width": null
     }
    },
    "0cc59b117db04af193e99a71a42d490c": {
     "model_module": "@jupyter-widgets/controls",
     "model_name": "HBoxModel",
     "state": {
      "_dom_classes": [],
      "_model_module": "@jupyter-widgets/controls",
      "_model_module_version": "1.5.0",
      "_model_name": "HBoxModel",
      "_view_count": null,
      "_view_module": "@jupyter-widgets/controls",
      "_view_module_version": "1.5.0",
      "_view_name": "HBoxView",
      "box_style": "",
      "children": [
       "IPY_MODEL_78e05dbfd7cf42c9b68a1117736e0ff5",
       "IPY_MODEL_b3e052943d5841598ba62adf43ebf0d3"
      ],
      "layout": "IPY_MODEL_f3ba7fef5bce46cea01ed99ed4b6c1bb"
     }
    },
    "10706562912e41b99feb3a7e597d19a4": {
     "model_module": "@jupyter-widgets/controls",
     "model_name": "DescriptionStyleModel",
     "state": {
      "_model_module": "@jupyter-widgets/controls",
      "_model_module_version": "1.5.0",
      "_model_name": "DescriptionStyleModel",
      "_view_count": null,
      "_view_module": "@jupyter-widgets/base",
      "_view_module_version": "1.2.0",
      "_view_name": "StyleView",
      "description_width": ""
     }
    },
    "1217c8ff05144f028f7c156aba42ae1b": {
     "model_module": "@jupyter-widgets/controls",
     "model_name": "DescriptionStyleModel",
     "state": {
      "_model_module": "@jupyter-widgets/controls",
      "_model_module_version": "1.5.0",
      "_model_name": "DescriptionStyleModel",
      "_view_count": null,
      "_view_module": "@jupyter-widgets/base",
      "_view_module_version": "1.2.0",
      "_view_name": "StyleView",
      "description_width": ""
     }
    },
    "1406704492db4391a32ce5dad7161005": {
     "model_module": "@jupyter-widgets/controls",
     "model_name": "HBoxModel",
     "state": {
      "_dom_classes": [],
      "_model_module": "@jupyter-widgets/controls",
      "_model_module_version": "1.5.0",
      "_model_name": "HBoxModel",
      "_view_count": null,
      "_view_module": "@jupyter-widgets/controls",
      "_view_module_version": "1.5.0",
      "_view_name": "HBoxView",
      "box_style": "",
      "children": [
       "IPY_MODEL_d475b67b30b54caf98ca0efe7d1b89fa",
       "IPY_MODEL_cfbc238f7d9941efb9661b8e92654fdb"
      ],
      "layout": "IPY_MODEL_5895ed05cebb442a94fcb600f691e8e3"
     }
    },
    "16ba3c1364bd4d928914fbd91cde1dea": {
     "model_module": "@jupyter-widgets/base",
     "model_name": "LayoutModel",
     "state": {
      "_model_module": "@jupyter-widgets/base",
      "_model_module_version": "1.2.0",
      "_model_name": "LayoutModel",
      "_view_count": null,
      "_view_module": "@jupyter-widgets/base",
      "_view_module_version": "1.2.0",
      "_view_name": "LayoutView",
      "align_content": null,
      "align_items": null,
      "align_self": null,
      "border": null,
      "bottom": null,
      "display": null,
      "flex": null,
      "flex_flow": null,
      "grid_area": null,
      "grid_auto_columns": null,
      "grid_auto_flow": null,
      "grid_auto_rows": null,
      "grid_column": null,
      "grid_gap": null,
      "grid_row": null,
      "grid_template_areas": null,
      "grid_template_columns": null,
      "grid_template_rows": null,
      "height": null,
      "justify_content": null,
      "justify_items": null,
      "left": null,
      "margin": null,
      "max_height": null,
      "max_width": null,
      "min_height": null,
      "min_width": null,
      "object_fit": null,
      "object_position": null,
      "order": null,
      "overflow": null,
      "overflow_x": null,
      "overflow_y": null,
      "padding": null,
      "right": null,
      "top": null,
      "visibility": null,
      "width": null
     }
    },
    "170a2adfb89f48c094b1099147507a3b": {
     "model_module": "@jupyter-widgets/base",
     "model_name": "LayoutModel",
     "state": {
      "_model_module": "@jupyter-widgets/base",
      "_model_module_version": "1.2.0",
      "_model_name": "LayoutModel",
      "_view_count": null,
      "_view_module": "@jupyter-widgets/base",
      "_view_module_version": "1.2.0",
      "_view_name": "LayoutView",
      "align_content": null,
      "align_items": null,
      "align_self": null,
      "border": null,
      "bottom": null,
      "display": null,
      "flex": null,
      "flex_flow": null,
      "grid_area": null,
      "grid_auto_columns": null,
      "grid_auto_flow": null,
      "grid_auto_rows": null,
      "grid_column": null,
      "grid_gap": null,
      "grid_row": null,
      "grid_template_areas": null,
      "grid_template_columns": null,
      "grid_template_rows": null,
      "height": null,
      "justify_content": null,
      "justify_items": null,
      "left": null,
      "margin": null,
      "max_height": null,
      "max_width": null,
      "min_height": null,
      "min_width": null,
      "object_fit": null,
      "object_position": null,
      "order": null,
      "overflow": null,
      "overflow_x": null,
      "overflow_y": null,
      "padding": null,
      "right": null,
      "top": null,
      "visibility": null,
      "width": null
     }
    },
    "1a59f5b520e54ce3bf973db0b3ff9723": {
     "model_module": "@jupyter-widgets/base",
     "model_name": "LayoutModel",
     "state": {
      "_model_module": "@jupyter-widgets/base",
      "_model_module_version": "1.2.0",
      "_model_name": "LayoutModel",
      "_view_count": null,
      "_view_module": "@jupyter-widgets/base",
      "_view_module_version": "1.2.0",
      "_view_name": "LayoutView",
      "align_content": null,
      "align_items": null,
      "align_self": null,
      "border": null,
      "bottom": null,
      "display": null,
      "flex": null,
      "flex_flow": null,
      "grid_area": null,
      "grid_auto_columns": null,
      "grid_auto_flow": null,
      "grid_auto_rows": null,
      "grid_column": null,
      "grid_gap": null,
      "grid_row": null,
      "grid_template_areas": null,
      "grid_template_columns": null,
      "grid_template_rows": null,
      "height": null,
      "justify_content": null,
      "justify_items": null,
      "left": null,
      "margin": null,
      "max_height": null,
      "max_width": null,
      "min_height": null,
      "min_width": null,
      "object_fit": null,
      "object_position": null,
      "order": null,
      "overflow": null,
      "overflow_x": null,
      "overflow_y": null,
      "padding": null,
      "right": null,
      "top": null,
      "visibility": null,
      "width": null
     }
    },
    "1b0dee61d5564d5aa4572cf0e0361cda": {
     "model_module": "@jupyter-widgets/controls",
     "model_name": "ProgressStyleModel",
     "state": {
      "_model_module": "@jupyter-widgets/controls",
      "_model_module_version": "1.5.0",
      "_model_name": "ProgressStyleModel",
      "_view_count": null,
      "_view_module": "@jupyter-widgets/base",
      "_view_module_version": "1.2.0",
      "_view_name": "StyleView",
      "bar_color": null,
      "description_width": "initial"
     }
    },
    "1b321bec59bb4d43b740875f44929437": {
     "model_module": "@jupyter-widgets/controls",
     "model_name": "FloatProgressModel",
     "state": {
      "_dom_classes": [],
      "_model_module": "@jupyter-widgets/controls",
      "_model_module_version": "1.5.0",
      "_model_name": "FloatProgressModel",
      "_view_count": null,
      "_view_module": "@jupyter-widgets/controls",
      "_view_module_version": "1.5.0",
      "_view_name": "ProgressView",
      "bar_style": "success",
      "description": "100%",
      "description_tooltip": null,
      "layout": "IPY_MODEL_57743b726ae744a1a38a120da59dccd1",
      "max": 5673,
      "min": 0,
      "orientation": "horizontal",
      "style": "IPY_MODEL_0487c5eb9c7943c69d119c83e3cdf1ce",
      "value": 5673
     }
    },
    "1c0d92e2836f429da989f07d282023a4": {
     "model_module": "@jupyter-widgets/controls",
     "model_name": "HBoxModel",
     "state": {
      "_dom_classes": [],
      "_model_module": "@jupyter-widgets/controls",
      "_model_module_version": "1.5.0",
      "_model_name": "HBoxModel",
      "_view_count": null,
      "_view_module": "@jupyter-widgets/controls",
      "_view_module_version": "1.5.0",
      "_view_name": "HBoxView",
      "box_style": "",
      "children": [
       "IPY_MODEL_a88afc5fd74942439748dfba871cd3bd",
       "IPY_MODEL_3bc68f487d5e4a6fbe74d382c3f6b2e9"
      ],
      "layout": "IPY_MODEL_4134ed216fe74675a165f3359cc97a4e"
     }
    },
    "1eb584921d3848798c40387c27d1672e": {
     "model_module": "@jupyter-widgets/controls",
     "model_name": "HBoxModel",
     "state": {
      "_dom_classes": [],
      "_model_module": "@jupyter-widgets/controls",
      "_model_module_version": "1.5.0",
      "_model_name": "HBoxModel",
      "_view_count": null,
      "_view_module": "@jupyter-widgets/controls",
      "_view_module_version": "1.5.0",
      "_view_name": "HBoxView",
      "box_style": "",
      "children": [
       "IPY_MODEL_dad0a076311142d29cf8c0e62c86f30f",
       "IPY_MODEL_a76046af739a4d98ade7171f869052a6"
      ],
      "layout": "IPY_MODEL_f00009cd99214664b0ac0ef076b0ae30"
     }
    },
    "1ebde9ca54714f6db403759d9397b17b": {
     "model_module": "@jupyter-widgets/base",
     "model_name": "LayoutModel",
     "state": {
      "_model_module": "@jupyter-widgets/base",
      "_model_module_version": "1.2.0",
      "_model_name": "LayoutModel",
      "_view_count": null,
      "_view_module": "@jupyter-widgets/base",
      "_view_module_version": "1.2.0",
      "_view_name": "LayoutView",
      "align_content": null,
      "align_items": null,
      "align_self": null,
      "border": null,
      "bottom": null,
      "display": null,
      "flex": null,
      "flex_flow": null,
      "grid_area": null,
      "grid_auto_columns": null,
      "grid_auto_flow": null,
      "grid_auto_rows": null,
      "grid_column": null,
      "grid_gap": null,
      "grid_row": null,
      "grid_template_areas": null,
      "grid_template_columns": null,
      "grid_template_rows": null,
      "height": null,
      "justify_content": null,
      "justify_items": null,
      "left": null,
      "margin": null,
      "max_height": null,
      "max_width": null,
      "min_height": null,
      "min_width": null,
      "object_fit": null,
      "object_position": null,
      "order": null,
      "overflow": null,
      "overflow_x": null,
      "overflow_y": null,
      "padding": null,
      "right": null,
      "top": null,
      "visibility": null,
      "width": null
     }
    },
    "1efc6f476cd3438d8e13427d35eda5ab": {
     "model_module": "@jupyter-widgets/controls",
     "model_name": "FloatProgressModel",
     "state": {
      "_dom_classes": [],
      "_model_module": "@jupyter-widgets/controls",
      "_model_module_version": "1.5.0",
      "_model_name": "FloatProgressModel",
      "_view_count": null,
      "_view_module": "@jupyter-widgets/controls",
      "_view_module_version": "1.5.0",
      "_view_name": "ProgressView",
      "bar_style": "success",
      "description": "100%",
      "description_tooltip": null,
      "layout": "IPY_MODEL_3acf62266cd343029d1436299ca21dfa",
      "max": 5673,
      "min": 0,
      "orientation": "horizontal",
      "style": "IPY_MODEL_2171baa99e9943c09b3913cb1086c5d5",
      "value": 5673
     }
    },
    "2171baa99e9943c09b3913cb1086c5d5": {
     "model_module": "@jupyter-widgets/controls",
     "model_name": "ProgressStyleModel",
     "state": {
      "_model_module": "@jupyter-widgets/controls",
      "_model_module_version": "1.5.0",
      "_model_name": "ProgressStyleModel",
      "_view_count": null,
      "_view_module": "@jupyter-widgets/base",
      "_view_module_version": "1.2.0",
      "_view_name": "StyleView",
      "bar_color": null,
      "description_width": "initial"
     }
    },
    "23eb629abc204d61957e85dc3087ffd5": {
     "model_module": "@jupyter-widgets/controls",
     "model_name": "FloatProgressModel",
     "state": {
      "_dom_classes": [],
      "_model_module": "@jupyter-widgets/controls",
      "_model_module_version": "1.5.0",
      "_model_name": "FloatProgressModel",
      "_view_count": null,
      "_view_module": "@jupyter-widgets/controls",
      "_view_module_version": "1.5.0",
      "_view_name": "ProgressView",
      "bar_style": "success",
      "description": "100%",
      "description_tooltip": null,
      "layout": "IPY_MODEL_291506152ea14f1e8637bb7b9c70443c",
      "max": 5673,
      "min": 0,
      "orientation": "horizontal",
      "style": "IPY_MODEL_74a933c82c274a8894dc7ac35038a827",
      "value": 5673
     }
    },
    "26dcbb8f80864aa59362e076ade60fd6": {
     "model_module": "@jupyter-widgets/controls",
     "model_name": "DescriptionStyleModel",
     "state": {
      "_model_module": "@jupyter-widgets/controls",
      "_model_module_version": "1.5.0",
      "_model_name": "DescriptionStyleModel",
      "_view_count": null,
      "_view_module": "@jupyter-widgets/base",
      "_view_module_version": "1.2.0",
      "_view_name": "StyleView",
      "description_width": ""
     }
    },
    "26e34d4a0d18456ead101454a22b8f59": {
     "model_module": "@jupyter-widgets/controls",
     "model_name": "DescriptionStyleModel",
     "state": {
      "_model_module": "@jupyter-widgets/controls",
      "_model_module_version": "1.5.0",
      "_model_name": "DescriptionStyleModel",
      "_view_count": null,
      "_view_module": "@jupyter-widgets/base",
      "_view_module_version": "1.2.0",
      "_view_name": "StyleView",
      "description_width": ""
     }
    },
    "28c843c2836f42f4bcbe3c1a26360b4e": {
     "model_module": "@jupyter-widgets/controls",
     "model_name": "ProgressStyleModel",
     "state": {
      "_model_module": "@jupyter-widgets/controls",
      "_model_module_version": "1.5.0",
      "_model_name": "ProgressStyleModel",
      "_view_count": null,
      "_view_module": "@jupyter-widgets/base",
      "_view_module_version": "1.2.0",
      "_view_name": "StyleView",
      "bar_color": null,
      "description_width": "initial"
     }
    },
    "291506152ea14f1e8637bb7b9c70443c": {
     "model_module": "@jupyter-widgets/base",
     "model_name": "LayoutModel",
     "state": {
      "_model_module": "@jupyter-widgets/base",
      "_model_module_version": "1.2.0",
      "_model_name": "LayoutModel",
      "_view_count": null,
      "_view_module": "@jupyter-widgets/base",
      "_view_module_version": "1.2.0",
      "_view_name": "LayoutView",
      "align_content": null,
      "align_items": null,
      "align_self": null,
      "border": null,
      "bottom": null,
      "display": null,
      "flex": null,
      "flex_flow": null,
      "grid_area": null,
      "grid_auto_columns": null,
      "grid_auto_flow": null,
      "grid_auto_rows": null,
      "grid_column": null,
      "grid_gap": null,
      "grid_row": null,
      "grid_template_areas": null,
      "grid_template_columns": null,
      "grid_template_rows": null,
      "height": null,
      "justify_content": null,
      "justify_items": null,
      "left": null,
      "margin": null,
      "max_height": null,
      "max_width": null,
      "min_height": null,
      "min_width": null,
      "object_fit": null,
      "object_position": null,
      "order": null,
      "overflow": null,
      "overflow_x": null,
      "overflow_y": null,
      "padding": null,
      "right": null,
      "top": null,
      "visibility": null,
      "width": null
     }
    },
    "2c5c70712bc14c9793d5e04b1367a14c": {
     "model_module": "@jupyter-widgets/base",
     "model_name": "LayoutModel",
     "state": {
      "_model_module": "@jupyter-widgets/base",
      "_model_module_version": "1.2.0",
      "_model_name": "LayoutModel",
      "_view_count": null,
      "_view_module": "@jupyter-widgets/base",
      "_view_module_version": "1.2.0",
      "_view_name": "LayoutView",
      "align_content": null,
      "align_items": null,
      "align_self": null,
      "border": null,
      "bottom": null,
      "display": null,
      "flex": null,
      "flex_flow": null,
      "grid_area": null,
      "grid_auto_columns": null,
      "grid_auto_flow": null,
      "grid_auto_rows": null,
      "grid_column": null,
      "grid_gap": null,
      "grid_row": null,
      "grid_template_areas": null,
      "grid_template_columns": null,
      "grid_template_rows": null,
      "height": null,
      "justify_content": null,
      "justify_items": null,
      "left": null,
      "margin": null,
      "max_height": null,
      "max_width": null,
      "min_height": null,
      "min_width": null,
      "object_fit": null,
      "object_position": null,
      "order": null,
      "overflow": null,
      "overflow_x": null,
      "overflow_y": null,
      "padding": null,
      "right": null,
      "top": null,
      "visibility": null,
      "width": null
     }
    },
    "2c73e2ea129446838f9e880670c55855": {
     "model_module": "@jupyter-widgets/controls",
     "model_name": "ProgressStyleModel",
     "state": {
      "_model_module": "@jupyter-widgets/controls",
      "_model_module_version": "1.5.0",
      "_model_name": "ProgressStyleModel",
      "_view_count": null,
      "_view_module": "@jupyter-widgets/base",
      "_view_module_version": "1.2.0",
      "_view_name": "StyleView",
      "bar_color": null,
      "description_width": "initial"
     }
    },
    "2dc4d74a353648288757c6664c2fca59": {
     "model_module": "@jupyter-widgets/controls",
     "model_name": "FloatProgressModel",
     "state": {
      "_dom_classes": [],
      "_model_module": "@jupyter-widgets/controls",
      "_model_module_version": "1.5.0",
      "_model_name": "FloatProgressModel",
      "_view_count": null,
      "_view_module": "@jupyter-widgets/controls",
      "_view_module_version": "1.5.0",
      "_view_name": "ProgressView",
      "bar_style": "success",
      "description": "100%",
      "description_tooltip": null,
      "layout": "IPY_MODEL_6c31c2cf44b24c52ac1c132be40f0dc8",
      "max": 107770,
      "min": 0,
      "orientation": "horizontal",
      "style": "IPY_MODEL_abbd1885e56a4907bfabb9bd3eb16e65",
      "value": 107770
     }
    },
    "31aa37d35e3641ac932b9db4a5f77b52": {
     "model_module": "@jupyter-widgets/base",
     "model_name": "LayoutModel",
     "state": {
      "_model_module": "@jupyter-widgets/base",
      "_model_module_version": "1.2.0",
      "_model_name": "LayoutModel",
      "_view_count": null,
      "_view_module": "@jupyter-widgets/base",
      "_view_module_version": "1.2.0",
      "_view_name": "LayoutView",
      "align_content": null,
      "align_items": null,
      "align_self": null,
      "border": null,
      "bottom": null,
      "display": null,
      "flex": null,
      "flex_flow": null,
      "grid_area": null,
      "grid_auto_columns": null,
      "grid_auto_flow": null,
      "grid_auto_rows": null,
      "grid_column": null,
      "grid_gap": null,
      "grid_row": null,
      "grid_template_areas": null,
      "grid_template_columns": null,
      "grid_template_rows": null,
      "height": null,
      "justify_content": null,
      "justify_items": null,
      "left": null,
      "margin": null,
      "max_height": null,
      "max_width": null,
      "min_height": null,
      "min_width": null,
      "object_fit": null,
      "object_position": null,
      "order": null,
      "overflow": null,
      "overflow_x": null,
      "overflow_y": null,
      "padding": null,
      "right": null,
      "top": null,
      "visibility": null,
      "width": null
     }
    },
    "31ae7cefd44444e7879cde3d56be895a": {
     "model_module": "@jupyter-widgets/controls",
     "model_name": "ProgressStyleModel",
     "state": {
      "_model_module": "@jupyter-widgets/controls",
      "_model_module_version": "1.5.0",
      "_model_name": "ProgressStyleModel",
      "_view_count": null,
      "_view_module": "@jupyter-widgets/base",
      "_view_module_version": "1.2.0",
      "_view_name": "StyleView",
      "bar_color": null,
      "description_width": "initial"
     }
    },
    "33f7dca9f328401a95345ba82f1a2c97": {
     "model_module": "@jupyter-widgets/controls",
     "model_name": "ProgressStyleModel",
     "state": {
      "_model_module": "@jupyter-widgets/controls",
      "_model_module_version": "1.5.0",
      "_model_name": "ProgressStyleModel",
      "_view_count": null,
      "_view_module": "@jupyter-widgets/base",
      "_view_module_version": "1.2.0",
      "_view_name": "StyleView",
      "bar_color": null,
      "description_width": "initial"
     }
    },
    "346c0c794a0e421487bc6bc10c2cc5c4": {
     "model_module": "@jupyter-widgets/base",
     "model_name": "LayoutModel",
     "state": {
      "_model_module": "@jupyter-widgets/base",
      "_model_module_version": "1.2.0",
      "_model_name": "LayoutModel",
      "_view_count": null,
      "_view_module": "@jupyter-widgets/base",
      "_view_module_version": "1.2.0",
      "_view_name": "LayoutView",
      "align_content": null,
      "align_items": null,
      "align_self": null,
      "border": null,
      "bottom": null,
      "display": null,
      "flex": null,
      "flex_flow": null,
      "grid_area": null,
      "grid_auto_columns": null,
      "grid_auto_flow": null,
      "grid_auto_rows": null,
      "grid_column": null,
      "grid_gap": null,
      "grid_row": null,
      "grid_template_areas": null,
      "grid_template_columns": null,
      "grid_template_rows": null,
      "height": null,
      "justify_content": null,
      "justify_items": null,
      "left": null,
      "margin": null,
      "max_height": null,
      "max_width": null,
      "min_height": null,
      "min_width": null,
      "object_fit": null,
      "object_position": null,
      "order": null,
      "overflow": null,
      "overflow_x": null,
      "overflow_y": null,
      "padding": null,
      "right": null,
      "top": null,
      "visibility": null,
      "width": null
     }
    },
    "34914a56368d4b7c84783c9d8397674e": {
     "model_module": "@jupyter-widgets/base",
     "model_name": "LayoutModel",
     "state": {
      "_model_module": "@jupyter-widgets/base",
      "_model_module_version": "1.2.0",
      "_model_name": "LayoutModel",
      "_view_count": null,
      "_view_module": "@jupyter-widgets/base",
      "_view_module_version": "1.2.0",
      "_view_name": "LayoutView",
      "align_content": null,
      "align_items": null,
      "align_self": null,
      "border": null,
      "bottom": null,
      "display": null,
      "flex": null,
      "flex_flow": null,
      "grid_area": null,
      "grid_auto_columns": null,
      "grid_auto_flow": null,
      "grid_auto_rows": null,
      "grid_column": null,
      "grid_gap": null,
      "grid_row": null,
      "grid_template_areas": null,
      "grid_template_columns": null,
      "grid_template_rows": null,
      "height": null,
      "justify_content": null,
      "justify_items": null,
      "left": null,
      "margin": null,
      "max_height": null,
      "max_width": null,
      "min_height": null,
      "min_width": null,
      "object_fit": null,
      "object_position": null,
      "order": null,
      "overflow": null,
      "overflow_x": null,
      "overflow_y": null,
      "padding": null,
      "right": null,
      "top": null,
      "visibility": null,
      "width": null
     }
    },
    "3acf62266cd343029d1436299ca21dfa": {
     "model_module": "@jupyter-widgets/base",
     "model_name": "LayoutModel",
     "state": {
      "_model_module": "@jupyter-widgets/base",
      "_model_module_version": "1.2.0",
      "_model_name": "LayoutModel",
      "_view_count": null,
      "_view_module": "@jupyter-widgets/base",
      "_view_module_version": "1.2.0",
      "_view_name": "LayoutView",
      "align_content": null,
      "align_items": null,
      "align_self": null,
      "border": null,
      "bottom": null,
      "display": null,
      "flex": null,
      "flex_flow": null,
      "grid_area": null,
      "grid_auto_columns": null,
      "grid_auto_flow": null,
      "grid_auto_rows": null,
      "grid_column": null,
      "grid_gap": null,
      "grid_row": null,
      "grid_template_areas": null,
      "grid_template_columns": null,
      "grid_template_rows": null,
      "height": null,
      "justify_content": null,
      "justify_items": null,
      "left": null,
      "margin": null,
      "max_height": null,
      "max_width": null,
      "min_height": null,
      "min_width": null,
      "object_fit": null,
      "object_position": null,
      "order": null,
      "overflow": null,
      "overflow_x": null,
      "overflow_y": null,
      "padding": null,
      "right": null,
      "top": null,
      "visibility": null,
      "width": null
     }
    },
    "3bc68f487d5e4a6fbe74d382c3f6b2e9": {
     "model_module": "@jupyter-widgets/controls",
     "model_name": "HTMLModel",
     "state": {
      "_dom_classes": [],
      "_model_module": "@jupyter-widgets/controls",
      "_model_module_version": "1.5.0",
      "_model_name": "HTMLModel",
      "_view_count": null,
      "_view_module": "@jupyter-widgets/controls",
      "_view_module_version": "1.5.0",
      "_view_name": "HTMLView",
      "description": "",
      "description_tooltip": null,
      "layout": "IPY_MODEL_b4e083dc74634c559a0824d28b73d0c4",
      "placeholder": "​",
      "style": "IPY_MODEL_84e797a6977c462d84337b52dc50996b",
      "value": " 5673/5673 [01:24&lt;00:00, 67.09it/s]"
     }
    },
    "3cae15ec540e4d8ea0ee61a80727d312": {
     "model_module": "@jupyter-widgets/base",
     "model_name": "LayoutModel",
     "state": {
      "_model_module": "@jupyter-widgets/base",
      "_model_module_version": "1.2.0",
      "_model_name": "LayoutModel",
      "_view_count": null,
      "_view_module": "@jupyter-widgets/base",
      "_view_module_version": "1.2.0",
      "_view_name": "LayoutView",
      "align_content": null,
      "align_items": null,
      "align_self": null,
      "border": null,
      "bottom": null,
      "display": null,
      "flex": null,
      "flex_flow": null,
      "grid_area": null,
      "grid_auto_columns": null,
      "grid_auto_flow": null,
      "grid_auto_rows": null,
      "grid_column": null,
      "grid_gap": null,
      "grid_row": null,
      "grid_template_areas": null,
      "grid_template_columns": null,
      "grid_template_rows": null,
      "height": null,
      "justify_content": null,
      "justify_items": null,
      "left": null,
      "margin": null,
      "max_height": null,
      "max_width": null,
      "min_height": null,
      "min_width": null,
      "object_fit": null,
      "object_position": null,
      "order": null,
      "overflow": null,
      "overflow_x": null,
      "overflow_y": null,
      "padding": null,
      "right": null,
      "top": null,
      "visibility": null,
      "width": null
     }
    },
    "3e105934d86d4030aaba0168ad6bff43": {
     "model_module": "@jupyter-widgets/base",
     "model_name": "LayoutModel",
     "state": {
      "_model_module": "@jupyter-widgets/base",
      "_model_module_version": "1.2.0",
      "_model_name": "LayoutModel",
      "_view_count": null,
      "_view_module": "@jupyter-widgets/base",
      "_view_module_version": "1.2.0",
      "_view_name": "LayoutView",
      "align_content": null,
      "align_items": null,
      "align_self": null,
      "border": null,
      "bottom": null,
      "display": null,
      "flex": null,
      "flex_flow": null,
      "grid_area": null,
      "grid_auto_columns": null,
      "grid_auto_flow": null,
      "grid_auto_rows": null,
      "grid_column": null,
      "grid_gap": null,
      "grid_row": null,
      "grid_template_areas": null,
      "grid_template_columns": null,
      "grid_template_rows": null,
      "height": null,
      "justify_content": null,
      "justify_items": null,
      "left": null,
      "margin": null,
      "max_height": null,
      "max_width": null,
      "min_height": null,
      "min_width": null,
      "object_fit": null,
      "object_position": null,
      "order": null,
      "overflow": null,
      "overflow_x": null,
      "overflow_y": null,
      "padding": null,
      "right": null,
      "top": null,
      "visibility": null,
      "width": null
     }
    },
    "3ec5956be76a41dc893759ed26d9e99d": {
     "model_module": "@jupyter-widgets/controls",
     "model_name": "HBoxModel",
     "state": {
      "_dom_classes": [],
      "_model_module": "@jupyter-widgets/controls",
      "_model_module_version": "1.5.0",
      "_model_name": "HBoxModel",
      "_view_count": null,
      "_view_module": "@jupyter-widgets/controls",
      "_view_module_version": "1.5.0",
      "_view_name": "HBoxView",
      "box_style": "",
      "children": [
       "IPY_MODEL_7207a488cdc94405b3e301845bcc4683",
       "IPY_MODEL_641a6d2e4e0b4f74881f4a6a533b2a40"
      ],
      "layout": "IPY_MODEL_586721088e144420a5c0f8623989e3c7"
     }
    },
    "4134ed216fe74675a165f3359cc97a4e": {
     "model_module": "@jupyter-widgets/base",
     "model_name": "LayoutModel",
     "state": {
      "_model_module": "@jupyter-widgets/base",
      "_model_module_version": "1.2.0",
      "_model_name": "LayoutModel",
      "_view_count": null,
      "_view_module": "@jupyter-widgets/base",
      "_view_module_version": "1.2.0",
      "_view_name": "LayoutView",
      "align_content": null,
      "align_items": null,
      "align_self": null,
      "border": null,
      "bottom": null,
      "display": null,
      "flex": null,
      "flex_flow": null,
      "grid_area": null,
      "grid_auto_columns": null,
      "grid_auto_flow": null,
      "grid_auto_rows": null,
      "grid_column": null,
      "grid_gap": null,
      "grid_row": null,
      "grid_template_areas": null,
      "grid_template_columns": null,
      "grid_template_rows": null,
      "height": null,
      "justify_content": null,
      "justify_items": null,
      "left": null,
      "margin": null,
      "max_height": null,
      "max_width": null,
      "min_height": null,
      "min_width": null,
      "object_fit": null,
      "object_position": null,
      "order": null,
      "overflow": null,
      "overflow_x": null,
      "overflow_y": null,
      "padding": null,
      "right": null,
      "top": null,
      "visibility": null,
      "width": null
     }
    },
    "4171b2f0a1954711af6d1ed11c69a8ee": {
     "model_module": "@jupyter-widgets/controls",
     "model_name": "HTMLModel",
     "state": {
      "_dom_classes": [],
      "_model_module": "@jupyter-widgets/controls",
      "_model_module_version": "1.5.0",
      "_model_name": "HTMLModel",
      "_view_count": null,
      "_view_module": "@jupyter-widgets/controls",
      "_view_module_version": "1.5.0",
      "_view_name": "HTMLView",
      "description": "",
      "description_tooltip": null,
      "layout": "IPY_MODEL_5e6f3836872f4567a59dfe2496a899e7",
      "placeholder": "​",
      "style": "IPY_MODEL_94ebd1eec288420daf5d46aefee324bc",
      "value": " 107770/107770 [26:30&lt;00:00, 67.77it/s]"
     }
    },
    "4413867d1ea14d939114777de56b2a96": {
     "model_module": "@jupyter-widgets/controls",
     "model_name": "ProgressStyleModel",
     "state": {
      "_model_module": "@jupyter-widgets/controls",
      "_model_module_version": "1.5.0",
      "_model_name": "ProgressStyleModel",
      "_view_count": null,
      "_view_module": "@jupyter-widgets/base",
      "_view_module_version": "1.2.0",
      "_view_name": "StyleView",
      "bar_color": null,
      "description_width": "initial"
     }
    },
    "4a1c16f1575a41a08bda7b1fbd96c87d": {
     "model_module": "@jupyter-widgets/controls",
     "model_name": "ProgressStyleModel",
     "state": {
      "_model_module": "@jupyter-widgets/controls",
      "_model_module_version": "1.5.0",
      "_model_name": "ProgressStyleModel",
      "_view_count": null,
      "_view_module": "@jupyter-widgets/base",
      "_view_module_version": "1.2.0",
      "_view_name": "StyleView",
      "bar_color": null,
      "description_width": "initial"
     }
    },
    "4da23edcb3be4d2db08b50fd4364c462": {
     "model_module": "@jupyter-widgets/base",
     "model_name": "LayoutModel",
     "state": {
      "_model_module": "@jupyter-widgets/base",
      "_model_module_version": "1.2.0",
      "_model_name": "LayoutModel",
      "_view_count": null,
      "_view_module": "@jupyter-widgets/base",
      "_view_module_version": "1.2.0",
      "_view_name": "LayoutView",
      "align_content": null,
      "align_items": null,
      "align_self": null,
      "border": null,
      "bottom": null,
      "display": null,
      "flex": null,
      "flex_flow": null,
      "grid_area": null,
      "grid_auto_columns": null,
      "grid_auto_flow": null,
      "grid_auto_rows": null,
      "grid_column": null,
      "grid_gap": null,
      "grid_row": null,
      "grid_template_areas": null,
      "grid_template_columns": null,
      "grid_template_rows": null,
      "height": null,
      "justify_content": null,
      "justify_items": null,
      "left": null,
      "margin": null,
      "max_height": null,
      "max_width": null,
      "min_height": null,
      "min_width": null,
      "object_fit": null,
      "object_position": null,
      "order": null,
      "overflow": null,
      "overflow_x": null,
      "overflow_y": null,
      "padding": null,
      "right": null,
      "top": null,
      "visibility": null,
      "width": null
     }
    },
    "4ee75996b17b41d39b5f91cc9c921471": {
     "model_module": "@jupyter-widgets/controls",
     "model_name": "HTMLModel",
     "state": {
      "_dom_classes": [],
      "_model_module": "@jupyter-widgets/controls",
      "_model_module_version": "1.5.0",
      "_model_name": "HTMLModel",
      "_view_count": null,
      "_view_module": "@jupyter-widgets/controls",
      "_view_module_version": "1.5.0",
      "_view_name": "HTMLView",
      "description": "",
      "description_tooltip": null,
      "layout": "IPY_MODEL_b1463f366b7742f196e4549d8f2cd1c4",
      "placeholder": "​",
      "style": "IPY_MODEL_cc95df8f551f4cf9a7b1a6e84819c491",
      "value": " 1/1 [39:04&lt;00:00, 2344.37s/it]"
     }
    },
    "50de6a91ec5b4fb69aa244b46947dfaf": {
     "model_module": "@jupyter-widgets/base",
     "model_name": "LayoutModel",
     "state": {
      "_model_module": "@jupyter-widgets/base",
      "_model_module_version": "1.2.0",
      "_model_name": "LayoutModel",
      "_view_count": null,
      "_view_module": "@jupyter-widgets/base",
      "_view_module_version": "1.2.0",
      "_view_name": "LayoutView",
      "align_content": null,
      "align_items": null,
      "align_self": null,
      "border": null,
      "bottom": null,
      "display": null,
      "flex": null,
      "flex_flow": null,
      "grid_area": null,
      "grid_auto_columns": null,
      "grid_auto_flow": null,
      "grid_auto_rows": null,
      "grid_column": null,
      "grid_gap": null,
      "grid_row": null,
      "grid_template_areas": null,
      "grid_template_columns": null,
      "grid_template_rows": null,
      "height": null,
      "justify_content": null,
      "justify_items": null,
      "left": null,
      "margin": null,
      "max_height": null,
      "max_width": null,
      "min_height": null,
      "min_width": null,
      "object_fit": null,
      "object_position": null,
      "order": null,
      "overflow": null,
      "overflow_x": null,
      "overflow_y": null,
      "padding": null,
      "right": null,
      "top": null,
      "visibility": null,
      "width": null
     }
    },
    "514ddbb30f09422a835bcc0e63e7a6f6": {
     "model_module": "@jupyter-widgets/controls",
     "model_name": "ProgressStyleModel",
     "state": {
      "_model_module": "@jupyter-widgets/controls",
      "_model_module_version": "1.5.0",
      "_model_name": "ProgressStyleModel",
      "_view_count": null,
      "_view_module": "@jupyter-widgets/base",
      "_view_module_version": "1.2.0",
      "_view_name": "StyleView",
      "bar_color": null,
      "description_width": "initial"
     }
    },
    "5151a91777804234a1ec9bd0fcd2f5e9": {
     "model_module": "@jupyter-widgets/base",
     "model_name": "LayoutModel",
     "state": {
      "_model_module": "@jupyter-widgets/base",
      "_model_module_version": "1.2.0",
      "_model_name": "LayoutModel",
      "_view_count": null,
      "_view_module": "@jupyter-widgets/base",
      "_view_module_version": "1.2.0",
      "_view_name": "LayoutView",
      "align_content": null,
      "align_items": null,
      "align_self": null,
      "border": null,
      "bottom": null,
      "display": null,
      "flex": null,
      "flex_flow": null,
      "grid_area": null,
      "grid_auto_columns": null,
      "grid_auto_flow": null,
      "grid_auto_rows": null,
      "grid_column": null,
      "grid_gap": null,
      "grid_row": null,
      "grid_template_areas": null,
      "grid_template_columns": null,
      "grid_template_rows": null,
      "height": null,
      "justify_content": null,
      "justify_items": null,
      "left": null,
      "margin": null,
      "max_height": null,
      "max_width": null,
      "min_height": null,
      "min_width": null,
      "object_fit": null,
      "object_position": null,
      "order": null,
      "overflow": null,
      "overflow_x": null,
      "overflow_y": null,
      "padding": null,
      "right": null,
      "top": null,
      "visibility": null,
      "width": null
     }
    },
    "52077250443a4998ae19b9c1df008cf9": {
     "model_module": "@jupyter-widgets/base",
     "model_name": "LayoutModel",
     "state": {
      "_model_module": "@jupyter-widgets/base",
      "_model_module_version": "1.2.0",
      "_model_name": "LayoutModel",
      "_view_count": null,
      "_view_module": "@jupyter-widgets/base",
      "_view_module_version": "1.2.0",
      "_view_name": "LayoutView",
      "align_content": null,
      "align_items": null,
      "align_self": null,
      "border": null,
      "bottom": null,
      "display": null,
      "flex": null,
      "flex_flow": null,
      "grid_area": null,
      "grid_auto_columns": null,
      "grid_auto_flow": null,
      "grid_auto_rows": null,
      "grid_column": null,
      "grid_gap": null,
      "grid_row": null,
      "grid_template_areas": null,
      "grid_template_columns": null,
      "grid_template_rows": null,
      "height": null,
      "justify_content": null,
      "justify_items": null,
      "left": null,
      "margin": null,
      "max_height": null,
      "max_width": null,
      "min_height": null,
      "min_width": null,
      "object_fit": null,
      "object_position": null,
      "order": null,
      "overflow": null,
      "overflow_x": null,
      "overflow_y": null,
      "padding": null,
      "right": null,
      "top": null,
      "visibility": null,
      "width": null
     }
    },
    "52a4f15d0bb34854b32bdbf6f26ddcc8": {
     "model_module": "@jupyter-widgets/controls",
     "model_name": "HTMLModel",
     "state": {
      "_dom_classes": [],
      "_model_module": "@jupyter-widgets/controls",
      "_model_module_version": "1.5.0",
      "_model_name": "HTMLModel",
      "_view_count": null,
      "_view_module": "@jupyter-widgets/controls",
      "_view_module_version": "1.5.0",
      "_view_name": "HTMLView",
      "description": "",
      "description_tooltip": null,
      "layout": "IPY_MODEL_775af97414984ac9aa990192673a21cc",
      "placeholder": "​",
      "style": "IPY_MODEL_b1eb45b68b224aecbbf7ca36d339d7bc",
      "value": " 5673/5673 [01:21&lt;00:00, 69.83it/s]"
     }
    },
    "5425032888564e158472b83f3205b666": {
     "model_module": "@jupyter-widgets/controls",
     "model_name": "ProgressStyleModel",
     "state": {
      "_model_module": "@jupyter-widgets/controls",
      "_model_module_version": "1.5.0",
      "_model_name": "ProgressStyleModel",
      "_view_count": null,
      "_view_module": "@jupyter-widgets/base",
      "_view_module_version": "1.2.0",
      "_view_name": "StyleView",
      "bar_color": null,
      "description_width": "initial"
     }
    },
    "54c52605243b41a6b03567f74323b262": {
     "model_module": "@jupyter-widgets/controls",
     "model_name": "HTMLModel",
     "state": {
      "_dom_classes": [],
      "_model_module": "@jupyter-widgets/controls",
      "_model_module_version": "1.5.0",
      "_model_name": "HTMLModel",
      "_view_count": null,
      "_view_module": "@jupyter-widgets/controls",
      "_view_module_version": "1.5.0",
      "_view_name": "HTMLView",
      "description": "",
      "description_tooltip": null,
      "layout": "IPY_MODEL_85661c8af2894be79301194ea6ce4963",
      "placeholder": "​",
      "style": "IPY_MODEL_26dcbb8f80864aa59362e076ade60fd6",
      "value": " 1/1 [24:20&lt;00:00, 1460.85s/it]"
     }
    },
    "57743b726ae744a1a38a120da59dccd1": {
     "model_module": "@jupyter-widgets/base",
     "model_name": "LayoutModel",
     "state": {
      "_model_module": "@jupyter-widgets/base",
      "_model_module_version": "1.2.0",
      "_model_name": "LayoutModel",
      "_view_count": null,
      "_view_module": "@jupyter-widgets/base",
      "_view_module_version": "1.2.0",
      "_view_name": "LayoutView",
      "align_content": null,
      "align_items": null,
      "align_self": null,
      "border": null,
      "bottom": null,
      "display": null,
      "flex": null,
      "flex_flow": null,
      "grid_area": null,
      "grid_auto_columns": null,
      "grid_auto_flow": null,
      "grid_auto_rows": null,
      "grid_column": null,
      "grid_gap": null,
      "grid_row": null,
      "grid_template_areas": null,
      "grid_template_columns": null,
      "grid_template_rows": null,
      "height": null,
      "justify_content": null,
      "justify_items": null,
      "left": null,
      "margin": null,
      "max_height": null,
      "max_width": null,
      "min_height": null,
      "min_width": null,
      "object_fit": null,
      "object_position": null,
      "order": null,
      "overflow": null,
      "overflow_x": null,
      "overflow_y": null,
      "padding": null,
      "right": null,
      "top": null,
      "visibility": null,
      "width": null
     }
    },
    "57f950b97a034a089d98b4317184c4b4": {
     "model_module": "@jupyter-widgets/base",
     "model_name": "LayoutModel",
     "state": {
      "_model_module": "@jupyter-widgets/base",
      "_model_module_version": "1.2.0",
      "_model_name": "LayoutModel",
      "_view_count": null,
      "_view_module": "@jupyter-widgets/base",
      "_view_module_version": "1.2.0",
      "_view_name": "LayoutView",
      "align_content": null,
      "align_items": null,
      "align_self": null,
      "border": null,
      "bottom": null,
      "display": null,
      "flex": null,
      "flex_flow": null,
      "grid_area": null,
      "grid_auto_columns": null,
      "grid_auto_flow": null,
      "grid_auto_rows": null,
      "grid_column": null,
      "grid_gap": null,
      "grid_row": null,
      "grid_template_areas": null,
      "grid_template_columns": null,
      "grid_template_rows": null,
      "height": null,
      "justify_content": null,
      "justify_items": null,
      "left": null,
      "margin": null,
      "max_height": null,
      "max_width": null,
      "min_height": null,
      "min_width": null,
      "object_fit": null,
      "object_position": null,
      "order": null,
      "overflow": null,
      "overflow_x": null,
      "overflow_y": null,
      "padding": null,
      "right": null,
      "top": null,
      "visibility": null,
      "width": null
     }
    },
    "586721088e144420a5c0f8623989e3c7": {
     "model_module": "@jupyter-widgets/base",
     "model_name": "LayoutModel",
     "state": {
      "_model_module": "@jupyter-widgets/base",
      "_model_module_version": "1.2.0",
      "_model_name": "LayoutModel",
      "_view_count": null,
      "_view_module": "@jupyter-widgets/base",
      "_view_module_version": "1.2.0",
      "_view_name": "LayoutView",
      "align_content": null,
      "align_items": null,
      "align_self": null,
      "border": null,
      "bottom": null,
      "display": null,
      "flex": null,
      "flex_flow": null,
      "grid_area": null,
      "grid_auto_columns": null,
      "grid_auto_flow": null,
      "grid_auto_rows": null,
      "grid_column": null,
      "grid_gap": null,
      "grid_row": null,
      "grid_template_areas": null,
      "grid_template_columns": null,
      "grid_template_rows": null,
      "height": null,
      "justify_content": null,
      "justify_items": null,
      "left": null,
      "margin": null,
      "max_height": null,
      "max_width": null,
      "min_height": null,
      "min_width": null,
      "object_fit": null,
      "object_position": null,
      "order": null,
      "overflow": null,
      "overflow_x": null,
      "overflow_y": null,
      "padding": null,
      "right": null,
      "top": null,
      "visibility": null,
      "width": null
     }
    },
    "586c9e58f84d46339b25874eb712937d": {
     "model_module": "@jupyter-widgets/controls",
     "model_name": "DescriptionStyleModel",
     "state": {
      "_model_module": "@jupyter-widgets/controls",
      "_model_module_version": "1.5.0",
      "_model_name": "DescriptionStyleModel",
      "_view_count": null,
      "_view_module": "@jupyter-widgets/base",
      "_view_module_version": "1.2.0",
      "_view_name": "StyleView",
      "description_width": ""
     }
    },
    "5895ed05cebb442a94fcb600f691e8e3": {
     "model_module": "@jupyter-widgets/base",
     "model_name": "LayoutModel",
     "state": {
      "_model_module": "@jupyter-widgets/base",
      "_model_module_version": "1.2.0",
      "_model_name": "LayoutModel",
      "_view_count": null,
      "_view_module": "@jupyter-widgets/base",
      "_view_module_version": "1.2.0",
      "_view_name": "LayoutView",
      "align_content": null,
      "align_items": null,
      "align_self": null,
      "border": null,
      "bottom": null,
      "display": null,
      "flex": null,
      "flex_flow": null,
      "grid_area": null,
      "grid_auto_columns": null,
      "grid_auto_flow": null,
      "grid_auto_rows": null,
      "grid_column": null,
      "grid_gap": null,
      "grid_row": null,
      "grid_template_areas": null,
      "grid_template_columns": null,
      "grid_template_rows": null,
      "height": null,
      "justify_content": null,
      "justify_items": null,
      "left": null,
      "margin": null,
      "max_height": null,
      "max_width": null,
      "min_height": null,
      "min_width": null,
      "object_fit": null,
      "object_position": null,
      "order": null,
      "overflow": null,
      "overflow_x": null,
      "overflow_y": null,
      "padding": null,
      "right": null,
      "top": null,
      "visibility": null,
      "width": null
     }
    },
    "59e9017220b249129f9c16a7bea4a7ce": {
     "model_module": "@jupyter-widgets/controls",
     "model_name": "FloatProgressModel",
     "state": {
      "_dom_classes": [],
      "_model_module": "@jupyter-widgets/controls",
      "_model_module_version": "1.5.0",
      "_model_name": "FloatProgressModel",
      "_view_count": null,
      "_view_module": "@jupyter-widgets/controls",
      "_view_module_version": "1.5.0",
      "_view_name": "ProgressView",
      "bar_style": "success",
      "description": "100%",
      "description_tooltip": null,
      "layout": "IPY_MODEL_0a1bbb89561140f68c756314bc1085c3",
      "max": 107770,
      "min": 0,
      "orientation": "horizontal",
      "style": "IPY_MODEL_078606bd959b4137af6e5829784a70cf",
      "value": 107770
     }
    },
    "5be54db3347648a5aba9f291f1c60a95": {
     "model_module": "@jupyter-widgets/controls",
     "model_name": "ProgressStyleModel",
     "state": {
      "_model_module": "@jupyter-widgets/controls",
      "_model_module_version": "1.5.0",
      "_model_name": "ProgressStyleModel",
      "_view_count": null,
      "_view_module": "@jupyter-widgets/base",
      "_view_module_version": "1.2.0",
      "_view_name": "StyleView",
      "bar_color": null,
      "description_width": "initial"
     }
    },
    "5c262f0924ae4a22a1c891376891ae25": {
     "model_module": "@jupyter-widgets/controls",
     "model_name": "HTMLModel",
     "state": {
      "_dom_classes": [],
      "_model_module": "@jupyter-widgets/controls",
      "_model_module_version": "1.5.0",
      "_model_name": "HTMLModel",
      "_view_count": null,
      "_view_module": "@jupyter-widgets/controls",
      "_view_module_version": "1.5.0",
      "_view_name": "HTMLView",
      "description": "",
      "description_tooltip": null,
      "layout": "IPY_MODEL_68c072e7034349ff82c3d178b5524bce",
      "placeholder": "​",
      "style": "IPY_MODEL_fbfabcbff04a461f8e58416dcf6f0e63",
      "value": " 5673/5673 [01:34&lt;00:00, 59.88it/s]"
     }
    },
    "5e6f3836872f4567a59dfe2496a899e7": {
     "model_module": "@jupyter-widgets/base",
     "model_name": "LayoutModel",
     "state": {
      "_model_module": "@jupyter-widgets/base",
      "_model_module_version": "1.2.0",
      "_model_name": "LayoutModel",
      "_view_count": null,
      "_view_module": "@jupyter-widgets/base",
      "_view_module_version": "1.2.0",
      "_view_name": "LayoutView",
      "align_content": null,
      "align_items": null,
      "align_self": null,
      "border": null,
      "bottom": null,
      "display": null,
      "flex": null,
      "flex_flow": null,
      "grid_area": null,
      "grid_auto_columns": null,
      "grid_auto_flow": null,
      "grid_auto_rows": null,
      "grid_column": null,
      "grid_gap": null,
      "grid_row": null,
      "grid_template_areas": null,
      "grid_template_columns": null,
      "grid_template_rows": null,
      "height": null,
      "justify_content": null,
      "justify_items": null,
      "left": null,
      "margin": null,
      "max_height": null,
      "max_width": null,
      "min_height": null,
      "min_width": null,
      "object_fit": null,
      "object_position": null,
      "order": null,
      "overflow": null,
      "overflow_x": null,
      "overflow_y": null,
      "padding": null,
      "right": null,
      "top": null,
      "visibility": null,
      "width": null
     }
    },
    "623361fe709d4c818defbff458cabd03": {
     "model_module": "@jupyter-widgets/controls",
     "model_name": "HTMLModel",
     "state": {
      "_dom_classes": [],
      "_model_module": "@jupyter-widgets/controls",
      "_model_module_version": "1.5.0",
      "_model_name": "HTMLModel",
      "_view_count": null,
      "_view_module": "@jupyter-widgets/controls",
      "_view_module_version": "1.5.0",
      "_view_name": "HTMLView",
      "description": "",
      "description_tooltip": null,
      "layout": "IPY_MODEL_31aa37d35e3641ac932b9db4a5f77b52",
      "placeholder": "​",
      "style": "IPY_MODEL_bb6fdcb844aa4bb49b5ba62c9d9c1b07",
      "value": " 107770/107770 [24:20&lt;00:00, 73.77it/s]"
     }
    },
    "637bc5b349dd4f06a6a92d6035714c41": {
     "model_module": "@jupyter-widgets/base",
     "model_name": "LayoutModel",
     "state": {
      "_model_module": "@jupyter-widgets/base",
      "_model_module_version": "1.2.0",
      "_model_name": "LayoutModel",
      "_view_count": null,
      "_view_module": "@jupyter-widgets/base",
      "_view_module_version": "1.2.0",
      "_view_name": "LayoutView",
      "align_content": null,
      "align_items": null,
      "align_self": null,
      "border": null,
      "bottom": null,
      "display": null,
      "flex": null,
      "flex_flow": null,
      "grid_area": null,
      "grid_auto_columns": null,
      "grid_auto_flow": null,
      "grid_auto_rows": null,
      "grid_column": null,
      "grid_gap": null,
      "grid_row": null,
      "grid_template_areas": null,
      "grid_template_columns": null,
      "grid_template_rows": null,
      "height": null,
      "justify_content": null,
      "justify_items": null,
      "left": null,
      "margin": null,
      "max_height": null,
      "max_width": null,
      "min_height": null,
      "min_width": null,
      "object_fit": null,
      "object_position": null,
      "order": null,
      "overflow": null,
      "overflow_x": null,
      "overflow_y": null,
      "padding": null,
      "right": null,
      "top": null,
      "visibility": null,
      "width": null
     }
    },
    "641a6d2e4e0b4f74881f4a6a533b2a40": {
     "model_module": "@jupyter-widgets/controls",
     "model_name": "HTMLModel",
     "state": {
      "_dom_classes": [],
      "_model_module": "@jupyter-widgets/controls",
      "_model_module_version": "1.5.0",
      "_model_name": "HTMLModel",
      "_view_count": null,
      "_view_module": "@jupyter-widgets/controls",
      "_view_module_version": "1.5.0",
      "_view_name": "HTMLView",
      "description": "",
      "description_tooltip": null,
      "layout": "IPY_MODEL_f8768db7089047feb5b62e369d21e01e",
      "placeholder": "​",
      "style": "IPY_MODEL_586c9e58f84d46339b25874eb712937d",
      "value": " 5673/5673 [06:12&lt;00:00, 15.24it/s]"
     }
    },
    "6638ab1c4d3041dd9a41f1eb70506a19": {
     "model_module": "@jupyter-widgets/controls",
     "model_name": "HBoxModel",
     "state": {
      "_dom_classes": [],
      "_model_module": "@jupyter-widgets/controls",
      "_model_module_version": "1.5.0",
      "_model_name": "HBoxModel",
      "_view_count": null,
      "_view_module": "@jupyter-widgets/controls",
      "_view_module_version": "1.5.0",
      "_view_name": "HBoxView",
      "box_style": "",
      "children": [
       "IPY_MODEL_70019f0e84e24cfd94a39b4c6ef20a23",
       "IPY_MODEL_7d653b2c87494678b472229b6fddf390"
      ],
      "layout": "IPY_MODEL_f415f347ae934a62a37673eaefc5ecba"
     }
    },
    "68c072e7034349ff82c3d178b5524bce": {
     "model_module": "@jupyter-widgets/base",
     "model_name": "LayoutModel",
     "state": {
      "_model_module": "@jupyter-widgets/base",
      "_model_module_version": "1.2.0",
      "_model_name": "LayoutModel",
      "_view_count": null,
      "_view_module": "@jupyter-widgets/base",
      "_view_module_version": "1.2.0",
      "_view_name": "LayoutView",
      "align_content": null,
      "align_items": null,
      "align_self": null,
      "border": null,
      "bottom": null,
      "display": null,
      "flex": null,
      "flex_flow": null,
      "grid_area": null,
      "grid_auto_columns": null,
      "grid_auto_flow": null,
      "grid_auto_rows": null,
      "grid_column": null,
      "grid_gap": null,
      "grid_row": null,
      "grid_template_areas": null,
      "grid_template_columns": null,
      "grid_template_rows": null,
      "height": null,
      "justify_content": null,
      "justify_items": null,
      "left": null,
      "margin": null,
      "max_height": null,
      "max_width": null,
      "min_height": null,
      "min_width": null,
      "object_fit": null,
      "object_position": null,
      "order": null,
      "overflow": null,
      "overflow_x": null,
      "overflow_y": null,
      "padding": null,
      "right": null,
      "top": null,
      "visibility": null,
      "width": null
     }
    },
    "6a1cd3cc54dc427582d5c00dc9883439": {
     "model_module": "@jupyter-widgets/controls",
     "model_name": "HBoxModel",
     "state": {
      "_dom_classes": [],
      "_model_module": "@jupyter-widgets/controls",
      "_model_module_version": "1.5.0",
      "_model_name": "HBoxModel",
      "_view_count": null,
      "_view_module": "@jupyter-widgets/controls",
      "_view_module_version": "1.5.0",
      "_view_name": "HBoxView",
      "box_style": "",
      "children": [
       "IPY_MODEL_78125cf469864e1db00a29b8e8493a62",
       "IPY_MODEL_4ee75996b17b41d39b5f91cc9c921471"
      ],
      "layout": "IPY_MODEL_ffb3916f2c354bc79ee074f7a778e526"
     }
    },
    "6ae42f6d6e334c099a6a9abadeaed8c6": {
     "model_module": "@jupyter-widgets/controls",
     "model_name": "HBoxModel",
     "state": {
      "_dom_classes": [],
      "_model_module": "@jupyter-widgets/controls",
      "_model_module_version": "1.5.0",
      "_model_name": "HBoxModel",
      "_view_count": null,
      "_view_module": "@jupyter-widgets/controls",
      "_view_module_version": "1.5.0",
      "_view_name": "HBoxView",
      "box_style": "",
      "children": [
       "IPY_MODEL_bcb793b02c1e46d59b9ac12afb3ea667",
       "IPY_MODEL_623361fe709d4c818defbff458cabd03"
      ],
      "layout": "IPY_MODEL_fb12073858474cfea7018a3ae5838873"
     }
    },
    "6b553dcc30dc491a9a471b130cce606a": {
     "model_module": "@jupyter-widgets/base",
     "model_name": "LayoutModel",
     "state": {
      "_model_module": "@jupyter-widgets/base",
      "_model_module_version": "1.2.0",
      "_model_name": "LayoutModel",
      "_view_count": null,
      "_view_module": "@jupyter-widgets/base",
      "_view_module_version": "1.2.0",
      "_view_name": "LayoutView",
      "align_content": null,
      "align_items": null,
      "align_self": null,
      "border": null,
      "bottom": null,
      "display": null,
      "flex": null,
      "flex_flow": null,
      "grid_area": null,
      "grid_auto_columns": null,
      "grid_auto_flow": null,
      "grid_auto_rows": null,
      "grid_column": null,
      "grid_gap": null,
      "grid_row": null,
      "grid_template_areas": null,
      "grid_template_columns": null,
      "grid_template_rows": null,
      "height": null,
      "justify_content": null,
      "justify_items": null,
      "left": null,
      "margin": null,
      "max_height": null,
      "max_width": null,
      "min_height": null,
      "min_width": null,
      "object_fit": null,
      "object_position": null,
      "order": null,
      "overflow": null,
      "overflow_x": null,
      "overflow_y": null,
      "padding": null,
      "right": null,
      "top": null,
      "visibility": null,
      "width": null
     }
    },
    "6bc107bbb88040b0ab53ce28c9a0b9de": {
     "model_module": "@jupyter-widgets/controls",
     "model_name": "HTMLModel",
     "state": {
      "_dom_classes": [],
      "_model_module": "@jupyter-widgets/controls",
      "_model_module_version": "1.5.0",
      "_model_name": "HTMLModel",
      "_view_count": null,
      "_view_module": "@jupyter-widgets/controls",
      "_view_module_version": "1.5.0",
      "_view_name": "HTMLView",
      "description": "",
      "description_tooltip": null,
      "layout": "IPY_MODEL_d92ca27b9178454f8028ed15542da811",
      "placeholder": "​",
      "style": "IPY_MODEL_f6e0d7b71f9d4b8ea5bcd2bc2946ec25",
      "value": " 5673/5673 [04:39&lt;00:00, 20.27it/s]"
     }
    },
    "6c31c2cf44b24c52ac1c132be40f0dc8": {
     "model_module": "@jupyter-widgets/base",
     "model_name": "LayoutModel",
     "state": {
      "_model_module": "@jupyter-widgets/base",
      "_model_module_version": "1.2.0",
      "_model_name": "LayoutModel",
      "_view_count": null,
      "_view_module": "@jupyter-widgets/base",
      "_view_module_version": "1.2.0",
      "_view_name": "LayoutView",
      "align_content": null,
      "align_items": null,
      "align_self": null,
      "border": null,
      "bottom": null,
      "display": null,
      "flex": null,
      "flex_flow": null,
      "grid_area": null,
      "grid_auto_columns": null,
      "grid_auto_flow": null,
      "grid_auto_rows": null,
      "grid_column": null,
      "grid_gap": null,
      "grid_row": null,
      "grid_template_areas": null,
      "grid_template_columns": null,
      "grid_template_rows": null,
      "height": null,
      "justify_content": null,
      "justify_items": null,
      "left": null,
      "margin": null,
      "max_height": null,
      "max_width": null,
      "min_height": null,
      "min_width": null,
      "object_fit": null,
      "object_position": null,
      "order": null,
      "overflow": null,
      "overflow_x": null,
      "overflow_y": null,
      "padding": null,
      "right": null,
      "top": null,
      "visibility": null,
      "width": null
     }
    },
    "6ded414a3bff4c46b1cbbab67755e564": {
     "model_module": "@jupyter-widgets/base",
     "model_name": "LayoutModel",
     "state": {
      "_model_module": "@jupyter-widgets/base",
      "_model_module_version": "1.2.0",
      "_model_name": "LayoutModel",
      "_view_count": null,
      "_view_module": "@jupyter-widgets/base",
      "_view_module_version": "1.2.0",
      "_view_name": "LayoutView",
      "align_content": null,
      "align_items": null,
      "align_self": null,
      "border": null,
      "bottom": null,
      "display": null,
      "flex": null,
      "flex_flow": null,
      "grid_area": null,
      "grid_auto_columns": null,
      "grid_auto_flow": null,
      "grid_auto_rows": null,
      "grid_column": null,
      "grid_gap": null,
      "grid_row": null,
      "grid_template_areas": null,
      "grid_template_columns": null,
      "grid_template_rows": null,
      "height": null,
      "justify_content": null,
      "justify_items": null,
      "left": null,
      "margin": null,
      "max_height": null,
      "max_width": null,
      "min_height": null,
      "min_width": null,
      "object_fit": null,
      "object_position": null,
      "order": null,
      "overflow": null,
      "overflow_x": null,
      "overflow_y": null,
      "padding": null,
      "right": null,
      "top": null,
      "visibility": null,
      "width": null
     }
    },
    "70019f0e84e24cfd94a39b4c6ef20a23": {
     "model_module": "@jupyter-widgets/controls",
     "model_name": "FloatProgressModel",
     "state": {
      "_dom_classes": [],
      "_model_module": "@jupyter-widgets/controls",
      "_model_module_version": "1.5.0",
      "_model_name": "FloatProgressModel",
      "_view_count": null,
      "_view_module": "@jupyter-widgets/controls",
      "_view_module_version": "1.5.0",
      "_view_name": "ProgressView",
      "bar_style": "success",
      "description": "100%",
      "description_tooltip": null,
      "layout": "IPY_MODEL_cb8a26a86aa54d64904270cc954ef96c",
      "max": 1,
      "min": 0,
      "orientation": "horizontal",
      "style": "IPY_MODEL_85ddd6e772484e5ebaa42040fccbcd7d",
      "value": 1
     }
    },
    "7207a488cdc94405b3e301845bcc4683": {
     "model_module": "@jupyter-widgets/controls",
     "model_name": "FloatProgressModel",
     "state": {
      "_dom_classes": [],
      "_model_module": "@jupyter-widgets/controls",
      "_model_module_version": "1.5.0",
      "_model_name": "FloatProgressModel",
      "_view_count": null,
      "_view_module": "@jupyter-widgets/controls",
      "_view_module_version": "1.5.0",
      "_view_name": "ProgressView",
      "bar_style": "success",
      "description": "100%",
      "description_tooltip": null,
      "layout": "IPY_MODEL_6b553dcc30dc491a9a471b130cce606a",
      "max": 5673,
      "min": 0,
      "orientation": "horizontal",
      "style": "IPY_MODEL_d9be85cd73664519a8db87111b485c16",
      "value": 5673
     }
    },
    "72b64618a10a42a496007ea811208c8c": {
     "model_module": "@jupyter-widgets/controls",
     "model_name": "FloatProgressModel",
     "state": {
      "_dom_classes": [],
      "_model_module": "@jupyter-widgets/controls",
      "_model_module_version": "1.5.0",
      "_model_name": "FloatProgressModel",
      "_view_count": null,
      "_view_module": "@jupyter-widgets/controls",
      "_view_module_version": "1.5.0",
      "_view_name": "ProgressView",
      "bar_style": "success",
      "description": "100%",
      "description_tooltip": null,
      "layout": "IPY_MODEL_896a43b5f8564d25accb8cfd1dcc95d6",
      "max": 5673,
      "min": 0,
      "orientation": "horizontal",
      "style": "IPY_MODEL_28c843c2836f42f4bcbe3c1a26360b4e",
      "value": 5673
     }
    },
    "74a933c82c274a8894dc7ac35038a827": {
     "model_module": "@jupyter-widgets/controls",
     "model_name": "ProgressStyleModel",
     "state": {
      "_model_module": "@jupyter-widgets/controls",
      "_model_module_version": "1.5.0",
      "_model_name": "ProgressStyleModel",
      "_view_count": null,
      "_view_module": "@jupyter-widgets/base",
      "_view_module_version": "1.2.0",
      "_view_name": "StyleView",
      "bar_color": null,
      "description_width": "initial"
     }
    },
    "775af97414984ac9aa990192673a21cc": {
     "model_module": "@jupyter-widgets/base",
     "model_name": "LayoutModel",
     "state": {
      "_model_module": "@jupyter-widgets/base",
      "_model_module_version": "1.2.0",
      "_model_name": "LayoutModel",
      "_view_count": null,
      "_view_module": "@jupyter-widgets/base",
      "_view_module_version": "1.2.0",
      "_view_name": "LayoutView",
      "align_content": null,
      "align_items": null,
      "align_self": null,
      "border": null,
      "bottom": null,
      "display": null,
      "flex": null,
      "flex_flow": null,
      "grid_area": null,
      "grid_auto_columns": null,
      "grid_auto_flow": null,
      "grid_auto_rows": null,
      "grid_column": null,
      "grid_gap": null,
      "grid_row": null,
      "grid_template_areas": null,
      "grid_template_columns": null,
      "grid_template_rows": null,
      "height": null,
      "justify_content": null,
      "justify_items": null,
      "left": null,
      "margin": null,
      "max_height": null,
      "max_width": null,
      "min_height": null,
      "min_width": null,
      "object_fit": null,
      "object_position": null,
      "order": null,
      "overflow": null,
      "overflow_x": null,
      "overflow_y": null,
      "padding": null,
      "right": null,
      "top": null,
      "visibility": null,
      "width": null
     }
    },
    "78125cf469864e1db00a29b8e8493a62": {
     "model_module": "@jupyter-widgets/controls",
     "model_name": "FloatProgressModel",
     "state": {
      "_dom_classes": [],
      "_model_module": "@jupyter-widgets/controls",
      "_model_module_version": "1.5.0",
      "_model_name": "FloatProgressModel",
      "_view_count": null,
      "_view_module": "@jupyter-widgets/controls",
      "_view_module_version": "1.5.0",
      "_view_name": "ProgressView",
      "bar_style": "success",
      "description": "100%",
      "description_tooltip": null,
      "layout": "IPY_MODEL_a7227740e8ce40789c620e348f787529",
      "max": 1,
      "min": 0,
      "orientation": "horizontal",
      "style": "IPY_MODEL_1b0dee61d5564d5aa4572cf0e0361cda",
      "value": 1
     }
    },
    "78e05dbfd7cf42c9b68a1117736e0ff5": {
     "model_module": "@jupyter-widgets/controls",
     "model_name": "FloatProgressModel",
     "state": {
      "_dom_classes": [],
      "_model_module": "@jupyter-widgets/controls",
      "_model_module_version": "1.5.0",
      "_model_name": "FloatProgressModel",
      "_view_count": null,
      "_view_module": "@jupyter-widgets/controls",
      "_view_module_version": "1.5.0",
      "_view_name": "ProgressView",
      "bar_style": "success",
      "description": "100%",
      "description_tooltip": null,
      "layout": "IPY_MODEL_dc2b6b2e8c9444eab8248267f4e78edc",
      "max": 1,
      "min": 0,
      "orientation": "horizontal",
      "style": "IPY_MODEL_964b1e16f0ef4df980565245d59b5df0",
      "value": 1
     }
    },
    "7d03cc01568448aa93254d17ccb68d06": {
     "model_module": "@jupyter-widgets/base",
     "model_name": "LayoutModel",
     "state": {
      "_model_module": "@jupyter-widgets/base",
      "_model_module_version": "1.2.0",
      "_model_name": "LayoutModel",
      "_view_count": null,
      "_view_module": "@jupyter-widgets/base",
      "_view_module_version": "1.2.0",
      "_view_name": "LayoutView",
      "align_content": null,
      "align_items": null,
      "align_self": null,
      "border": null,
      "bottom": null,
      "display": null,
      "flex": null,
      "flex_flow": null,
      "grid_area": null,
      "grid_auto_columns": null,
      "grid_auto_flow": null,
      "grid_auto_rows": null,
      "grid_column": null,
      "grid_gap": null,
      "grid_row": null,
      "grid_template_areas": null,
      "grid_template_columns": null,
      "grid_template_rows": null,
      "height": null,
      "justify_content": null,
      "justify_items": null,
      "left": null,
      "margin": null,
      "max_height": null,
      "max_width": null,
      "min_height": null,
      "min_width": null,
      "object_fit": null,
      "object_position": null,
      "order": null,
      "overflow": null,
      "overflow_x": null,
      "overflow_y": null,
      "padding": null,
      "right": null,
      "top": null,
      "visibility": null,
      "width": null
     }
    },
    "7d1ebc37d8ba45029d0869c842658142": {
     "model_module": "@jupyter-widgets/controls",
     "model_name": "DescriptionStyleModel",
     "state": {
      "_model_module": "@jupyter-widgets/controls",
      "_model_module_version": "1.5.0",
      "_model_name": "DescriptionStyleModel",
      "_view_count": null,
      "_view_module": "@jupyter-widgets/base",
      "_view_module_version": "1.2.0",
      "_view_name": "StyleView",
      "description_width": ""
     }
    },
    "7d653b2c87494678b472229b6fddf390": {
     "model_module": "@jupyter-widgets/controls",
     "model_name": "HTMLModel",
     "state": {
      "_dom_classes": [],
      "_model_module": "@jupyter-widgets/controls",
      "_model_module_version": "1.5.0",
      "_model_name": "HTMLModel",
      "_view_count": null,
      "_view_module": "@jupyter-widgets/controls",
      "_view_module_version": "1.5.0",
      "_view_name": "HTMLView",
      "description": "",
      "description_tooltip": null,
      "layout": "IPY_MODEL_5151a91777804234a1ec9bd0fcd2f5e9",
      "placeholder": "​",
      "style": "IPY_MODEL_7d1ebc37d8ba45029d0869c842658142",
      "value": " 1/1 [1:44:22&lt;00:00, 6262.80s/it]"
     }
    },
    "7f24afab78d842009e5a92651690be74": {
     "model_module": "@jupyter-widgets/base",
     "model_name": "LayoutModel",
     "state": {
      "_model_module": "@jupyter-widgets/base",
      "_model_module_version": "1.2.0",
      "_model_name": "LayoutModel",
      "_view_count": null,
      "_view_module": "@jupyter-widgets/base",
      "_view_module_version": "1.2.0",
      "_view_name": "LayoutView",
      "align_content": null,
      "align_items": null,
      "align_self": null,
      "border": null,
      "bottom": null,
      "display": null,
      "flex": null,
      "flex_flow": null,
      "grid_area": null,
      "grid_auto_columns": null,
      "grid_auto_flow": null,
      "grid_auto_rows": null,
      "grid_column": null,
      "grid_gap": null,
      "grid_row": null,
      "grid_template_areas": null,
      "grid_template_columns": null,
      "grid_template_rows": null,
      "height": null,
      "justify_content": null,
      "justify_items": null,
      "left": null,
      "margin": null,
      "max_height": null,
      "max_width": null,
      "min_height": null,
      "min_width": null,
      "object_fit": null,
      "object_position": null,
      "order": null,
      "overflow": null,
      "overflow_x": null,
      "overflow_y": null,
      "padding": null,
      "right": null,
      "top": null,
      "visibility": null,
      "width": null
     }
    },
    "805c22647dcb459993f918e37fa9f41d": {
     "model_module": "@jupyter-widgets/base",
     "model_name": "LayoutModel",
     "state": {
      "_model_module": "@jupyter-widgets/base",
      "_model_module_version": "1.2.0",
      "_model_name": "LayoutModel",
      "_view_count": null,
      "_view_module": "@jupyter-widgets/base",
      "_view_module_version": "1.2.0",
      "_view_name": "LayoutView",
      "align_content": null,
      "align_items": null,
      "align_self": null,
      "border": null,
      "bottom": null,
      "display": null,
      "flex": null,
      "flex_flow": null,
      "grid_area": null,
      "grid_auto_columns": null,
      "grid_auto_flow": null,
      "grid_auto_rows": null,
      "grid_column": null,
      "grid_gap": null,
      "grid_row": null,
      "grid_template_areas": null,
      "grid_template_columns": null,
      "grid_template_rows": null,
      "height": null,
      "justify_content": null,
      "justify_items": null,
      "left": null,
      "margin": null,
      "max_height": null,
      "max_width": null,
      "min_height": null,
      "min_width": null,
      "object_fit": null,
      "object_position": null,
      "order": null,
      "overflow": null,
      "overflow_x": null,
      "overflow_y": null,
      "padding": null,
      "right": null,
      "top": null,
      "visibility": null,
      "width": null
     }
    },
    "84453b2e704a41ec937d08d903118d37": {
     "model_module": "@jupyter-widgets/controls",
     "model_name": "HBoxModel",
     "state": {
      "_dom_classes": [],
      "_model_module": "@jupyter-widgets/controls",
      "_model_module_version": "1.5.0",
      "_model_name": "HBoxModel",
      "_view_count": null,
      "_view_module": "@jupyter-widgets/controls",
      "_view_module_version": "1.5.0",
      "_view_name": "HBoxView",
      "box_style": "",
      "children": [
       "IPY_MODEL_affae8c75b4a4e559c32d97f284eae26",
       "IPY_MODEL_af265a865a4144b29a93e38bf0d6c780"
      ],
      "layout": "IPY_MODEL_95f3666e6f61439084efd504e636822b"
     }
    },
    "84e797a6977c462d84337b52dc50996b": {
     "model_module": "@jupyter-widgets/controls",
     "model_name": "DescriptionStyleModel",
     "state": {
      "_model_module": "@jupyter-widgets/controls",
      "_model_module_version": "1.5.0",
      "_model_name": "DescriptionStyleModel",
      "_view_count": null,
      "_view_module": "@jupyter-widgets/base",
      "_view_module_version": "1.2.0",
      "_view_name": "StyleView",
      "description_width": ""
     }
    },
    "85661c8af2894be79301194ea6ce4963": {
     "model_module": "@jupyter-widgets/base",
     "model_name": "LayoutModel",
     "state": {
      "_model_module": "@jupyter-widgets/base",
      "_model_module_version": "1.2.0",
      "_model_name": "LayoutModel",
      "_view_count": null,
      "_view_module": "@jupyter-widgets/base",
      "_view_module_version": "1.2.0",
      "_view_name": "LayoutView",
      "align_content": null,
      "align_items": null,
      "align_self": null,
      "border": null,
      "bottom": null,
      "display": null,
      "flex": null,
      "flex_flow": null,
      "grid_area": null,
      "grid_auto_columns": null,
      "grid_auto_flow": null,
      "grid_auto_rows": null,
      "grid_column": null,
      "grid_gap": null,
      "grid_row": null,
      "grid_template_areas": null,
      "grid_template_columns": null,
      "grid_template_rows": null,
      "height": null,
      "justify_content": null,
      "justify_items": null,
      "left": null,
      "margin": null,
      "max_height": null,
      "max_width": null,
      "min_height": null,
      "min_width": null,
      "object_fit": null,
      "object_position": null,
      "order": null,
      "overflow": null,
      "overflow_x": null,
      "overflow_y": null,
      "padding": null,
      "right": null,
      "top": null,
      "visibility": null,
      "width": null
     }
    },
    "85ddd6e772484e5ebaa42040fccbcd7d": {
     "model_module": "@jupyter-widgets/controls",
     "model_name": "ProgressStyleModel",
     "state": {
      "_model_module": "@jupyter-widgets/controls",
      "_model_module_version": "1.5.0",
      "_model_name": "ProgressStyleModel",
      "_view_count": null,
      "_view_module": "@jupyter-widgets/base",
      "_view_module_version": "1.2.0",
      "_view_name": "StyleView",
      "bar_color": null,
      "description_width": "initial"
     }
    },
    "8666a42e7e1d495d9ebf9666a99f7b3d": {
     "model_module": "@jupyter-widgets/controls",
     "model_name": "DescriptionStyleModel",
     "state": {
      "_model_module": "@jupyter-widgets/controls",
      "_model_module_version": "1.5.0",
      "_model_name": "DescriptionStyleModel",
      "_view_count": null,
      "_view_module": "@jupyter-widgets/base",
      "_view_module_version": "1.2.0",
      "_view_name": "StyleView",
      "description_width": ""
     }
    },
    "8794d4043b4c4053b7a4e547001bf1bc": {
     "model_module": "@jupyter-widgets/base",
     "model_name": "LayoutModel",
     "state": {
      "_model_module": "@jupyter-widgets/base",
      "_model_module_version": "1.2.0",
      "_model_name": "LayoutModel",
      "_view_count": null,
      "_view_module": "@jupyter-widgets/base",
      "_view_module_version": "1.2.0",
      "_view_name": "LayoutView",
      "align_content": null,
      "align_items": null,
      "align_self": null,
      "border": null,
      "bottom": null,
      "display": null,
      "flex": null,
      "flex_flow": null,
      "grid_area": null,
      "grid_auto_columns": null,
      "grid_auto_flow": null,
      "grid_auto_rows": null,
      "grid_column": null,
      "grid_gap": null,
      "grid_row": null,
      "grid_template_areas": null,
      "grid_template_columns": null,
      "grid_template_rows": null,
      "height": null,
      "justify_content": null,
      "justify_items": null,
      "left": null,
      "margin": null,
      "max_height": null,
      "max_width": null,
      "min_height": null,
      "min_width": null,
      "object_fit": null,
      "object_position": null,
      "order": null,
      "overflow": null,
      "overflow_x": null,
      "overflow_y": null,
      "padding": null,
      "right": null,
      "top": null,
      "visibility": null,
      "width": null
     }
    },
    "896a43b5f8564d25accb8cfd1dcc95d6": {
     "model_module": "@jupyter-widgets/base",
     "model_name": "LayoutModel",
     "state": {
      "_model_module": "@jupyter-widgets/base",
      "_model_module_version": "1.2.0",
      "_model_name": "LayoutModel",
      "_view_count": null,
      "_view_module": "@jupyter-widgets/base",
      "_view_module_version": "1.2.0",
      "_view_name": "LayoutView",
      "align_content": null,
      "align_items": null,
      "align_self": null,
      "border": null,
      "bottom": null,
      "display": null,
      "flex": null,
      "flex_flow": null,
      "grid_area": null,
      "grid_auto_columns": null,
      "grid_auto_flow": null,
      "grid_auto_rows": null,
      "grid_column": null,
      "grid_gap": null,
      "grid_row": null,
      "grid_template_areas": null,
      "grid_template_columns": null,
      "grid_template_rows": null,
      "height": null,
      "justify_content": null,
      "justify_items": null,
      "left": null,
      "margin": null,
      "max_height": null,
      "max_width": null,
      "min_height": null,
      "min_width": null,
      "object_fit": null,
      "object_position": null,
      "order": null,
      "overflow": null,
      "overflow_x": null,
      "overflow_y": null,
      "padding": null,
      "right": null,
      "top": null,
      "visibility": null,
      "width": null
     }
    },
    "9030821086084d579f695dcf670b46df": {
     "model_module": "@jupyter-widgets/controls",
     "model_name": "FloatProgressModel",
     "state": {
      "_dom_classes": [],
      "_model_module": "@jupyter-widgets/controls",
      "_model_module_version": "1.5.0",
      "_model_name": "FloatProgressModel",
      "_view_count": null,
      "_view_module": "@jupyter-widgets/controls",
      "_view_module_version": "1.5.0",
      "_view_name": "ProgressView",
      "bar_style": "success",
      "description": "100%",
      "description_tooltip": null,
      "layout": "IPY_MODEL_fa92366b0aea46ca8b48bb7764f2f21d",
      "max": 5673,
      "min": 0,
      "orientation": "horizontal",
      "style": "IPY_MODEL_4a1c16f1575a41a08bda7b1fbd96c87d",
      "value": 5673
     }
    },
    "92db89f6f3234cbab070263c0a2f3d18": {
     "model_module": "@jupyter-widgets/controls",
     "model_name": "HBoxModel",
     "state": {
      "_dom_classes": [],
      "_model_module": "@jupyter-widgets/controls",
      "_model_module_version": "1.5.0",
      "_model_name": "HBoxModel",
      "_view_count": null,
      "_view_module": "@jupyter-widgets/controls",
      "_view_module_version": "1.5.0",
      "_view_name": "HBoxView",
      "box_style": "",
      "children": [
       "IPY_MODEL_ad10e9afd947443d848dd233eebd4109",
       "IPY_MODEL_ad4ccf89f76842a2b844c83e81b8dab7"
      ],
      "layout": "IPY_MODEL_8794d4043b4c4053b7a4e547001bf1bc"
     }
    },
    "944b688a257f4100bf709eecd9471410": {
     "model_module": "@jupyter-widgets/controls",
     "model_name": "FloatProgressModel",
     "state": {
      "_dom_classes": [],
      "_model_module": "@jupyter-widgets/controls",
      "_model_module_version": "1.5.0",
      "_model_name": "FloatProgressModel",
      "_view_count": null,
      "_view_module": "@jupyter-widgets/controls",
      "_view_module_version": "1.5.0",
      "_view_name": "ProgressView",
      "bar_style": "success",
      "description": "100%",
      "description_tooltip": null,
      "layout": "IPY_MODEL_ed261abdcaf44948b1ac101e64b825f4",
      "max": 107770,
      "min": 0,
      "orientation": "horizontal",
      "style": "IPY_MODEL_5425032888564e158472b83f3205b666",
      "value": 107770
     }
    },
    "9477e42ca5994508848b2aa674591fd6": {
     "model_module": "@jupyter-widgets/controls",
     "model_name": "HBoxModel",
     "state": {
      "_dom_classes": [],
      "_model_module": "@jupyter-widgets/controls",
      "_model_module_version": "1.5.0",
      "_model_name": "HBoxModel",
      "_view_count": null,
      "_view_module": "@jupyter-widgets/controls",
      "_view_module_version": "1.5.0",
      "_view_name": "HBoxView",
      "box_style": "",
      "children": [
       "IPY_MODEL_1efc6f476cd3438d8e13427d35eda5ab",
       "IPY_MODEL_f64a56eb7da4497d8dd2bfeb5374850d"
      ],
      "layout": "IPY_MODEL_7f24afab78d842009e5a92651690be74"
     }
    },
    "94ebd1eec288420daf5d46aefee324bc": {
     "model_module": "@jupyter-widgets/controls",
     "model_name": "DescriptionStyleModel",
     "state": {
      "_model_module": "@jupyter-widgets/controls",
      "_model_module_version": "1.5.0",
      "_model_name": "DescriptionStyleModel",
      "_view_count": null,
      "_view_module": "@jupyter-widgets/base",
      "_view_module_version": "1.2.0",
      "_view_name": "StyleView",
      "description_width": ""
     }
    },
    "95f3666e6f61439084efd504e636822b": {
     "model_module": "@jupyter-widgets/base",
     "model_name": "LayoutModel",
     "state": {
      "_model_module": "@jupyter-widgets/base",
      "_model_module_version": "1.2.0",
      "_model_name": "LayoutModel",
      "_view_count": null,
      "_view_module": "@jupyter-widgets/base",
      "_view_module_version": "1.2.0",
      "_view_name": "LayoutView",
      "align_content": null,
      "align_items": null,
      "align_self": null,
      "border": null,
      "bottom": null,
      "display": null,
      "flex": null,
      "flex_flow": null,
      "grid_area": null,
      "grid_auto_columns": null,
      "grid_auto_flow": null,
      "grid_auto_rows": null,
      "grid_column": null,
      "grid_gap": null,
      "grid_row": null,
      "grid_template_areas": null,
      "grid_template_columns": null,
      "grid_template_rows": null,
      "height": null,
      "justify_content": null,
      "justify_items": null,
      "left": null,
      "margin": null,
      "max_height": null,
      "max_width": null,
      "min_height": null,
      "min_width": null,
      "object_fit": null,
      "object_position": null,
      "order": null,
      "overflow": null,
      "overflow_x": null,
      "overflow_y": null,
      "padding": null,
      "right": null,
      "top": null,
      "visibility": null,
      "width": null
     }
    },
    "964b1e16f0ef4df980565245d59b5df0": {
     "model_module": "@jupyter-widgets/controls",
     "model_name": "ProgressStyleModel",
     "state": {
      "_model_module": "@jupyter-widgets/controls",
      "_model_module_version": "1.5.0",
      "_model_name": "ProgressStyleModel",
      "_view_count": null,
      "_view_module": "@jupyter-widgets/base",
      "_view_module_version": "1.2.0",
      "_view_name": "StyleView",
      "bar_color": null,
      "description_width": "initial"
     }
    },
    "970de6a5c3b9456c912459aa89e1ce82": {
     "model_module": "@jupyter-widgets/controls",
     "model_name": "HTMLModel",
     "state": {
      "_dom_classes": [],
      "_model_module": "@jupyter-widgets/controls",
      "_model_module_version": "1.5.0",
      "_model_name": "HTMLModel",
      "_view_count": null,
      "_view_module": "@jupyter-widgets/controls",
      "_view_module_version": "1.5.0",
      "_view_name": "HTMLView",
      "description": "",
      "description_tooltip": null,
      "layout": "IPY_MODEL_805c22647dcb459993f918e37fa9f41d",
      "placeholder": "​",
      "style": "IPY_MODEL_8666a42e7e1d495d9ebf9666a99f7b3d",
      "value": " 107770/107770 [27:18&lt;00:00, 65.76it/s]"
     }
    },
    "9ac1670346c3475a800e4fd3b1164061": {
     "model_module": "@jupyter-widgets/controls",
     "model_name": "HTMLModel",
     "state": {
      "_dom_classes": [],
      "_model_module": "@jupyter-widgets/controls",
      "_model_module_version": "1.5.0",
      "_model_name": "HTMLModel",
      "_view_count": null,
      "_view_module": "@jupyter-widgets/controls",
      "_view_module_version": "1.5.0",
      "_view_name": "HTMLView",
      "description": "",
      "description_tooltip": null,
      "layout": "IPY_MODEL_ceae93a816bd4c5f90bdda68896c397a",
      "placeholder": "​",
      "style": "IPY_MODEL_b1ad197c6db24fe68225e69e48464e22",
      "value": " 107770/107770 [17:54&lt;00:00, 100.33it/s]"
     }
    },
    "9b2fc0e7bb1745b390ad20e7e9e844df": {
     "model_module": "@jupyter-widgets/controls",
     "model_name": "HTMLModel",
     "state": {
      "_dom_classes": [],
      "_model_module": "@jupyter-widgets/controls",
      "_model_module_version": "1.5.0",
      "_model_name": "HTMLModel",
      "_view_count": null,
      "_view_module": "@jupyter-widgets/controls",
      "_view_module_version": "1.5.0",
      "_view_name": "HTMLView",
      "description": "",
      "description_tooltip": null,
      "layout": "IPY_MODEL_170a2adfb89f48c094b1099147507a3b",
      "placeholder": "​",
      "style": "IPY_MODEL_26e34d4a0d18456ead101454a22b8f59",
      "value": " 107770/107770 [1:44:22&lt;00:00, 17.21it/s]"
     }
    },
    "9c00dbb558ae4717a338eb7cfa285169": {
     "model_module": "@jupyter-widgets/controls",
     "model_name": "DescriptionStyleModel",
     "state": {
      "_model_module": "@jupyter-widgets/controls",
      "_model_module_version": "1.5.0",
      "_model_name": "DescriptionStyleModel",
      "_view_count": null,
      "_view_module": "@jupyter-widgets/base",
      "_view_module_version": "1.2.0",
      "_view_name": "StyleView",
      "description_width": ""
     }
    },
    "a15d07a363504863bb3655cf58b588a1": {
     "model_module": "@jupyter-widgets/controls",
     "model_name": "HBoxModel",
     "state": {
      "_dom_classes": [],
      "_model_module": "@jupyter-widgets/controls",
      "_model_module_version": "1.5.0",
      "_model_name": "HBoxModel",
      "_view_count": null,
      "_view_module": "@jupyter-widgets/controls",
      "_view_module_version": "1.5.0",
      "_view_name": "HBoxView",
      "box_style": "",
      "children": [
       "IPY_MODEL_944b688a257f4100bf709eecd9471410",
       "IPY_MODEL_9b2fc0e7bb1745b390ad20e7e9e844df"
      ],
      "layout": "IPY_MODEL_50de6a91ec5b4fb69aa244b46947dfaf"
     }
    },
    "a2f532dc3e4440a7aa91cf9a2f944fe0": {
     "model_module": "@jupyter-widgets/controls",
     "model_name": "HBoxModel",
     "state": {
      "_dom_classes": [],
      "_model_module": "@jupyter-widgets/controls",
      "_model_module_version": "1.5.0",
      "_model_name": "HBoxModel",
      "_view_count": null,
      "_view_module": "@jupyter-widgets/controls",
      "_view_module_version": "1.5.0",
      "_view_name": "HBoxView",
      "box_style": "",
      "children": [
       "IPY_MODEL_23eb629abc204d61957e85dc3087ffd5",
       "IPY_MODEL_5c262f0924ae4a22a1c891376891ae25"
      ],
      "layout": "IPY_MODEL_3e105934d86d4030aaba0168ad6bff43"
     }
    },
    "a4ee27361f4c4188b1a99fabb7f35047": {
     "model_module": "@jupyter-widgets/controls",
     "model_name": "HBoxModel",
     "state": {
      "_dom_classes": [],
      "_model_module": "@jupyter-widgets/controls",
      "_model_module_version": "1.5.0",
      "_model_name": "HBoxModel",
      "_view_count": null,
      "_view_module": "@jupyter-widgets/controls",
      "_view_module_version": "1.5.0",
      "_view_name": "HBoxView",
      "box_style": "",
      "children": [
       "IPY_MODEL_59e9017220b249129f9c16a7bea4a7ce",
       "IPY_MODEL_970de6a5c3b9456c912459aa89e1ce82"
      ],
      "layout": "IPY_MODEL_dd7e5c755aa8431682cc9633b8a888e6"
     }
    },
    "a664b28d2a8142ec881c9333b21c4e57": {
     "model_module": "@jupyter-widgets/base",
     "model_name": "LayoutModel",
     "state": {
      "_model_module": "@jupyter-widgets/base",
      "_model_module_version": "1.2.0",
      "_model_name": "LayoutModel",
      "_view_count": null,
      "_view_module": "@jupyter-widgets/base",
      "_view_module_version": "1.2.0",
      "_view_name": "LayoutView",
      "align_content": null,
      "align_items": null,
      "align_self": null,
      "border": null,
      "bottom": null,
      "display": null,
      "flex": null,
      "flex_flow": null,
      "grid_area": null,
      "grid_auto_columns": null,
      "grid_auto_flow": null,
      "grid_auto_rows": null,
      "grid_column": null,
      "grid_gap": null,
      "grid_row": null,
      "grid_template_areas": null,
      "grid_template_columns": null,
      "grid_template_rows": null,
      "height": null,
      "justify_content": null,
      "justify_items": null,
      "left": null,
      "margin": null,
      "max_height": null,
      "max_width": null,
      "min_height": null,
      "min_width": null,
      "object_fit": null,
      "object_position": null,
      "order": null,
      "overflow": null,
      "overflow_x": null,
      "overflow_y": null,
      "padding": null,
      "right": null,
      "top": null,
      "visibility": null,
      "width": null
     }
    },
    "a7227740e8ce40789c620e348f787529": {
     "model_module": "@jupyter-widgets/base",
     "model_name": "LayoutModel",
     "state": {
      "_model_module": "@jupyter-widgets/base",
      "_model_module_version": "1.2.0",
      "_model_name": "LayoutModel",
      "_view_count": null,
      "_view_module": "@jupyter-widgets/base",
      "_view_module_version": "1.2.0",
      "_view_name": "LayoutView",
      "align_content": null,
      "align_items": null,
      "align_self": null,
      "border": null,
      "bottom": null,
      "display": null,
      "flex": null,
      "flex_flow": null,
      "grid_area": null,
      "grid_auto_columns": null,
      "grid_auto_flow": null,
      "grid_auto_rows": null,
      "grid_column": null,
      "grid_gap": null,
      "grid_row": null,
      "grid_template_areas": null,
      "grid_template_columns": null,
      "grid_template_rows": null,
      "height": null,
      "justify_content": null,
      "justify_items": null,
      "left": null,
      "margin": null,
      "max_height": null,
      "max_width": null,
      "min_height": null,
      "min_width": null,
      "object_fit": null,
      "object_position": null,
      "order": null,
      "overflow": null,
      "overflow_x": null,
      "overflow_y": null,
      "padding": null,
      "right": null,
      "top": null,
      "visibility": null,
      "width": null
     }
    },
    "a76046af739a4d98ade7171f869052a6": {
     "model_module": "@jupyter-widgets/controls",
     "model_name": "HTMLModel",
     "state": {
      "_dom_classes": [],
      "_model_module": "@jupyter-widgets/controls",
      "_model_module_version": "1.5.0",
      "_model_name": "HTMLModel",
      "_view_count": null,
      "_view_module": "@jupyter-widgets/controls",
      "_view_module_version": "1.5.0",
      "_view_name": "HTMLView",
      "description": "",
      "description_tooltip": null,
      "layout": "IPY_MODEL_34914a56368d4b7c84783c9d8397674e",
      "placeholder": "​",
      "style": "IPY_MODEL_c144db0fbcb44f389b69ebc89fa0908c",
      "value": " 107770/107770 [39:04&lt;00:00, 45.97it/s]"
     }
    },
    "a88afc5fd74942439748dfba871cd3bd": {
     "model_module": "@jupyter-widgets/controls",
     "model_name": "FloatProgressModel",
     "state": {
      "_dom_classes": [],
      "_model_module": "@jupyter-widgets/controls",
      "_model_module_version": "1.5.0",
      "_model_name": "FloatProgressModel",
      "_view_count": null,
      "_view_module": "@jupyter-widgets/controls",
      "_view_module_version": "1.5.0",
      "_view_name": "ProgressView",
      "bar_style": "success",
      "description": "100%",
      "description_tooltip": null,
      "layout": "IPY_MODEL_52077250443a4998ae19b9c1df008cf9",
      "max": 5673,
      "min": 0,
      "orientation": "horizontal",
      "style": "IPY_MODEL_33f7dca9f328401a95345ba82f1a2c97",
      "value": 5673
     }
    },
    "a9a8dd87a10342889522f1449861a9d0": {
     "model_module": "@jupyter-widgets/controls",
     "model_name": "FloatProgressModel",
     "state": {
      "_dom_classes": [],
      "_model_module": "@jupyter-widgets/controls",
      "_model_module_version": "1.5.0",
      "_model_name": "FloatProgressModel",
      "_view_count": null,
      "_view_module": "@jupyter-widgets/controls",
      "_view_module_version": "1.5.0",
      "_view_name": "ProgressView",
      "bar_style": "success",
      "description": "100%",
      "description_tooltip": null,
      "layout": "IPY_MODEL_3cae15ec540e4d8ea0ee61a80727d312",
      "max": 107770,
      "min": 0,
      "orientation": "horizontal",
      "style": "IPY_MODEL_f0ce47dbd64149ed952eab921fa2a5b5",
      "value": 107770
     }
    },
    "abbd1885e56a4907bfabb9bd3eb16e65": {
     "model_module": "@jupyter-widgets/controls",
     "model_name": "ProgressStyleModel",
     "state": {
      "_model_module": "@jupyter-widgets/controls",
      "_model_module_version": "1.5.0",
      "_model_name": "ProgressStyleModel",
      "_view_count": null,
      "_view_module": "@jupyter-widgets/base",
      "_view_module_version": "1.2.0",
      "_view_name": "StyleView",
      "bar_color": null,
      "description_width": "initial"
     }
    },
    "ad10e9afd947443d848dd233eebd4109": {
     "model_module": "@jupyter-widgets/controls",
     "model_name": "FloatProgressModel",
     "state": {
      "_dom_classes": [],
      "_model_module": "@jupyter-widgets/controls",
      "_model_module_version": "1.5.0",
      "_model_name": "FloatProgressModel",
      "_view_count": null,
      "_view_module": "@jupyter-widgets/controls",
      "_view_module_version": "1.5.0",
      "_view_name": "ProgressView",
      "bar_style": "success",
      "description": "100%",
      "description_tooltip": null,
      "layout": "IPY_MODEL_7d03cc01568448aa93254d17ccb68d06",
      "max": 107770,
      "min": 0,
      "orientation": "horizontal",
      "style": "IPY_MODEL_514ddbb30f09422a835bcc0e63e7a6f6",
      "value": 107770
     }
    },
    "ad4ccf89f76842a2b844c83e81b8dab7": {
     "model_module": "@jupyter-widgets/controls",
     "model_name": "HTMLModel",
     "state": {
      "_dom_classes": [],
      "_model_module": "@jupyter-widgets/controls",
      "_model_module_version": "1.5.0",
      "_model_name": "HTMLModel",
      "_view_count": null,
      "_view_module": "@jupyter-widgets/controls",
      "_view_module_version": "1.5.0",
      "_view_name": "HTMLView",
      "description": "",
      "description_tooltip": null,
      "layout": "IPY_MODEL_637bc5b349dd4f06a6a92d6035714c41",
      "placeholder": "​",
      "style": "IPY_MODEL_9c00dbb558ae4717a338eb7cfa285169",
      "value": " 107770/107770 [28:11&lt;00:00, 63.71it/s]"
     }
    },
    "add24c1dcb4647fcac41f36311f4b602": {
     "model_module": "@jupyter-widgets/controls",
     "model_name": "HBoxModel",
     "state": {
      "_dom_classes": [],
      "_model_module": "@jupyter-widgets/controls",
      "_model_module_version": "1.5.0",
      "_model_name": "HBoxModel",
      "_view_count": null,
      "_view_module": "@jupyter-widgets/controls",
      "_view_module_version": "1.5.0",
      "_view_name": "HBoxView",
      "box_style": "",
      "children": [
       "IPY_MODEL_eb70aaa766a64b2e86607fabb272eaa7",
       "IPY_MODEL_b413f9e770324a0ea7f0d26872c4270f"
      ],
      "layout": "IPY_MODEL_f891540316084eaf977d6ad78e2ddb46"
     }
    },
    "ae3a587d1d4e49b19f3ff495839e026a": {
     "model_module": "@jupyter-widgets/base",
     "model_name": "LayoutModel",
     "state": {
      "_model_module": "@jupyter-widgets/base",
      "_model_module_version": "1.2.0",
      "_model_name": "LayoutModel",
      "_view_count": null,
      "_view_module": "@jupyter-widgets/base",
      "_view_module_version": "1.2.0",
      "_view_name": "LayoutView",
      "align_content": null,
      "align_items": null,
      "align_self": null,
      "border": null,
      "bottom": null,
      "display": null,
      "flex": null,
      "flex_flow": null,
      "grid_area": null,
      "grid_auto_columns": null,
      "grid_auto_flow": null,
      "grid_auto_rows": null,
      "grid_column": null,
      "grid_gap": null,
      "grid_row": null,
      "grid_template_areas": null,
      "grid_template_columns": null,
      "grid_template_rows": null,
      "height": null,
      "justify_content": null,
      "justify_items": null,
      "left": null,
      "margin": null,
      "max_height": null,
      "max_width": null,
      "min_height": null,
      "min_width": null,
      "object_fit": null,
      "object_position": null,
      "order": null,
      "overflow": null,
      "overflow_x": null,
      "overflow_y": null,
      "padding": null,
      "right": null,
      "top": null,
      "visibility": null,
      "width": null
     }
    },
    "af265a865a4144b29a93e38bf0d6c780": {
     "model_module": "@jupyter-widgets/controls",
     "model_name": "HTMLModel",
     "state": {
      "_dom_classes": [],
      "_model_module": "@jupyter-widgets/controls",
      "_model_module_version": "1.5.0",
      "_model_name": "HTMLModel",
      "_view_count": null,
      "_view_module": "@jupyter-widgets/controls",
      "_view_module_version": "1.5.0",
      "_view_name": "HTMLView",
      "description": "",
      "description_tooltip": null,
      "layout": "IPY_MODEL_346c0c794a0e421487bc6bc10c2cc5c4",
      "placeholder": "​",
      "style": "IPY_MODEL_1217c8ff05144f028f7c156aba42ae1b",
      "value": " 1/1 [28:11&lt;00:00, 1691.52s/it]"
     }
    },
    "affae8c75b4a4e559c32d97f284eae26": {
     "model_module": "@jupyter-widgets/controls",
     "model_name": "FloatProgressModel",
     "state": {
      "_dom_classes": [],
      "_model_module": "@jupyter-widgets/controls",
      "_model_module_version": "1.5.0",
      "_model_name": "FloatProgressModel",
      "_view_count": null,
      "_view_module": "@jupyter-widgets/controls",
      "_view_module_version": "1.5.0",
      "_view_name": "ProgressView",
      "bar_style": "success",
      "description": "100%",
      "description_tooltip": null,
      "layout": "IPY_MODEL_f7be6e8aa1fa44d787849ccd64f033de",
      "max": 1,
      "min": 0,
      "orientation": "horizontal",
      "style": "IPY_MODEL_f66a473b5b444978ac6a57b991d49e62",
      "value": 1
     }
    },
    "b1463f366b7742f196e4549d8f2cd1c4": {
     "model_module": "@jupyter-widgets/base",
     "model_name": "LayoutModel",
     "state": {
      "_model_module": "@jupyter-widgets/base",
      "_model_module_version": "1.2.0",
      "_model_name": "LayoutModel",
      "_view_count": null,
      "_view_module": "@jupyter-widgets/base",
      "_view_module_version": "1.2.0",
      "_view_name": "LayoutView",
      "align_content": null,
      "align_items": null,
      "align_self": null,
      "border": null,
      "bottom": null,
      "display": null,
      "flex": null,
      "flex_flow": null,
      "grid_area": null,
      "grid_auto_columns": null,
      "grid_auto_flow": null,
      "grid_auto_rows": null,
      "grid_column": null,
      "grid_gap": null,
      "grid_row": null,
      "grid_template_areas": null,
      "grid_template_columns": null,
      "grid_template_rows": null,
      "height": null,
      "justify_content": null,
      "justify_items": null,
      "left": null,
      "margin": null,
      "max_height": null,
      "max_width": null,
      "min_height": null,
      "min_width": null,
      "object_fit": null,
      "object_position": null,
      "order": null,
      "overflow": null,
      "overflow_x": null,
      "overflow_y": null,
      "padding": null,
      "right": null,
      "top": null,
      "visibility": null,
      "width": null
     }
    },
    "b1ad197c6db24fe68225e69e48464e22": {
     "model_module": "@jupyter-widgets/controls",
     "model_name": "DescriptionStyleModel",
     "state": {
      "_model_module": "@jupyter-widgets/controls",
      "_model_module_version": "1.5.0",
      "_model_name": "DescriptionStyleModel",
      "_view_count": null,
      "_view_module": "@jupyter-widgets/base",
      "_view_module_version": "1.2.0",
      "_view_name": "StyleView",
      "description_width": ""
     }
    },
    "b1eb45b68b224aecbbf7ca36d339d7bc": {
     "model_module": "@jupyter-widgets/controls",
     "model_name": "DescriptionStyleModel",
     "state": {
      "_model_module": "@jupyter-widgets/controls",
      "_model_module_version": "1.5.0",
      "_model_name": "DescriptionStyleModel",
      "_view_count": null,
      "_view_module": "@jupyter-widgets/base",
      "_view_module_version": "1.2.0",
      "_view_name": "StyleView",
      "description_width": ""
     }
    },
    "b3dcc804910e4a0092b26e110ad856ac": {
     "model_module": "@jupyter-widgets/controls",
     "model_name": "HBoxModel",
     "state": {
      "_dom_classes": [],
      "_model_module": "@jupyter-widgets/controls",
      "_model_module_version": "1.5.0",
      "_model_name": "HBoxModel",
      "_view_count": null,
      "_view_module": "@jupyter-widgets/controls",
      "_view_module_version": "1.5.0",
      "_view_name": "HBoxView",
      "box_style": "",
      "children": [
       "IPY_MODEL_2dc4d74a353648288757c6664c2fca59",
       "IPY_MODEL_4171b2f0a1954711af6d1ed11c69a8ee"
      ],
      "layout": "IPY_MODEL_4da23edcb3be4d2db08b50fd4364c462"
     }
    },
    "b3e052943d5841598ba62adf43ebf0d3": {
     "model_module": "@jupyter-widgets/controls",
     "model_name": "HTMLModel",
     "state": {
      "_dom_classes": [],
      "_model_module": "@jupyter-widgets/controls",
      "_model_module_version": "1.5.0",
      "_model_name": "HTMLModel",
      "_view_count": null,
      "_view_module": "@jupyter-widgets/controls",
      "_view_module_version": "1.5.0",
      "_view_name": "HTMLView",
      "description": "",
      "description_tooltip": null,
      "layout": "IPY_MODEL_a664b28d2a8142ec881c9333b21c4e57",
      "placeholder": "​",
      "style": "IPY_MODEL_039c1c4c202a401db283e65f3eaff84f",
      "value": " 1/1 [26:30&lt;00:00, 1590.33s/it]"
     }
    },
    "b413f9e770324a0ea7f0d26872c4270f": {
     "model_module": "@jupyter-widgets/controls",
     "model_name": "HTMLModel",
     "state": {
      "_dom_classes": [],
      "_model_module": "@jupyter-widgets/controls",
      "_model_module_version": "1.5.0",
      "_model_name": "HTMLModel",
      "_view_count": null,
      "_view_module": "@jupyter-widgets/controls",
      "_view_module_version": "1.5.0",
      "_view_name": "HTMLView",
      "description": "",
      "description_tooltip": null,
      "layout": "IPY_MODEL_1a59f5b520e54ce3bf973db0b3ff9723",
      "placeholder": "​",
      "style": "IPY_MODEL_b59279e1b6364d6b89c3fcba506462ad",
      "value": " 1/1 [27:18&lt;00:00, 1638.76s/it]"
     }
    },
    "b4e083dc74634c559a0824d28b73d0c4": {
     "model_module": "@jupyter-widgets/base",
     "model_name": "LayoutModel",
     "state": {
      "_model_module": "@jupyter-widgets/base",
      "_model_module_version": "1.2.0",
      "_model_name": "LayoutModel",
      "_view_count": null,
      "_view_module": "@jupyter-widgets/base",
      "_view_module_version": "1.2.0",
      "_view_name": "LayoutView",
      "align_content": null,
      "align_items": null,
      "align_self": null,
      "border": null,
      "bottom": null,
      "display": null,
      "flex": null,
      "flex_flow": null,
      "grid_area": null,
      "grid_auto_columns": null,
      "grid_auto_flow": null,
      "grid_auto_rows": null,
      "grid_column": null,
      "grid_gap": null,
      "grid_row": null,
      "grid_template_areas": null,
      "grid_template_columns": null,
      "grid_template_rows": null,
      "height": null,
      "justify_content": null,
      "justify_items": null,
      "left": null,
      "margin": null,
      "max_height": null,
      "max_width": null,
      "min_height": null,
      "min_width": null,
      "object_fit": null,
      "object_position": null,
      "order": null,
      "overflow": null,
      "overflow_x": null,
      "overflow_y": null,
      "padding": null,
      "right": null,
      "top": null,
      "visibility": null,
      "width": null
     }
    },
    "b59279e1b6364d6b89c3fcba506462ad": {
     "model_module": "@jupyter-widgets/controls",
     "model_name": "DescriptionStyleModel",
     "state": {
      "_model_module": "@jupyter-widgets/controls",
      "_model_module_version": "1.5.0",
      "_model_name": "DescriptionStyleModel",
      "_view_count": null,
      "_view_module": "@jupyter-widgets/base",
      "_view_module_version": "1.2.0",
      "_view_name": "StyleView",
      "description_width": ""
     }
    },
    "bb6fdcb844aa4bb49b5ba62c9d9c1b07": {
     "model_module": "@jupyter-widgets/controls",
     "model_name": "DescriptionStyleModel",
     "state": {
      "_model_module": "@jupyter-widgets/controls",
      "_model_module_version": "1.5.0",
      "_model_name": "DescriptionStyleModel",
      "_view_count": null,
      "_view_module": "@jupyter-widgets/base",
      "_view_module_version": "1.2.0",
      "_view_name": "StyleView",
      "description_width": ""
     }
    },
    "bcb793b02c1e46d59b9ac12afb3ea667": {
     "model_module": "@jupyter-widgets/controls",
     "model_name": "FloatProgressModel",
     "state": {
      "_dom_classes": [],
      "_model_module": "@jupyter-widgets/controls",
      "_model_module_version": "1.5.0",
      "_model_name": "FloatProgressModel",
      "_view_count": null,
      "_view_module": "@jupyter-widgets/controls",
      "_view_module_version": "1.5.0",
      "_view_name": "ProgressView",
      "bar_style": "success",
      "description": "100%",
      "description_tooltip": null,
      "layout": "IPY_MODEL_08075466eae14808aa8720e6012b93ef",
      "max": 107770,
      "min": 0,
      "orientation": "horizontal",
      "style": "IPY_MODEL_bfbb1e3874c247e5a5e70e665d5a7492",
      "value": 107770
     }
    },
    "bfbb1e3874c247e5a5e70e665d5a7492": {
     "model_module": "@jupyter-widgets/controls",
     "model_name": "ProgressStyleModel",
     "state": {
      "_model_module": "@jupyter-widgets/controls",
      "_model_module_version": "1.5.0",
      "_model_name": "ProgressStyleModel",
      "_view_count": null,
      "_view_module": "@jupyter-widgets/base",
      "_view_module_version": "1.2.0",
      "_view_name": "StyleView",
      "bar_color": null,
      "description_width": "initial"
     }
    },
    "c144db0fbcb44f389b69ebc89fa0908c": {
     "model_module": "@jupyter-widgets/controls",
     "model_name": "DescriptionStyleModel",
     "state": {
      "_model_module": "@jupyter-widgets/controls",
      "_model_module_version": "1.5.0",
      "_model_name": "DescriptionStyleModel",
      "_view_count": null,
      "_view_module": "@jupyter-widgets/base",
      "_view_module_version": "1.2.0",
      "_view_name": "StyleView",
      "description_width": ""
     }
    },
    "ca698662c9094fb5b37c5ec82a07d733": {
     "model_module": "@jupyter-widgets/base",
     "model_name": "LayoutModel",
     "state": {
      "_model_module": "@jupyter-widgets/base",
      "_model_module_version": "1.2.0",
      "_model_name": "LayoutModel",
      "_view_count": null,
      "_view_module": "@jupyter-widgets/base",
      "_view_module_version": "1.2.0",
      "_view_name": "LayoutView",
      "align_content": null,
      "align_items": null,
      "align_self": null,
      "border": null,
      "bottom": null,
      "display": null,
      "flex": null,
      "flex_flow": null,
      "grid_area": null,
      "grid_auto_columns": null,
      "grid_auto_flow": null,
      "grid_auto_rows": null,
      "grid_column": null,
      "grid_gap": null,
      "grid_row": null,
      "grid_template_areas": null,
      "grid_template_columns": null,
      "grid_template_rows": null,
      "height": null,
      "justify_content": null,
      "justify_items": null,
      "left": null,
      "margin": null,
      "max_height": null,
      "max_width": null,
      "min_height": null,
      "min_width": null,
      "object_fit": null,
      "object_position": null,
      "order": null,
      "overflow": null,
      "overflow_x": null,
      "overflow_y": null,
      "padding": null,
      "right": null,
      "top": null,
      "visibility": null,
      "width": null
     }
    },
    "cb8a26a86aa54d64904270cc954ef96c": {
     "model_module": "@jupyter-widgets/base",
     "model_name": "LayoutModel",
     "state": {
      "_model_module": "@jupyter-widgets/base",
      "_model_module_version": "1.2.0",
      "_model_name": "LayoutModel",
      "_view_count": null,
      "_view_module": "@jupyter-widgets/base",
      "_view_module_version": "1.2.0",
      "_view_name": "LayoutView",
      "align_content": null,
      "align_items": null,
      "align_self": null,
      "border": null,
      "bottom": null,
      "display": null,
      "flex": null,
      "flex_flow": null,
      "grid_area": null,
      "grid_auto_columns": null,
      "grid_auto_flow": null,
      "grid_auto_rows": null,
      "grid_column": null,
      "grid_gap": null,
      "grid_row": null,
      "grid_template_areas": null,
      "grid_template_columns": null,
      "grid_template_rows": null,
      "height": null,
      "justify_content": null,
      "justify_items": null,
      "left": null,
      "margin": null,
      "max_height": null,
      "max_width": null,
      "min_height": null,
      "min_width": null,
      "object_fit": null,
      "object_position": null,
      "order": null,
      "overflow": null,
      "overflow_x": null,
      "overflow_y": null,
      "padding": null,
      "right": null,
      "top": null,
      "visibility": null,
      "width": null
     }
    },
    "cbd3daab10bb4b4db84c713f52146b1f": {
     "model_module": "@jupyter-widgets/base",
     "model_name": "LayoutModel",
     "state": {
      "_model_module": "@jupyter-widgets/base",
      "_model_module_version": "1.2.0",
      "_model_name": "LayoutModel",
      "_view_count": null,
      "_view_module": "@jupyter-widgets/base",
      "_view_module_version": "1.2.0",
      "_view_name": "LayoutView",
      "align_content": null,
      "align_items": null,
      "align_self": null,
      "border": null,
      "bottom": null,
      "display": null,
      "flex": null,
      "flex_flow": null,
      "grid_area": null,
      "grid_auto_columns": null,
      "grid_auto_flow": null,
      "grid_auto_rows": null,
      "grid_column": null,
      "grid_gap": null,
      "grid_row": null,
      "grid_template_areas": null,
      "grid_template_columns": null,
      "grid_template_rows": null,
      "height": null,
      "justify_content": null,
      "justify_items": null,
      "left": null,
      "margin": null,
      "max_height": null,
      "max_width": null,
      "min_height": null,
      "min_width": null,
      "object_fit": null,
      "object_position": null,
      "order": null,
      "overflow": null,
      "overflow_x": null,
      "overflow_y": null,
      "padding": null,
      "right": null,
      "top": null,
      "visibility": null,
      "width": null
     }
    },
    "cc95c4d4a2a344aea0d7f50126fd884f": {
     "model_module": "@jupyter-widgets/controls",
     "model_name": "FloatProgressModel",
     "state": {
      "_dom_classes": [],
      "_model_module": "@jupyter-widgets/controls",
      "_model_module_version": "1.5.0",
      "_model_name": "FloatProgressModel",
      "_view_count": null,
      "_view_module": "@jupyter-widgets/controls",
      "_view_module_version": "1.5.0",
      "_view_name": "ProgressView",
      "bar_style": "success",
      "description": "100%",
      "description_tooltip": null,
      "layout": "IPY_MODEL_d6216e470ee648e98188291c890d9344",
      "max": 1,
      "min": 0,
      "orientation": "horizontal",
      "style": "IPY_MODEL_5be54db3347648a5aba9f291f1c60a95",
      "value": 1
     }
    },
    "cc95df8f551f4cf9a7b1a6e84819c491": {
     "model_module": "@jupyter-widgets/controls",
     "model_name": "DescriptionStyleModel",
     "state": {
      "_model_module": "@jupyter-widgets/controls",
      "_model_module_version": "1.5.0",
      "_model_name": "DescriptionStyleModel",
      "_view_count": null,
      "_view_module": "@jupyter-widgets/base",
      "_view_module_version": "1.2.0",
      "_view_name": "StyleView",
      "description_width": ""
     }
    },
    "ceae93a816bd4c5f90bdda68896c397a": {
     "model_module": "@jupyter-widgets/base",
     "model_name": "LayoutModel",
     "state": {
      "_model_module": "@jupyter-widgets/base",
      "_model_module_version": "1.2.0",
      "_model_name": "LayoutModel",
      "_view_count": null,
      "_view_module": "@jupyter-widgets/base",
      "_view_module_version": "1.2.0",
      "_view_name": "LayoutView",
      "align_content": null,
      "align_items": null,
      "align_self": null,
      "border": null,
      "bottom": null,
      "display": null,
      "flex": null,
      "flex_flow": null,
      "grid_area": null,
      "grid_auto_columns": null,
      "grid_auto_flow": null,
      "grid_auto_rows": null,
      "grid_column": null,
      "grid_gap": null,
      "grid_row": null,
      "grid_template_areas": null,
      "grid_template_columns": null,
      "grid_template_rows": null,
      "height": null,
      "justify_content": null,
      "justify_items": null,
      "left": null,
      "margin": null,
      "max_height": null,
      "max_width": null,
      "min_height": null,
      "min_width": null,
      "object_fit": null,
      "object_position": null,
      "order": null,
      "overflow": null,
      "overflow_x": null,
      "overflow_y": null,
      "padding": null,
      "right": null,
      "top": null,
      "visibility": null,
      "width": null
     }
    },
    "cfbc238f7d9941efb9661b8e92654fdb": {
     "model_module": "@jupyter-widgets/controls",
     "model_name": "HTMLModel",
     "state": {
      "_dom_classes": [],
      "_model_module": "@jupyter-widgets/controls",
      "_model_module_version": "1.5.0",
      "_model_name": "HTMLModel",
      "_view_count": null,
      "_view_module": "@jupyter-widgets/controls",
      "_view_module_version": "1.5.0",
      "_view_name": "HTMLView",
      "description": "",
      "description_tooltip": null,
      "layout": "IPY_MODEL_cbd3daab10bb4b4db84c713f52146b1f",
      "placeholder": "​",
      "style": "IPY_MODEL_d4563057c35f4b4081ae18edf60aa1bb",
      "value": " 1/1 [17:54&lt;00:00, 1074.21s/it]"
     }
    },
    "d4563057c35f4b4081ae18edf60aa1bb": {
     "model_module": "@jupyter-widgets/controls",
     "model_name": "DescriptionStyleModel",
     "state": {
      "_model_module": "@jupyter-widgets/controls",
      "_model_module_version": "1.5.0",
      "_model_name": "DescriptionStyleModel",
      "_view_count": null,
      "_view_module": "@jupyter-widgets/base",
      "_view_module_version": "1.2.0",
      "_view_name": "StyleView",
      "description_width": ""
     }
    },
    "d475b67b30b54caf98ca0efe7d1b89fa": {
     "model_module": "@jupyter-widgets/controls",
     "model_name": "FloatProgressModel",
     "state": {
      "_dom_classes": [],
      "_model_module": "@jupyter-widgets/controls",
      "_model_module_version": "1.5.0",
      "_model_name": "FloatProgressModel",
      "_view_count": null,
      "_view_module": "@jupyter-widgets/controls",
      "_view_module_version": "1.5.0",
      "_view_name": "ProgressView",
      "bar_style": "success",
      "description": "100%",
      "description_tooltip": null,
      "layout": "IPY_MODEL_03737b2b33e44890bc38ea111216b70f",
      "max": 1,
      "min": 0,
      "orientation": "horizontal",
      "style": "IPY_MODEL_2c73e2ea129446838f9e880670c55855",
      "value": 1
     }
    },
    "d586fae50b94467ca57462b196c029bd": {
     "model_module": "@jupyter-widgets/base",
     "model_name": "LayoutModel",
     "state": {
      "_model_module": "@jupyter-widgets/base",
      "_model_module_version": "1.2.0",
      "_model_name": "LayoutModel",
      "_view_count": null,
      "_view_module": "@jupyter-widgets/base",
      "_view_module_version": "1.2.0",
      "_view_name": "LayoutView",
      "align_content": null,
      "align_items": null,
      "align_self": null,
      "border": null,
      "bottom": null,
      "display": null,
      "flex": null,
      "flex_flow": null,
      "grid_area": null,
      "grid_auto_columns": null,
      "grid_auto_flow": null,
      "grid_auto_rows": null,
      "grid_column": null,
      "grid_gap": null,
      "grid_row": null,
      "grid_template_areas": null,
      "grid_template_columns": null,
      "grid_template_rows": null,
      "height": null,
      "justify_content": null,
      "justify_items": null,
      "left": null,
      "margin": null,
      "max_height": null,
      "max_width": null,
      "min_height": null,
      "min_width": null,
      "object_fit": null,
      "object_position": null,
      "order": null,
      "overflow": null,
      "overflow_x": null,
      "overflow_y": null,
      "padding": null,
      "right": null,
      "top": null,
      "visibility": null,
      "width": null
     }
    },
    "d6216e470ee648e98188291c890d9344": {
     "model_module": "@jupyter-widgets/base",
     "model_name": "LayoutModel",
     "state": {
      "_model_module": "@jupyter-widgets/base",
      "_model_module_version": "1.2.0",
      "_model_name": "LayoutModel",
      "_view_count": null,
      "_view_module": "@jupyter-widgets/base",
      "_view_module_version": "1.2.0",
      "_view_name": "LayoutView",
      "align_content": null,
      "align_items": null,
      "align_self": null,
      "border": null,
      "bottom": null,
      "display": null,
      "flex": null,
      "flex_flow": null,
      "grid_area": null,
      "grid_auto_columns": null,
      "grid_auto_flow": null,
      "grid_auto_rows": null,
      "grid_column": null,
      "grid_gap": null,
      "grid_row": null,
      "grid_template_areas": null,
      "grid_template_columns": null,
      "grid_template_rows": null,
      "height": null,
      "justify_content": null,
      "justify_items": null,
      "left": null,
      "margin": null,
      "max_height": null,
      "max_width": null,
      "min_height": null,
      "min_width": null,
      "object_fit": null,
      "object_position": null,
      "order": null,
      "overflow": null,
      "overflow_x": null,
      "overflow_y": null,
      "padding": null,
      "right": null,
      "top": null,
      "visibility": null,
      "width": null
     }
    },
    "d92ca27b9178454f8028ed15542da811": {
     "model_module": "@jupyter-widgets/base",
     "model_name": "LayoutModel",
     "state": {
      "_model_module": "@jupyter-widgets/base",
      "_model_module_version": "1.2.0",
      "_model_name": "LayoutModel",
      "_view_count": null,
      "_view_module": "@jupyter-widgets/base",
      "_view_module_version": "1.2.0",
      "_view_name": "LayoutView",
      "align_content": null,
      "align_items": null,
      "align_self": null,
      "border": null,
      "bottom": null,
      "display": null,
      "flex": null,
      "flex_flow": null,
      "grid_area": null,
      "grid_auto_columns": null,
      "grid_auto_flow": null,
      "grid_auto_rows": null,
      "grid_column": null,
      "grid_gap": null,
      "grid_row": null,
      "grid_template_areas": null,
      "grid_template_columns": null,
      "grid_template_rows": null,
      "height": null,
      "justify_content": null,
      "justify_items": null,
      "left": null,
      "margin": null,
      "max_height": null,
      "max_width": null,
      "min_height": null,
      "min_width": null,
      "object_fit": null,
      "object_position": null,
      "order": null,
      "overflow": null,
      "overflow_x": null,
      "overflow_y": null,
      "padding": null,
      "right": null,
      "top": null,
      "visibility": null,
      "width": null
     }
    },
    "d9be85cd73664519a8db87111b485c16": {
     "model_module": "@jupyter-widgets/controls",
     "model_name": "ProgressStyleModel",
     "state": {
      "_model_module": "@jupyter-widgets/controls",
      "_model_module_version": "1.5.0",
      "_model_name": "ProgressStyleModel",
      "_view_count": null,
      "_view_module": "@jupyter-widgets/base",
      "_view_module_version": "1.2.0",
      "_view_name": "StyleView",
      "bar_color": null,
      "description_width": "initial"
     }
    },
    "dad0a076311142d29cf8c0e62c86f30f": {
     "model_module": "@jupyter-widgets/controls",
     "model_name": "FloatProgressModel",
     "state": {
      "_dom_classes": [],
      "_model_module": "@jupyter-widgets/controls",
      "_model_module_version": "1.5.0",
      "_model_name": "FloatProgressModel",
      "_view_count": null,
      "_view_module": "@jupyter-widgets/controls",
      "_view_module_version": "1.5.0",
      "_view_name": "ProgressView",
      "bar_style": "success",
      "description": "100%",
      "description_tooltip": null,
      "layout": "IPY_MODEL_dea1ccc1fadc458cb6b4cfdafbf77006",
      "max": 107770,
      "min": 0,
      "orientation": "horizontal",
      "style": "IPY_MODEL_4413867d1ea14d939114777de56b2a96",
      "value": 107770
     }
    },
    "dc2b6b2e8c9444eab8248267f4e78edc": {
     "model_module": "@jupyter-widgets/base",
     "model_name": "LayoutModel",
     "state": {
      "_model_module": "@jupyter-widgets/base",
      "_model_module_version": "1.2.0",
      "_model_name": "LayoutModel",
      "_view_count": null,
      "_view_module": "@jupyter-widgets/base",
      "_view_module_version": "1.2.0",
      "_view_name": "LayoutView",
      "align_content": null,
      "align_items": null,
      "align_self": null,
      "border": null,
      "bottom": null,
      "display": null,
      "flex": null,
      "flex_flow": null,
      "grid_area": null,
      "grid_auto_columns": null,
      "grid_auto_flow": null,
      "grid_auto_rows": null,
      "grid_column": null,
      "grid_gap": null,
      "grid_row": null,
      "grid_template_areas": null,
      "grid_template_columns": null,
      "grid_template_rows": null,
      "height": null,
      "justify_content": null,
      "justify_items": null,
      "left": null,
      "margin": null,
      "max_height": null,
      "max_width": null,
      "min_height": null,
      "min_width": null,
      "object_fit": null,
      "object_position": null,
      "order": null,
      "overflow": null,
      "overflow_x": null,
      "overflow_y": null,
      "padding": null,
      "right": null,
      "top": null,
      "visibility": null,
      "width": null
     }
    },
    "dd7e5c755aa8431682cc9633b8a888e6": {
     "model_module": "@jupyter-widgets/base",
     "model_name": "LayoutModel",
     "state": {
      "_model_module": "@jupyter-widgets/base",
      "_model_module_version": "1.2.0",
      "_model_name": "LayoutModel",
      "_view_count": null,
      "_view_module": "@jupyter-widgets/base",
      "_view_module_version": "1.2.0",
      "_view_name": "LayoutView",
      "align_content": null,
      "align_items": null,
      "align_self": null,
      "border": null,
      "bottom": null,
      "display": null,
      "flex": null,
      "flex_flow": null,
      "grid_area": null,
      "grid_auto_columns": null,
      "grid_auto_flow": null,
      "grid_auto_rows": null,
      "grid_column": null,
      "grid_gap": null,
      "grid_row": null,
      "grid_template_areas": null,
      "grid_template_columns": null,
      "grid_template_rows": null,
      "height": null,
      "justify_content": null,
      "justify_items": null,
      "left": null,
      "margin": null,
      "max_height": null,
      "max_width": null,
      "min_height": null,
      "min_width": null,
      "object_fit": null,
      "object_position": null,
      "order": null,
      "overflow": null,
      "overflow_x": null,
      "overflow_y": null,
      "padding": null,
      "right": null,
      "top": null,
      "visibility": null,
      "width": null
     }
    },
    "dea1ccc1fadc458cb6b4cfdafbf77006": {
     "model_module": "@jupyter-widgets/base",
     "model_name": "LayoutModel",
     "state": {
      "_model_module": "@jupyter-widgets/base",
      "_model_module_version": "1.2.0",
      "_model_name": "LayoutModel",
      "_view_count": null,
      "_view_module": "@jupyter-widgets/base",
      "_view_module_version": "1.2.0",
      "_view_name": "LayoutView",
      "align_content": null,
      "align_items": null,
      "align_self": null,
      "border": null,
      "bottom": null,
      "display": null,
      "flex": null,
      "flex_flow": null,
      "grid_area": null,
      "grid_auto_columns": null,
      "grid_auto_flow": null,
      "grid_auto_rows": null,
      "grid_column": null,
      "grid_gap": null,
      "grid_row": null,
      "grid_template_areas": null,
      "grid_template_columns": null,
      "grid_template_rows": null,
      "height": null,
      "justify_content": null,
      "justify_items": null,
      "left": null,
      "margin": null,
      "max_height": null,
      "max_width": null,
      "min_height": null,
      "min_width": null,
      "object_fit": null,
      "object_position": null,
      "order": null,
      "overflow": null,
      "overflow_x": null,
      "overflow_y": null,
      "padding": null,
      "right": null,
      "top": null,
      "visibility": null,
      "width": null
     }
    },
    "ded4eeebcea0416b9a14d08a8017c0e4": {
     "model_module": "@jupyter-widgets/controls",
     "model_name": "HBoxModel",
     "state": {
      "_dom_classes": [],
      "_model_module": "@jupyter-widgets/controls",
      "_model_module_version": "1.5.0",
      "_model_name": "HBoxModel",
      "_view_count": null,
      "_view_module": "@jupyter-widgets/controls",
      "_view_module_version": "1.5.0",
      "_view_name": "HBoxView",
      "box_style": "",
      "children": [
       "IPY_MODEL_1b321bec59bb4d43b740875f44929437",
       "IPY_MODEL_52a4f15d0bb34854b32bdbf6f26ddcc8"
      ],
      "layout": "IPY_MODEL_16ba3c1364bd4d928914fbd91cde1dea"
     }
    },
    "e89718331d4f438c906fd23a69a72942": {
     "model_module": "@jupyter-widgets/controls",
     "model_name": "HBoxModel",
     "state": {
      "_dom_classes": [],
      "_model_module": "@jupyter-widgets/controls",
      "_model_module_version": "1.5.0",
      "_model_name": "HBoxModel",
      "_view_count": null,
      "_view_module": "@jupyter-widgets/controls",
      "_view_module_version": "1.5.0",
      "_view_name": "HBoxView",
      "box_style": "",
      "children": [
       "IPY_MODEL_cc95c4d4a2a344aea0d7f50126fd884f",
       "IPY_MODEL_54c52605243b41a6b03567f74323b262"
      ],
      "layout": "IPY_MODEL_ca698662c9094fb5b37c5ec82a07d733"
     }
    },
    "e94a863c8d434116b810e91ef25268eb": {
     "model_module": "@jupyter-widgets/controls",
     "model_name": "HBoxModel",
     "state": {
      "_dom_classes": [],
      "_model_module": "@jupyter-widgets/controls",
      "_model_module_version": "1.5.0",
      "_model_name": "HBoxModel",
      "_view_count": null,
      "_view_module": "@jupyter-widgets/controls",
      "_view_module_version": "1.5.0",
      "_view_name": "HBoxView",
      "box_style": "",
      "children": [
       "IPY_MODEL_72b64618a10a42a496007ea811208c8c",
       "IPY_MODEL_ef64b741b977458691bb62ebf3756c7a"
      ],
      "layout": "IPY_MODEL_57f950b97a034a089d98b4317184c4b4"
     }
    },
    "eb70aaa766a64b2e86607fabb272eaa7": {
     "model_module": "@jupyter-widgets/controls",
     "model_name": "FloatProgressModel",
     "state": {
      "_dom_classes": [],
      "_model_module": "@jupyter-widgets/controls",
      "_model_module_version": "1.5.0",
      "_model_name": "FloatProgressModel",
      "_view_count": null,
      "_view_module": "@jupyter-widgets/controls",
      "_view_module_version": "1.5.0",
      "_view_name": "ProgressView",
      "bar_style": "success",
      "description": "100%",
      "description_tooltip": null,
      "layout": "IPY_MODEL_1ebde9ca54714f6db403759d9397b17b",
      "max": 1,
      "min": 0,
      "orientation": "horizontal",
      "style": "IPY_MODEL_31ae7cefd44444e7879cde3d56be895a",
      "value": 1
     }
    },
    "ed261abdcaf44948b1ac101e64b825f4": {
     "model_module": "@jupyter-widgets/base",
     "model_name": "LayoutModel",
     "state": {
      "_model_module": "@jupyter-widgets/base",
      "_model_module_version": "1.2.0",
      "_model_name": "LayoutModel",
      "_view_count": null,
      "_view_module": "@jupyter-widgets/base",
      "_view_module_version": "1.2.0",
      "_view_name": "LayoutView",
      "align_content": null,
      "align_items": null,
      "align_self": null,
      "border": null,
      "bottom": null,
      "display": null,
      "flex": null,
      "flex_flow": null,
      "grid_area": null,
      "grid_auto_columns": null,
      "grid_auto_flow": null,
      "grid_auto_rows": null,
      "grid_column": null,
      "grid_gap": null,
      "grid_row": null,
      "grid_template_areas": null,
      "grid_template_columns": null,
      "grid_template_rows": null,
      "height": null,
      "justify_content": null,
      "justify_items": null,
      "left": null,
      "margin": null,
      "max_height": null,
      "max_width": null,
      "min_height": null,
      "min_width": null,
      "object_fit": null,
      "object_position": null,
      "order": null,
      "overflow": null,
      "overflow_x": null,
      "overflow_y": null,
      "padding": null,
      "right": null,
      "top": null,
      "visibility": null,
      "width": null
     }
    },
    "eef585c97b3b43cb95c40414c63c5a5d": {
     "model_module": "@jupyter-widgets/controls",
     "model_name": "HBoxModel",
     "state": {
      "_dom_classes": [],
      "_model_module": "@jupyter-widgets/controls",
      "_model_module_version": "1.5.0",
      "_model_name": "HBoxModel",
      "_view_count": null,
      "_view_module": "@jupyter-widgets/controls",
      "_view_module_version": "1.5.0",
      "_view_name": "HBoxView",
      "box_style": "",
      "children": [
       "IPY_MODEL_9030821086084d579f695dcf670b46df",
       "IPY_MODEL_6bc107bbb88040b0ab53ce28c9a0b9de"
      ],
      "layout": "IPY_MODEL_d586fae50b94467ca57462b196c029bd"
     }
    },
    "ef64b741b977458691bb62ebf3756c7a": {
     "model_module": "@jupyter-widgets/controls",
     "model_name": "HTMLModel",
     "state": {
      "_dom_classes": [],
      "_model_module": "@jupyter-widgets/controls",
      "_model_module_version": "1.5.0",
      "_model_name": "HTMLModel",
      "_view_count": null,
      "_view_module": "@jupyter-widgets/controls",
      "_view_module_version": "1.5.0",
      "_view_name": "HTMLView",
      "description": "",
      "description_tooltip": null,
      "layout": "IPY_MODEL_2c5c70712bc14c9793d5e04b1367a14c",
      "placeholder": "​",
      "style": "IPY_MODEL_f0b05c106f21481a814029c307a81f10",
      "value": " 5673/5673 [08:21&lt;00:00, 11.31it/s]"
     }
    },
    "f00009cd99214664b0ac0ef076b0ae30": {
     "model_module": "@jupyter-widgets/base",
     "model_name": "LayoutModel",
     "state": {
      "_model_module": "@jupyter-widgets/base",
      "_model_module_version": "1.2.0",
      "_model_name": "LayoutModel",
      "_view_count": null,
      "_view_module": "@jupyter-widgets/base",
      "_view_module_version": "1.2.0",
      "_view_name": "LayoutView",
      "align_content": null,
      "align_items": null,
      "align_self": null,
      "border": null,
      "bottom": null,
      "display": null,
      "flex": null,
      "flex_flow": null,
      "grid_area": null,
      "grid_auto_columns": null,
      "grid_auto_flow": null,
      "grid_auto_rows": null,
      "grid_column": null,
      "grid_gap": null,
      "grid_row": null,
      "grid_template_areas": null,
      "grid_template_columns": null,
      "grid_template_rows": null,
      "height": null,
      "justify_content": null,
      "justify_items": null,
      "left": null,
      "margin": null,
      "max_height": null,
      "max_width": null,
      "min_height": null,
      "min_width": null,
      "object_fit": null,
      "object_position": null,
      "order": null,
      "overflow": null,
      "overflow_x": null,
      "overflow_y": null,
      "padding": null,
      "right": null,
      "top": null,
      "visibility": null,
      "width": null
     }
    },
    "f0b05c106f21481a814029c307a81f10": {
     "model_module": "@jupyter-widgets/controls",
     "model_name": "DescriptionStyleModel",
     "state": {
      "_model_module": "@jupyter-widgets/controls",
      "_model_module_version": "1.5.0",
      "_model_name": "DescriptionStyleModel",
      "_view_count": null,
      "_view_module": "@jupyter-widgets/base",
      "_view_module_version": "1.2.0",
      "_view_name": "StyleView",
      "description_width": ""
     }
    },
    "f0ce47dbd64149ed952eab921fa2a5b5": {
     "model_module": "@jupyter-widgets/controls",
     "model_name": "ProgressStyleModel",
     "state": {
      "_model_module": "@jupyter-widgets/controls",
      "_model_module_version": "1.5.0",
      "_model_name": "ProgressStyleModel",
      "_view_count": null,
      "_view_module": "@jupyter-widgets/base",
      "_view_module_version": "1.2.0",
      "_view_name": "StyleView",
      "bar_color": null,
      "description_width": "initial"
     }
    },
    "f3ba7fef5bce46cea01ed99ed4b6c1bb": {
     "model_module": "@jupyter-widgets/base",
     "model_name": "LayoutModel",
     "state": {
      "_model_module": "@jupyter-widgets/base",
      "_model_module_version": "1.2.0",
      "_model_name": "LayoutModel",
      "_view_count": null,
      "_view_module": "@jupyter-widgets/base",
      "_view_module_version": "1.2.0",
      "_view_name": "LayoutView",
      "align_content": null,
      "align_items": null,
      "align_self": null,
      "border": null,
      "bottom": null,
      "display": null,
      "flex": null,
      "flex_flow": null,
      "grid_area": null,
      "grid_auto_columns": null,
      "grid_auto_flow": null,
      "grid_auto_rows": null,
      "grid_column": null,
      "grid_gap": null,
      "grid_row": null,
      "grid_template_areas": null,
      "grid_template_columns": null,
      "grid_template_rows": null,
      "height": null,
      "justify_content": null,
      "justify_items": null,
      "left": null,
      "margin": null,
      "max_height": null,
      "max_width": null,
      "min_height": null,
      "min_width": null,
      "object_fit": null,
      "object_position": null,
      "order": null,
      "overflow": null,
      "overflow_x": null,
      "overflow_y": null,
      "padding": null,
      "right": null,
      "top": null,
      "visibility": null,
      "width": null
     }
    },
    "f415f347ae934a62a37673eaefc5ecba": {
     "model_module": "@jupyter-widgets/base",
     "model_name": "LayoutModel",
     "state": {
      "_model_module": "@jupyter-widgets/base",
      "_model_module_version": "1.2.0",
      "_model_name": "LayoutModel",
      "_view_count": null,
      "_view_module": "@jupyter-widgets/base",
      "_view_module_version": "1.2.0",
      "_view_name": "LayoutView",
      "align_content": null,
      "align_items": null,
      "align_self": null,
      "border": null,
      "bottom": null,
      "display": null,
      "flex": null,
      "flex_flow": null,
      "grid_area": null,
      "grid_auto_columns": null,
      "grid_auto_flow": null,
      "grid_auto_rows": null,
      "grid_column": null,
      "grid_gap": null,
      "grid_row": null,
      "grid_template_areas": null,
      "grid_template_columns": null,
      "grid_template_rows": null,
      "height": null,
      "justify_content": null,
      "justify_items": null,
      "left": null,
      "margin": null,
      "max_height": null,
      "max_width": null,
      "min_height": null,
      "min_width": null,
      "object_fit": null,
      "object_position": null,
      "order": null,
      "overflow": null,
      "overflow_x": null,
      "overflow_y": null,
      "padding": null,
      "right": null,
      "top": null,
      "visibility": null,
      "width": null
     }
    },
    "f64a56eb7da4497d8dd2bfeb5374850d": {
     "model_module": "@jupyter-widgets/controls",
     "model_name": "HTMLModel",
     "state": {
      "_dom_classes": [],
      "_model_module": "@jupyter-widgets/controls",
      "_model_module_version": "1.5.0",
      "_model_name": "HTMLModel",
      "_view_count": null,
      "_view_module": "@jupyter-widgets/controls",
      "_view_module_version": "1.5.0",
      "_view_name": "HTMLView",
      "description": "",
      "description_tooltip": null,
      "layout": "IPY_MODEL_ae3a587d1d4e49b19f3ff495839e026a",
      "placeholder": "​",
      "style": "IPY_MODEL_10706562912e41b99feb3a7e597d19a4",
      "value": " 5673/5673 [12:55&lt;00:00,  7.32it/s]"
     }
    },
    "f66a473b5b444978ac6a57b991d49e62": {
     "model_module": "@jupyter-widgets/controls",
     "model_name": "ProgressStyleModel",
     "state": {
      "_model_module": "@jupyter-widgets/controls",
      "_model_module_version": "1.5.0",
      "_model_name": "ProgressStyleModel",
      "_view_count": null,
      "_view_module": "@jupyter-widgets/base",
      "_view_module_version": "1.2.0",
      "_view_name": "StyleView",
      "bar_color": null,
      "description_width": "initial"
     }
    },
    "f6e0d7b71f9d4b8ea5bcd2bc2946ec25": {
     "model_module": "@jupyter-widgets/controls",
     "model_name": "DescriptionStyleModel",
     "state": {
      "_model_module": "@jupyter-widgets/controls",
      "_model_module_version": "1.5.0",
      "_model_name": "DescriptionStyleModel",
      "_view_count": null,
      "_view_module": "@jupyter-widgets/base",
      "_view_module_version": "1.2.0",
      "_view_name": "StyleView",
      "description_width": ""
     }
    },
    "f7be6e8aa1fa44d787849ccd64f033de": {
     "model_module": "@jupyter-widgets/base",
     "model_name": "LayoutModel",
     "state": {
      "_model_module": "@jupyter-widgets/base",
      "_model_module_version": "1.2.0",
      "_model_name": "LayoutModel",
      "_view_count": null,
      "_view_module": "@jupyter-widgets/base",
      "_view_module_version": "1.2.0",
      "_view_name": "LayoutView",
      "align_content": null,
      "align_items": null,
      "align_self": null,
      "border": null,
      "bottom": null,
      "display": null,
      "flex": null,
      "flex_flow": null,
      "grid_area": null,
      "grid_auto_columns": null,
      "grid_auto_flow": null,
      "grid_auto_rows": null,
      "grid_column": null,
      "grid_gap": null,
      "grid_row": null,
      "grid_template_areas": null,
      "grid_template_columns": null,
      "grid_template_rows": null,
      "height": null,
      "justify_content": null,
      "justify_items": null,
      "left": null,
      "margin": null,
      "max_height": null,
      "max_width": null,
      "min_height": null,
      "min_width": null,
      "object_fit": null,
      "object_position": null,
      "order": null,
      "overflow": null,
      "overflow_x": null,
      "overflow_y": null,
      "padding": null,
      "right": null,
      "top": null,
      "visibility": null,
      "width": null
     }
    },
    "f8768db7089047feb5b62e369d21e01e": {
     "model_module": "@jupyter-widgets/base",
     "model_name": "LayoutModel",
     "state": {
      "_model_module": "@jupyter-widgets/base",
      "_model_module_version": "1.2.0",
      "_model_name": "LayoutModel",
      "_view_count": null,
      "_view_module": "@jupyter-widgets/base",
      "_view_module_version": "1.2.0",
      "_view_name": "LayoutView",
      "align_content": null,
      "align_items": null,
      "align_self": null,
      "border": null,
      "bottom": null,
      "display": null,
      "flex": null,
      "flex_flow": null,
      "grid_area": null,
      "grid_auto_columns": null,
      "grid_auto_flow": null,
      "grid_auto_rows": null,
      "grid_column": null,
      "grid_gap": null,
      "grid_row": null,
      "grid_template_areas": null,
      "grid_template_columns": null,
      "grid_template_rows": null,
      "height": null,
      "justify_content": null,
      "justify_items": null,
      "left": null,
      "margin": null,
      "max_height": null,
      "max_width": null,
      "min_height": null,
      "min_width": null,
      "object_fit": null,
      "object_position": null,
      "order": null,
      "overflow": null,
      "overflow_x": null,
      "overflow_y": null,
      "padding": null,
      "right": null,
      "top": null,
      "visibility": null,
      "width": null
     }
    },
    "f891540316084eaf977d6ad78e2ddb46": {
     "model_module": "@jupyter-widgets/base",
     "model_name": "LayoutModel",
     "state": {
      "_model_module": "@jupyter-widgets/base",
      "_model_module_version": "1.2.0",
      "_model_name": "LayoutModel",
      "_view_count": null,
      "_view_module": "@jupyter-widgets/base",
      "_view_module_version": "1.2.0",
      "_view_name": "LayoutView",
      "align_content": null,
      "align_items": null,
      "align_self": null,
      "border": null,
      "bottom": null,
      "display": null,
      "flex": null,
      "flex_flow": null,
      "grid_area": null,
      "grid_auto_columns": null,
      "grid_auto_flow": null,
      "grid_auto_rows": null,
      "grid_column": null,
      "grid_gap": null,
      "grid_row": null,
      "grid_template_areas": null,
      "grid_template_columns": null,
      "grid_template_rows": null,
      "height": null,
      "justify_content": null,
      "justify_items": null,
      "left": null,
      "margin": null,
      "max_height": null,
      "max_width": null,
      "min_height": null,
      "min_width": null,
      "object_fit": null,
      "object_position": null,
      "order": null,
      "overflow": null,
      "overflow_x": null,
      "overflow_y": null,
      "padding": null,
      "right": null,
      "top": null,
      "visibility": null,
      "width": null
     }
    },
    "fa6b9ede8d814223843b77cedc73801d": {
     "model_module": "@jupyter-widgets/controls",
     "model_name": "HBoxModel",
     "state": {
      "_dom_classes": [],
      "_model_module": "@jupyter-widgets/controls",
      "_model_module_version": "1.5.0",
      "_model_name": "HBoxModel",
      "_view_count": null,
      "_view_module": "@jupyter-widgets/controls",
      "_view_module_version": "1.5.0",
      "_view_name": "HBoxView",
      "box_style": "",
      "children": [
       "IPY_MODEL_a9a8dd87a10342889522f1449861a9d0",
       "IPY_MODEL_9ac1670346c3475a800e4fd3b1164061"
      ],
      "layout": "IPY_MODEL_6ded414a3bff4c46b1cbbab67755e564"
     }
    },
    "fa92366b0aea46ca8b48bb7764f2f21d": {
     "model_module": "@jupyter-widgets/base",
     "model_name": "LayoutModel",
     "state": {
      "_model_module": "@jupyter-widgets/base",
      "_model_module_version": "1.2.0",
      "_model_name": "LayoutModel",
      "_view_count": null,
      "_view_module": "@jupyter-widgets/base",
      "_view_module_version": "1.2.0",
      "_view_name": "LayoutView",
      "align_content": null,
      "align_items": null,
      "align_self": null,
      "border": null,
      "bottom": null,
      "display": null,
      "flex": null,
      "flex_flow": null,
      "grid_area": null,
      "grid_auto_columns": null,
      "grid_auto_flow": null,
      "grid_auto_rows": null,
      "grid_column": null,
      "grid_gap": null,
      "grid_row": null,
      "grid_template_areas": null,
      "grid_template_columns": null,
      "grid_template_rows": null,
      "height": null,
      "justify_content": null,
      "justify_items": null,
      "left": null,
      "margin": null,
      "max_height": null,
      "max_width": null,
      "min_height": null,
      "min_width": null,
      "object_fit": null,
      "object_position": null,
      "order": null,
      "overflow": null,
      "overflow_x": null,
      "overflow_y": null,
      "padding": null,
      "right": null,
      "top": null,
      "visibility": null,
      "width": null
     }
    },
    "fb12073858474cfea7018a3ae5838873": {
     "model_module": "@jupyter-widgets/base",
     "model_name": "LayoutModel",
     "state": {
      "_model_module": "@jupyter-widgets/base",
      "_model_module_version": "1.2.0",
      "_model_name": "LayoutModel",
      "_view_count": null,
      "_view_module": "@jupyter-widgets/base",
      "_view_module_version": "1.2.0",
      "_view_name": "LayoutView",
      "align_content": null,
      "align_items": null,
      "align_self": null,
      "border": null,
      "bottom": null,
      "display": null,
      "flex": null,
      "flex_flow": null,
      "grid_area": null,
      "grid_auto_columns": null,
      "grid_auto_flow": null,
      "grid_auto_rows": null,
      "grid_column": null,
      "grid_gap": null,
      "grid_row": null,
      "grid_template_areas": null,
      "grid_template_columns": null,
      "grid_template_rows": null,
      "height": null,
      "justify_content": null,
      "justify_items": null,
      "left": null,
      "margin": null,
      "max_height": null,
      "max_width": null,
      "min_height": null,
      "min_width": null,
      "object_fit": null,
      "object_position": null,
      "order": null,
      "overflow": null,
      "overflow_x": null,
      "overflow_y": null,
      "padding": null,
      "right": null,
      "top": null,
      "visibility": null,
      "width": null
     }
    },
    "fbfabcbff04a461f8e58416dcf6f0e63": {
     "model_module": "@jupyter-widgets/controls",
     "model_name": "DescriptionStyleModel",
     "state": {
      "_model_module": "@jupyter-widgets/controls",
      "_model_module_version": "1.5.0",
      "_model_name": "DescriptionStyleModel",
      "_view_count": null,
      "_view_module": "@jupyter-widgets/base",
      "_view_module_version": "1.2.0",
      "_view_name": "StyleView",
      "description_width": ""
     }
    },
    "ffb3916f2c354bc79ee074f7a778e526": {
     "model_module": "@jupyter-widgets/base",
     "model_name": "LayoutModel",
     "state": {
      "_model_module": "@jupyter-widgets/base",
      "_model_module_version": "1.2.0",
      "_model_name": "LayoutModel",
      "_view_count": null,
      "_view_module": "@jupyter-widgets/base",
      "_view_module_version": "1.2.0",
      "_view_name": "LayoutView",
      "align_content": null,
      "align_items": null,
      "align_self": null,
      "border": null,
      "bottom": null,
      "display": null,
      "flex": null,
      "flex_flow": null,
      "grid_area": null,
      "grid_auto_columns": null,
      "grid_auto_flow": null,
      "grid_auto_rows": null,
      "grid_column": null,
      "grid_gap": null,
      "grid_row": null,
      "grid_template_areas": null,
      "grid_template_columns": null,
      "grid_template_rows": null,
      "height": null,
      "justify_content": null,
      "justify_items": null,
      "left": null,
      "margin": null,
      "max_height": null,
      "max_width": null,
      "min_height": null,
      "min_width": null,
      "object_fit": null,
      "object_position": null,
      "order": null,
      "overflow": null,
      "overflow_x": null,
      "overflow_y": null,
      "padding": null,
      "right": null,
      "top": null,
      "visibility": null,
      "width": null
     }
    }
   }
  }
 },
 "nbformat": 4,
 "nbformat_minor": 4
}
